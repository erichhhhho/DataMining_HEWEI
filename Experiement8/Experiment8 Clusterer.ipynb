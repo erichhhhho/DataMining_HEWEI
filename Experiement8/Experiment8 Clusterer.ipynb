{
 "cells": [
  {
   "cell_type": "code",
   "execution_count": null,
   "metadata": {},
   "outputs": [
    {
     "name": "stdout",
     "output_type": "stream",
     "text": [
      "{'token_type': 'bearer', 'scope': '*', 'access_token': '49knjP4BG4h0ZvsFDahy7wqOEH4', 'expires_in': 3600}\n",
      "https://oauth.reddit.com/r/worldnews\n",
      "<Response [200]>\n",
      "<class 'dict'>\n",
      "World's witnessing a new Gilded Age as billionaires’ wealth swells to $6tn - The world’s super-rich hold the greatest concentration of wealth since the US Gilded Age at the turn of the 20th century, when families like the Carnegies, Rockefellers and Vanderbilts controlled vast fortunes.\n",
      "Monsanto Attacks Scientists After Studies Show Trouble For Its New Weedkiller\n",
      "Shipping executive: ‘We have deliberately misled public on climate’\n",
      "As olive harvest begins, settlers flood Palestinian trees with sewage\n",
      "Twitter is banning all ads from Russian news agencies RT and Sputnik effective immediately\n",
      "Saudi Arabia criticized for giving robot citizenship, as it restricts women's rights\n",
      "Australian Deputy Prime Minister Disqualified\n",
      "Assad regime responsible for deadly sarin gas attack\n",
      "Israeli wins gold at Abu Dhabi Judo tourney, which refuses to play the anthem\n",
      "Finland wants EU to give up daylight saving time\n",
      "Former CIA director James Woolsey pitched a $10 million contract to two Turkish businessmen to help discredit a controversial U.S.-based cleric while Woolsey was an adviser to Donald Trump’s election campaign, three people familiar with the proposal said\n",
      "The World Spent $14.4 Billion on Conservation, and It Actually Worked: Between 1992-2003, that investment led to a 29 percent decrease in the rate of biodiversity decline.\n",
      "Climate change might be worse than thought after scientists find major mistake in water temperature readings. The sea was much colder than previously thought, the study suggests, indicating that climate change is advancing at an unprecedented rate.\n",
      "Two women and their dogs have been rescued after being lost at sea for five months while trying to sail from Hawaii to Tahiti. The US navy rescued the women on Wednesday after a Taiwanese fishing vessel spotted them about 900 miles south-east of Japan, well off their planned course\n",
      "x Russian Twitter Bot Targeted Maxine Waters, A Prominent Trump Impeachment Backer\n",
      "Top Trump official says U.S. isn’t offering ‘anything’ to Canada in exchange for NAFTA demands.\n",
      "Neil DeGrasse Tyson Accused of Raping a Former Student\n",
      "A new documentary claims Haribo gummy bears are made using slave labor in Brazil\n",
      "Ontario makes it illegal to protest outside and near abortion clinics - Canada\n",
      "Editors of Russia's opposition newspaper Novaya Gazeta said Thursday they were planning to give their employees weapons training and arm them with non-lethal weapons to protect themselves against possible attacks\n",
      "San Juan mayor feuds with energy firm over threat to stop work after audit request\n",
      "Australia's deputy PM disqualified\n",
      "Photographer captures the damage being done to the planet's oceans with a shocking “sea of plastic and styrofoam” image taken near a tranquil Caribbean island\n",
      "Democrats push bill to stop a Trump pre-emptive strike on North Korea | US news\n",
      "China charges upwards of 80,000 factory officials for violating pollution emission limits, closing 40% of factories\n"
     ]
    }
   ],
   "source": [
    "\"\"\"Modified by HE WEI Oct 27,2017\"\"\"\n",
    "import requests\n",
    "from requests.auth import  HTTPBasicAuth\n",
    "import getpass\n",
    "\n",
    "CLIENT_ID = \"W9WTc7PRZNE8tA\"\n",
    "CLIENT_SECRET = \"06l0-nWSDlOzDkvtCDWJm5Z0i7w\"\n",
    "USER_AGENT=\"python:datamining10 (by /u/erichhhhho)\"\n",
    "\n",
    "USERNAME=\"erichhhhho\"\n",
    "PASSWORD='<Use your own Key pls>'\n",
    "\n",
    "def login(username, password):\n",
    "    if password is None:\n",
    "        password = getpass.getpass(\"Enter reddit password for user {}:\".format(username))\n",
    "    \n",
    "    headers = {\"User-Agent\": USER_AGENT}\n",
    "    client_auth = HTTPBasicAuth(CLIENT_ID, CLIENT_SECRET)\n",
    "    post_data = {\"grant_type\": \"password\", \"username\": username,\"password\": password}\n",
    "    response = requests.post(\"https://www.reddit.com/api/v1/access_token\", auth=client_auth, data=post_data, headers=headers)\n",
    "    return response.json()\n",
    "\n",
    "token = login(USERNAME, PASSWORD)\n",
    "print(token)\n",
    "\n",
    "subreddit = \"worldnews\"\n",
    "url = \"https://oauth.reddit.com/r/{}\".format(subreddit)\n",
    "print(url)\n",
    "headers = {\"Authorization\": \"bearer {}\".format(token['access_token']),\"User-Agent\": USER_AGENT}\n",
    "response = requests.get(url, headers=headers)\n",
    "print(response)\n",
    "result=response.json()\n",
    "print(type(result))\n",
    "\n",
    "\n",
    "for story in result['data']['children']:\n",
    "    print(story['data']['title'])"
   ]
  },
  {
   "cell_type": "code",
   "execution_count": 2,
   "metadata": {},
   "outputs": [
    {
     "name": "stdout",
     "output_type": "stream",
     "text": [
      "{'token_type': 'bearer', 'scope': '*', 'access_token': '49knjP4BG4h0ZvsFDahy7wqOEH4', 'expires_in': 3600} china?\n",
      "Weekly /r/China Discussion Thread - October 23, 2017\n",
      "Post Again| I am a Chinese\n",
      "Soaking in the RMB!\n",
      "Sichuan Farmer complained to company after he washed his vegetables in a washing machine\n",
      "China's Communist party has come of age--the west should wake up. By Richard McGregor.\n",
      "Smog returns to Beijing with a vengeance. Roads forced to close.\n",
      "Kuaidi even assists in eating your food\n",
      "Professional League of Legends player beats girlfriend on live stream\n",
      "Xi Jinping Thought to be taught in China's universities | World news\n",
      "The look says it all\n",
      "Banks often serve large companies; they don’t have the ability to serve small and medium-sized enterprises (SMEs) well\n",
      "What Manchu resources. Books, audiovisual foremost, but also curious about presential classes or tutors, if only for reference\n",
      "Has Beijing not hid red alert levels yet?\n",
      "Trump on Xi: 'Now Some People Might Call Him the King'\n",
      "\"Years of Trial, Turmoil and Triumph: China From 1949 to 1988\" (English-language Chinese book published in 1989, PDF format)\n",
      "Please help me be a fatty! What comes on these fries?\n",
      "How often does it snow in Jinan in Winter?\n",
      "The 19th Chinese Communist Party Congress: Everything You Need To Know\n",
      "China lawyer recounts torture under Xi's 'war on law'\n",
      "Wang Huning: China’s ideology tsar\n",
      "McDonald's Changed its Chinese Name, and People Hate it\n",
      "On Shanghai outskirts, some residents unmoved as China unveils leadership\n",
      "Mentioning the Tiananmen Square 'Incident' in Chinese University\n",
      "Compatent Chinese Management\n",
      "Tsinghua students must pass compulsory swim test in order to graduate\n",
      "Reddit problems\n",
      "(NSFW) Kindly help as to which website was the livestream taken from. Thank you!\n",
      "Ikea apologizes to China for \"sexist\" advert created by, of course, a Chinese marketing team\n",
      "\"This Is What A 21st-Century Police State Really Looks Like\" - article detailing China's ramp-up of surveillance in Xinjiang\n",
      "Can you find your ID number on the Chinese passport?\n",
      "Father visited China and told me a bit about it... Why does everyone use fake names?\n",
      "McDonald's changes name of company in China to \"Golden Arches\" Literally\n",
      "Visa/PR options for spouse of Chinese national\n",
      "Ikea pulls satirical TV commercial after outraging China's leftover women\n",
      "China Refuses to Admit It Has a Rape Problem. I Would Know.\n",
      "What explains the rise and popularity of Jiang Zemin and the Moha memes in social media?\n",
      "China's Abandoned Wonderland\n",
      "I recently got a job in China. I have numerous tattoos and am worried about showing them to my Chinese coworkers, should I be? What is the general perception of tattoos in China?\n",
      "Xi gets 5 more years to build \"modern socialist\" China\n",
      "China Putting People On The Map\n",
      "Xi Jinping's Consolidation of Power\n",
      "China Shuts Down Tens Of Thousands Of Factories In Widespread Pollution Crackdown\n",
      "Jared Kushner and Ivanka to take a diminished role in upcoming Trump trip to China. Peter Navarro not expected to be part of the delegation at all\n",
      "The Chinese have been brainwashed.. 'gentle'?!\n",
      "Top 10 Chinese Aviation Stocks By Market Cap - Eqibeat\n",
      "Jinhua Ham: You've probably never heard of China's own Parma ham but it's pretty good\n",
      "China: collective resistance against iSlavery\n",
      "China’s Silk Road Illusions\n",
      "A \"High Speed\" Adventure to Shenzhen\n",
      "Twenty-Eight Years After - An Interview With Wang Dan\n",
      "The challenges faced by China's post-90s generation in the job market today.\n",
      "Trump congratulates Xi on being re-elected general secretary of CPC Central Committee\n",
      "China Captures and Keeps in Prison a Japanese Pokemon Go Monster\n",
      "Chinese Stealth Goes Operational, Carrier Program and Export Initiatives Accelerate\n",
      "New Politburo Standing commitee announced\n",
      "China moves to rate its citizens (funny video)\n",
      "All-male Politburo offers beacon of hope for men's rights in China\n",
      "Watching shows with English subtitles behind the firewall?\n",
      "Why is the traffic so bad in Shenzhen?\n",
      "Was Xi Jinping's 19th Congress Speech Signaling that Chinese Leadership is Buckling Down and Preparing for the Worst?\n",
      "Visiting China as an ABC, does anyone live in Fuzhou?\n",
      "President Xi Jinping's New Political Ideology To Become Part of Compulsory Education Requirements\n",
      "Western media is still wrong. China will continue to rise.\n",
      "Xi Jinping has no opposition now\n",
      "Salt-cured dogues of Maoshan, Jiangsu\n",
      "What Would China Look Like Today Had Zhao Ziyang Survived?\n",
      "Airbnb China market head quits after 4 months.\n",
      "Protest after Western media 'troublemakers' barred from Xi Jinping speech\n",
      "[Discussion] Which non-oriental countries culture do you think is most similar to China's?\n",
      "Has reddit been blocked?\n",
      "Xi Jinping signals intent to remain in power by revealing politburo with no successor\n",
      "Has anyone managed to open a personal Hong Kong bank account while living in China?\n",
      "China Refuses to Admit It has a Bird Problem. I would Know\n",
      "The Seven Men Who Will Rule China for the Next Five Years\n",
      "How to invest in China?\n",
      "Can my husband get a work permit on a spousal visa?\n",
      "China in the Balkans: the battle of principles\n",
      "South Xinjiang Railway\n",
      "Good dentist in Zhuhai? Or should I take a ferry to Hong Kong for a dentist appointment?\n",
      "Xi Jinping written formally into constitution, elevated to the level of Mao in Communist pantheon\n",
      "Stone house on Pingtan Island, Fujian\n",
      "Help with trasnlating my Chinese dead Grandpa.\n",
      "(Villages of Fujian) in this picture we have a local who is harvesting a vegetable called (oon yai) in fujianese or known in English as water spinach. Also visible are Banana trees. He points to the mountains to warn me about potential mountain lions after learning that I intend to hike up there.\n",
      "Do any of you guys have Chinese girlfriends?\n",
      "(Nanlingzhen, Fujian) Where I live.\n",
      "Xi Jinping 'most powerful Chinese leader since Mao Zedong' - BBC News\n",
      "Is the Jinshaling Great Wall still closed?\n",
      "Big data meets Big Brother as China moves to rate its citizens\n",
      "Asking out a Chinese girl over wechat: In your opinion, is it best to send a text message, voice message, or voice call?\n",
      "Great Wall Of China\n",
      "Is anyone else having issues with Aliyun's HKb?\n",
      "Anyone has seen the full English translation of Xi’s speech?\n",
      "Thanks to the Chinese God | Zhangzhou, Fujian\n",
      "China Plainclothes Policemen Starting Their Secret Duty Patrol\n",
      "China awaits Xi's top appointments\n",
      "Group of Mid-aged Chinese people dancing\n",
      "did the Chinese release of Kingsman 2 survive the censors?\n",
      "Why do Chinese people treat each other like sh*t at work?\n",
      "Recipe: Sichuan Shuizhu Beef (水煮牛肉)\n",
      "Everything We Think We Know About Chinese Finances is Wrong\n",
      "Trump sought dissident's expulsion after hand-delivered letter from China | World news\n",
      "Please Help !Dads in China, Needs Help Finding Local Businesses that make Small Freezer\n",
      "China Invents Rice That Can Grow in Salt Water, Can Feed Over 200 Million People\n",
      "China’s Famous Tiananmen Square\n",
      "2nd World Congress on Marxism to be held in Beijing\n",
      "What is this food or snack called again?\n",
      "Xi 'most powerful leader since Mao'\n",
      "BBC World News cuts out during report on China\n",
      "China total deficit above 14% of GDP\n",
      "Genuine question, not trying to offend anyone... but why do mainlander men incessantly jump and snap twigs and leaves off trees?\n",
      "Chinese Animation's Tragic History\n",
      "Mondeo vs. Supreme/Rebellious Chinese/American Teen/Die For Your Country In Africa\n",
      "The \"subversive\" map that infuriated the Chinese engineer...\n",
      "Seeking advice about where/how to get epipens for allergies\n",
      "Lotte China goes down: On Sanctions, Boycotts, and Freedom Fries\n",
      "Orville Peck - \"Dead Of Night\"\n",
      "China's Xinjiang Residents Are Being Forced to Install Surveillance Apps on Mobile Phones\n",
      "Xbox Live in China\n",
      "NSFW Milk Dog. Spotted in rural China\n",
      "Nanjing hi-fi\n",
      "Apparently, I'll die in China\n",
      "No whatsapp? no viber? Alternative? Rant\n",
      "Drunken Brit husband gets huge Chinese tattoo inked across forehead to express his love\n",
      "What&amp;amp;#x27;s the life that China&amp;amp;#x27;s young people really desire?\n",
      "Is Halloween a thing in China and if so what's it like?\n",
      "Chinese former elite sports physician suggests doping in China is systemic, organized and massive.\n",
      "Chinese economic power will dominate the 21st century\n",
      "CRISPR Bacon: Chinese Scientists Create Genetically Modified Low-Fat Pigs\n",
      "Chinese people can't find China on a map\n",
      "China lifts ban on stinky cheese\n",
      "China's Communist Party enshrines Xi Jinping Thought in constitution\n",
      "China speeds ahead of U.S. as quantum race escalates, worrying scientists\n",
      "Hengshui to offer free bus service to cut car emissions - People's Daily Online\n",
      "TIL that the Chinese Communists massacred thousands of Japanese rebels during the Tonghua Incident of 1946\n",
      "What do you guys recommend watching, preferably with Chinese and English subtitles, that can help me improve my Chinese?\n",
      "Xi Jinping confirmed as China's most powerful leader since Mao\n",
      "Reality Check: Are women welcome in Chinese politics?\n",
      "The Wall Street Journal article on the China-U.S. spy war surrending Guo WenGui [archive.is]\n",
      "China: Where natural gas market could boom next\n",
      "Every Shady ESL School in China\n",
      "Opening a Bar in China\n",
      "Need to pull out wisdom teeth in Beijing. Advice and where?\n",
      "16 hour layover in China, Yunnan Sheng, Kunming Shi, Guandu Qu what can we do?\n",
      "My observations of China from a recent visit. The country is buzzing\n",
      "Signal to CNN (again) cut of yesterday in China when a possible Xi Jinping 3rd term was discussed (according to Danish journalist)\n",
      "America's Diminishing Economic Power: Interview with Tyler Cowen about US, China and the future world order\n",
      "Xi Jinping has positioned China as a stable, responsible alternative to an erratic, inward-looking U.S. - New York Times\n",
      "How can journalists report on China?\n",
      "Raids on marijuana grow houses in California often find Chinese ‘farmers’ inside.\n",
      "Did Xi have any competitors for his position in 2010-2011?\n",
      "/r/China just passed 48'000 subscribers - I made this screenshot to prove I was there on that fateful day when... Did anything interesting happen today?\n",
      "China's Pursuit of Fugitive Businessman Guo Wengui Kicks Off Manhattan Caper Worthy of a Spy Thriller\n",
      "[Research/Question] Civil society groups in China\n",
      "Honest question about having sex in China (update)\n",
      "Tesla has reached a deal to build a factory in China\n",
      "Big data meets Big Brother as China moves to rate its citizens\n",
      "Chinese villager finds the ‘king of mushrooms’\n",
      "Futuristic Photos From Around China &amp; More\n",
      "‘Good morning, it’s the Communist Party' Loudspeakers in China take Xi’s ideological campaign to new levels\n",
      "Sexual Heath Clinic in Beijing?\n",
      "Are VPNs allowed in China\n",
      "Real talk: What is your plan if events do critically escalate around North Korea?\n",
      "The Average Face of Chinese Bureacracy [OC]\n",
      "Ancient Chinese Secret.\n",
      "Chinese propaganda faces stiff competition from celebrities\n",
      "Systematic doping of Chinese athletes in Olympic Games revealed by former doctor\n",
      "'Impossible To Save': Scientists Are Watching China's Glaciers Disappear\n",
      "[OC] Above a Shenzhen highway at night.\n",
      "Chinese university sites\n",
      "Meeting Dalai Lama a major offence, China warns world leaders\n",
      "The Path to Power In China\n",
      "Why the Biggest Bitcoin Mines Are in China - The heart of Bitcoin is now in Inner Mongolia, where dirty coal fuels sophisticated semiconductor engineering\n",
      "Why TF would they block The Weather Channel?!\n",
      "China creates artificial star 8,600 times hotter than sun’s surface\n",
      "How do I meet rich Chinese people In GZ who I can hang out with ?\n",
      "Monthly salary of white collars rises to 7,599 yuan\n",
      "Thoughts on pocket wifi vs sim cards?\n",
      "The Communist App Store: China's endless apps for tracking, organizing, and motivating party members\n",
      "What are the odds that any effort put into China as a foreigner is wasted?\n",
      "China says no excuses for foreign officials meeting Dalai Lama\n",
      "My last video on my trip to china\n",
      "Ahh, the Good 'Ol Days...\n",
      "Xinjiang a \"Frontline Laboratory for Surveillance\" - China Digital Times (CDT)\n",
      "How do I use my UnionPay card on Amazon?\n",
      "Chinese Communist Propaganda in the Modern Era\n",
      "China’s first algorithm solver is competing with the top ones in the world\n",
      "Chinese Mobile League / 王者荣耀 （WangZheRongYao) English players wanted (Android) for team.\n",
      "Analysis of China's one-child policy sparks uproar\n",
      "Chinese propaganda faces stiff competition from celebrities\n",
      "Is it possible to become a daigou as an expat? Worth it?\n",
      "Why do essay writing services are so popular among Chinese students?\n",
      "China's Eight Great Regional Cuisines | Henkubao\n",
      "Can anyone identity this liquor for me?\n",
      "Communist Party of China official urges China, Japan to improve ties\n",
      "China offers support to Spanish government amid Catalonia crisis\n",
      "Xi Jinping Has Quietly Chosen His Own Successor\n",
      "WhatsApp is back! Woohoo\n",
      "A SAFEA registered list\n",
      "Chinese Kidnapping of Vietnamese Fishermen in the South China Sea: a Primary Source Analysis | Asia Maritime Transparency Initiative\n",
      "Coup Conspiracy: Are there any corroborating sources for this story?\n",
      "China's rising authoritarianism has a stark human cost\n"
     ]
    },
    {
     "name": "stdout",
     "output_type": "stream",
     "text": [
      "How Chinese scientists used a supercomputer to solve the ancient puzzle called the Three Body Problem\n",
      "It's party congress time for the People's Republic and Dada Xi is illustrating his vision of China. Here is ours.\n",
      "Over my dead body. Gimme waaaayyyyyyy\n",
      "Another coin-tossing passenger causes flight chaos in China\n",
      "When you find yourself agreeing with GW Bush\n",
      "How Do I send a link to my QQ File Hub\n",
      "Request. Does anybody have a link to an English translation for the whole of Xi Jinping's recent speech?\n",
      "Chinese food health and safety. (vpn)\n",
      "Can somebody help me to identify a Chinese song?\n",
      "Five Reasons to Hate China\n",
      "Who wants the boy child more in China's 1 child family, the mother or the father?\n",
      "Getting a wisdom tooth removed at a Chinese public hospital a few days ago. Notice my clenched fists. Never felt so much pain in my life.\n",
      "Twitch streaming in China\n",
      "Study: Pollution kills 9 million a year, costs $4.6 trillion\n",
      "Woe is Me TEFL China Experience\n",
      "The gift that keeps on giving\n",
      "Which of these cities is the best for dating?\n",
      "China's bank chief warns of a 'sharp correction'\n",
      "China blue\n",
      "Flight canceled as woman tosses coins in aircraft engine in China\n",
      "Potential new copypasta?\n",
      "Seems like they finally found a solution to Beijing's air pollution problem\n",
      "New pedestrian reduction methods.\n",
      "Question about Chinese characters: Some are dedicated to pronunciation and others have meaning?\n",
      "Wang Huning’s Neo-Authoritarian Dream\n",
      "Top 10 Guan Dao Techniques (Number 8 will shock you)\n",
      "Do you believe in chinese gods and why?\n",
      "Bossy Locals?\n",
      "Dude, WTF!? I'm hungry.\n",
      "Wing Chun Kungfu Met Brazilian Jiu-jitsu In a China Set Challenge\n",
      "100% chance US, Japan would help Taiwan if China attacks: researcher\n",
      "Elderly passenger tosses coins into plane's engine, grounding flight at China airport - Channel NewsAsia\n",
      "Xi Jinping's War On Poverty Moves Millions Of Chinese Off The Farm\n",
      "U.S. senators ask Apple why it removed VPNs from App Store in China\n",
      "Top Chinese officials 'plotted to overthrow Xi Jinping' [BBC]\n",
      "Reminder for Xbox users in China: Taobao code scams\n",
      "New bird flu strain from China could cause global pandemic\n",
      "terrorists are using chinese grenades in kashmir, good news is they dont explode.\n",
      "Someone walked up to me in Starbucks and handed me this. It's a self-help book with no less than 6 different fonts. It's the funniest thing I've seen in a while.\n",
      "UK struggling to get 5,000 young people fluent in Mandarin.......by 2020\n",
      "Why no 24 hour subways?\n",
      "”We are obsessed with Brexit and Trump: we should be thinking about China\"\n",
      "Workers At iPhone Supplier In China Protest Unpaid Bonuses\n",
      "what do you think of China as of 2017\n",
      "China Uses ‘Digital Leninism’ to Manage Economy and Monitor Citizens\n",
      "The Chinese Exclusion Act is Back, But Now It's Called the RAISE Act\n",
      "New Zealand MP embroiled in Chinese influence controversy worked in Australian Parliament\n",
      "Massive Tea and Buddhism Fair in Xiamen, China\n",
      "Wuhan Guanggu metro security check, Friday evening\n",
      "How China Hides Its Infrastructure Debt - WSJ (aka hostile foreign force)\n",
      "Travel with PSB Receipt\n",
      "The shit I put up with\n",
      "Endangered Yunnan Snub-Nosed Monkey\n",
      "Chinese government takes small stakes in online companies\n",
      "Meet the pair poised to become two of China’s most powerful men\n",
      "Help with wechat pay\n",
      "Tencent Comes Up With a Novel Way to Applaud China's President\n",
      "Beijing’s 3rd Ring Road in 60 seconds\n",
      "It's been noted that during the Qin Dynasty and onward, music from around the country was to be collected. Is there anywhere I can listen to some recordings of this music?\n",
      "China work visa card\n",
      "When you are sick and you still have to listen to Xi Dada\n",
      "How one becomes a central committee member in CCP\n",
      "It took me few days to realize it, too. What have you done to me China?\n",
      "LTE Series 3 Apple Watch cut off from networks in China, possibly forced by the government to cease service\n",
      "Coup plotted foiled: Xi Jinping fended off threat to 'save Communist Party'\n",
      "They did it! The Chinese government met their target of 6.8% GDP Growth, yet again!\n",
      "Traditional Chinese birthdays\n",
      "China Media Bulletin: Beijing's foreign meddling, censorship innovation, HK campus tensions\n",
      "Herbal remedies embraced by naturopaths, alt med widely linked to liver cancers\n",
      "Did China ever use fear mongering tactics to deter families from having second or third children?\n",
      "The Resistible Rise of Xi Jinping: China's president radically changed his country, and the Communist Party, through skill, determination — and a series of lucky breaks.\n",
      "How can I watch youku in US?\n",
      "[OC] Crazy Shenzhen clouds after Sunday's storm (time-lapse)\n",
      "The Chinese Communist Party wants to 'build' its presence inside foreign companies; (is this the opening up that Xi mentioned?)\n",
      "A Documentary about how hiphop got into China (English Subtitle)\n",
      "China Sending Pedophile Laowai Back to US\n",
      "陳小春不希望jasper進娛樂圈，《爸爸去哪兒5》後就拜拜\n",
      "You are back home, how did you improve your CV?\n",
      "Children of Detained Uyghurs Face ‘Terrible’ Conditions in Overcrowded Xinjiang Orphanages\n",
      "Man roasts live puppy so he can eat it in China\n",
      "Blue sky, white clouds, and birds on the wires. Hefei 2017.10.20\n",
      "PLA is being 'tailor-made' to invade Taiwan\n",
      "Tillerson raps China as 'predatory' rule breaker\n",
      "What roads am I allowed to cycle on?\n",
      "China's Plan to Buy Influence and Undermine Democracy\n",
      "Effects of acute alcohol consumption on self-ratings and observer ratings of foreign language skills\n",
      "Chinese Double Standards in the Maritime Domain: Beijing clearly understands its maritime rights, but does not necessarily tolerate and accept the same rights for others.\n",
      "Why Mao's Cultural Revolution still haunts Xi Jinping's China - RN\n",
      "How democratic is China in the public election sense?\n",
      "China Rolling Out Red Carpet for Laowai\n",
      "So how about this new law giving pedestrians the right of way? Is that correct? And what of all the trikes and bikes that still go around unregulated?\n",
      "Hiring not part of Alibaba pledge to create US jobs\n",
      "'A free and open Indo-Pacific': US flags pact with Australia-Japan-India\n",
      "Blogs and Info about Chongqing\n",
      "China’s Xi Feeds Expectations for a Lengthy Reign\n",
      "A Clash of Kings\n",
      "Weird sleeper train experiences?\n",
      "“LimeBike”, a Chinese bike sharing company in US that even received investments from NBA star Kevin Durant.\n",
      "China says foreign firms welcome benefits from internal Communist Party cells\n",
      "What Took China So Long to Master Ballpoint Pens?\n",
      "Highlights of Xi's speech, translated.\n",
      "What other cultural concepts should China let go of?\n",
      "About 70% of China's \"missing girls\" is due to not registering their births. As these girls are now turning 18 and going to college or working, the early phase of about 20 million teen girls materializing on the census out of nowhere. (x-post /r/truereddit)\n",
      "Can somebody please phonetically spell out, so I know how to pronounce, the last name Liu. Thank you!\n",
      "At the Communist Party Congress, Xi Jinping Plays the Emperor\n",
      "An interview for the legendary Chinese rapper MC Jin\n",
      "China Is Building Mobile ICBMs (But Is America Paying Attention?)\n",
      "Xinjiang 2017 | This Is What A 21st-Century Police State Really Looks Like\n",
      "Association of merchants affected by chinese cheaters\n",
      "A Feast for Crows\n",
      "Instructions unclear, penis stuck in wrench\n",
      "Bar arcade recommendations\n",
      "E-sport is not only limited in pc game LOL, DATA, now in China there are VR E-sports which is a break outs for bar owners.\n",
      "A rare picture taken at the 19th National Congress of the Communist Party of China\n",
      "An online game that makes people clap for Xi Jinping has gone viral today\n",
      "China Focus: Ancient child tombs found in China\n",
      "No matter what Taiwan does, China continues invasion plans: researcher\n",
      "Xi Jinping tests eyelids – and bladders – with three-and-a-half hour speech\n",
      "How is Xining and Qinghai?\n",
      "Breaking: China Moves To Kill The Petrodollar\n",
      "Are there any BS degrees actually worth getting in China?\n",
      "How does one ask \"What is a good Chinese farm book?\" in Chinese? 中国农场书\n",
      "A Chinese Celebrity diss the host in an interview about hip-hop environment in China. Do you think he's rude or he's just being real? (English Subtitle)\n",
      "How awesome would it be if everyone in the NPC dressed in traditional attire?\n",
      "Xiamen TV decides to not live broadcast Xi's speech today.\n",
      "China’s 19th Party Congress and How the Mighty Xi Jinping Could Fall\n",
      "North Korea Update: China's 19th Congress Opens without (missile) fanfare\n",
      "China&amp;amp;apos;s Communist Party elders picked Xi Jinping because they thought they could control him. They were wrong\n",
      "Do you think these guys are just being nice or they really like what they hear?\n",
      "ESL company withholding pay\n",
      "Why Do We Keep Writing About Chinese Politics As if We Know More Than We Do?\n",
      "Xi Jinping: 'Time for China to take centre stage'\n",
      "5 things to know about China's twice-a-decade party congress\n",
      "Why Sick Chinese Swap Pills for Pears, Tea, and Ginger\n",
      "Xi Jinping heralds 'new era' of Chinese power at Communist party congress\n",
      "Taking a Bicycle on the Train - I know, Consignment or Express - Anyone have experience doing it?\n",
      "Bike Sharing in China - Mobike, Ofo...\n",
      "La La Land Opening Scene Cover by Xiamen Foreign Language School\n",
      "Xi Jinping declares China's intent to be a 'leading power' by 2050\n",
      "Online source for Youmai noodles in the US? (Cheaper than Amazon)\n",
      "In Xi's Vision for China, 'Environment' Edges Out 'Economy'\n",
      "Chinese man lands nine months in prison for terrorist joke\n",
      "In Defense of Difficult Art at the Guggenheim (brutalism in modern Chinese art)\n",
      "As Party Gathers, Xi Jinping Displays a Firm Grip on Power\n",
      "My company is helping me apply for a work visa, but I don't have 2 years of work experience outside China. What do I do?\n",
      "[Audio] The Economics Behind China's Crackdown On Civil Society\n",
      "China congress: Why Beijing has banned hot air balloons? - BBC News\n",
      "Xi Plans to \"Turn China Into a Leading Global Power by mid-21st century\"\n",
      "Jinhua or Wuxi ?\n",
      "WeChat profile changes banned and other tech mess ahead of 19th National Congress\n",
      "China pioneers rice grown in seawater, aims to boost harvest by 20 per cent\n",
      "For people who may plan to do business in China. Some suggestion about how should you play against Tencent\n",
      "Getting a glimpse into China's Communist Party Congress (Photo Gallery)\n",
      "\"The Foreigner\" Movie Review - Film Summary (2017) | Roger Ebert\n",
      "New traffic reduction methods.\n",
      "Car Buffs - 2013 Nissan Rogue = ?????\n",
      "Why China Has No Science, \"because according to her own standard of value she does not need any.\" Published 1922\n",
      "Rumors that Eddie Peng is having gay affair with investment firm CEO set Chinese internet ablaze\n",
      "$14 million Chinese gladiator fighting robot \"The Monkey King\".\n",
      "A dazzling spectacle of China's totalitarianism\n",
      "First Ever Indictments Against Designated Chinese Manufacturers of Deadly Fentanyl and Other Opiate Substances\n",
      "Mandarin in Beijing sounds atrocious\n",
      "You're on the subway. You arrive at your stop, positioned by the doors. The doors open. There is someone in your way trying to get on. Do you...\n",
      "Oh no, where shall Xi DaDa go for steamed buns?\n",
      "Hepu-Napo Expressway, Guilin, China [1937 × 1227]\n",
      "Respect academic freedom, Aus tells Chinese students\n",
      "China’s Xi Initiates To Build ‘Modern Socialist Country’\n",
      "Popular Chinese characters from cartoons, games or comics?\n",
      "The internet is now totally fucked\n",
      "How China’s Financial Cracks Could Spread\n",
      "China state media attacks Western democracy ahead of Congress\n",
      "If you wonder how are used all those CCTV on ever corner (recommended watching Person of interest)\n",
      "Do married Chinese woman wear wedding rings?\n",
      "100 Chinese terms to know for the 19th Party Congress\n",
      "Recipe: How to Make Yangzhou Fried Rice (扬州炒饭)\n",
      "Coming of age in an era of prosperity: Meet China's 'bubble generation' [Reuters]\n",
      "MMA \"Orphan\" in Szechuan. A MMA club in Chengdu adopt more than 400 village kids that lost their parents' support and could depend on No one. Their dream is to win UFC\n",
      "Canadian-Egyptian waiguo teacher willing stooge for China Daily, claiming sexual harassment doesn't exist in China.\n",
      "Propaganda Reaches Fever Pitch as China's Congress Nears\n",
      "1.3 Billion People Are in One Man's Grip\n",
      "Anger as Chinese media claim harassment is just a western problem - State newspaper says China does not have Harvey Weinstein-type predators because ‘men are taught to be protective of women’\n",
      "How China’s Economic Shock Therapy is Shaking Up Commodities\n",
      "'Ugly and unsuccessful' man who amazed millions with his gorgeous Ukrainian wife sets up international dating club to help Asian bachelors find pretty European girlfriends (Xpost CCJ)\n",
      "China's Scientists Set New International Record -- For Faked Peer Reviews\n",
      "Hotel in China's Shenzhen Fined For Breaking Muslim Uyghur Guest Ban\n",
      "In China women 'hold up half the sky' but can't touch the political glass ceiling | World news\n",
      "How Will China Select Its New Leaders At Its Communist Party Congress?\n",
      "Unique fruits or vegetables, specialty foods to try in Guangzhou?\n",
      "Studying in Nanjing or Xiamen university.\n",
      "Need help hiring an I.T. company\n",
      "Another overview of the National Congress (It's good to have multiple sources &amp; viewpoints)\n",
      "Filial Piety in Chinese Culture\n",
      "This place in Shenzhen is using Hitler to sell chicken.\n",
      "In China, Xi's millennials open up about pressures and dreams\n",
      "Is Mastodon blocked?\n",
      "Need an I.T. company in China\n",
      "My bus driver thought I was a criminal or something?\n",
      "I need a favor. Can I use your phone number?\n",
      "Getting a credit card in China\n",
      "How people in Asia-Pacific view China\n"
     ]
    },
    {
     "name": "stdout",
     "output_type": "stream",
     "text": [
      "WeChat got a VPN Server blacklist\n",
      "A video of a performance match of the 2017 Chinese University student Kong Fu Tournament\n",
      "China, China, China, China: US President Donald Trump to visit Beijing in November\n",
      "What will North Korea do for the opening of China’s big government meeting?\n",
      "How to Make a Viral WeChat Post\n",
      "I &lt;3 China.\n",
      "Need help, being evicted on the 19th October\n",
      "1 minute in Zhangjiajie National Forest Park 张家界 (Avatar inspiration)\n",
      "can you suggest some neutrality overseas news website about Chinese economics and politics?\n",
      "19h congress meeting, what is happening?\n",
      "HK Right of Abode\n",
      "China offers to buy 5 percent of Saudi Aramco directly\n",
      "Please help me find the name of this Chinese cough medicine!\n",
      "[Video] China and Hong Kong - Drone Flyover\n",
      "Five Adventurous Activities In Qingdao\n",
      "Living with Reverse Culture Shock, What Happens When You Leave China.\n",
      "Is there a way to handwrite Chinese in Windows 10?\n",
      "Wanna go to the mall in Xinjiang? You'll need to show ID. (中文)\n",
      "School of Dumplings?\n",
      "Chinese nationalism reached a new low tonight\n",
      "Honest question about having sex in China.\n",
      "sorry if i’m late to the party, but i heard that China wants to ban all VPNs by february 2018. will this definitely happen and does this mean every single VPN? (even expressvpn)\n",
      "Canadian \"educator\" says sexual harassment is less common in China because of \"traditional values\"\n",
      "For the harmonious society, don't dial 110 in October\n",
      "Fake paperwork, poor parts challenge China's aerospace boom\n",
      "Alibaba and JD, the two Chinese e-commerce giants are having a retail war. Who's gonna win?\n",
      "I am back in China visiting after living here for a year and I'm wondering if I romanticized my experience as a defense mechanism. Has anyone experienced the same thing?\n",
      "Question about communist china\n",
      "Shadowsocks get blocked in China today?\n",
      "Content allowed on baidu?\n",
      "Two hour long ques at Beijing metro station due to government meeting\n",
      "A Record of 709 - human rights lawyer Xie Yanyi recounts his 553 days in secret detention in Tianjin as part of the still ongoing 709 crackdown\n",
      "Where is China’s development finance really going?\n",
      "Ask /r/China. Has any of you foreigners in China complained about the Internet restriction to your local ISPs?\n",
      "Anyone familiar with Suzhou? In particular the student life in Suzhou?\n",
      "Worth visiting Beijing during the Plenum?\n",
      "How to Transfer Money from an American Bank account to a Chinese Bank?\n",
      "Guiyang, Guizhou?\n",
      "Li KaShing is pulling out.\n",
      "Flying to China with motion sickness\n",
      "Does anyone know what this is? Help is appreciated :)\n",
      "UK lawyers say Hong Kong rule of law under threat after jailing of activists\n",
      "Discuss.\n",
      "Official anthem of the Laowai Autonomous Region\n",
      "Watching Donald Trump Say China For 40 Mins\n",
      "Human Rights in China Worsen as Beijing Extends Reach to Hong Kong: Report\n",
      "Where can I get the best ahi poke bowl in Shanghai?\n",
      "Commitments\n",
      "China’s first space station, Tiangong-1, is doomed to plummet into Earth within the coming months.\n",
      "Weekly /r/China Discussion Thread - October 16, 2017\n",
      "Gaurds &amp; Point Gaurds\n",
      "The ideological war playing out on China's internet\n",
      "To Inspire Young Communists, China Turns to ‘Red Army’ Schools\n",
      "China's Central Bank Chief Warns Corporate Debt Is Too High\n",
      "LOL China just blocked all unregistered UDP connections...?\n",
      "Thinking about maybe buying an iPhone in China\n",
      "China confirms will amend party constitution, likely to include Xi's theories\n",
      "China up close: Japan and China send sweet words, for now- Nikkei Asian Review\n",
      "How bad is it to steal a trolly and dump it in a river?\n",
      "Famous warriors group from china?\n",
      "Chinese students are being drawn to America’s faith-based universities\n",
      "Is there really less corruption in China after Xi's anti-corruption campaign?\n",
      "Where to buy phone online in China?\n",
      "Fruit, prawns off the menu at China's austere party Congress\n",
      "Foreign Torrents now banned in China\n",
      "Help with Aliyun shadowsocks server\n",
      "Insane amount of business debt in China, what can I do?\n",
      "The Town at the Heart of China’s Black Market in Ivory\n",
      "What offensive eating habits do Westerners have?\n",
      "Anyone use Popcorn Time to watch movies/TV?\n",
      "Tiger Leaping Gorge with a small kid\n",
      "Up to 90% of Chinese Exchange Students Have Hired Essay Ghostwriters - Why is this so common?\n",
      "current consensus on vpn/gfw bypass?\n",
      "The LAST chance of seeing Chinese on free Internet\n",
      "Two unrelated questions\n",
      "Does China need to rebrand itself?\n",
      "Hot water tank gets cold fast\n",
      "Chairman Xi crushes dissent but poor believe he’s making China great\n",
      "Rooftopping – climbing high in Shanghai | DW Documentary\n",
      "No longer can live stream from Australia\n",
      "Using: A 2009 documentary in heroin use in China\n",
      "China's first blind cinema shows over 600 films for the vision-impaired\n",
      "Fat Shady (Xie Di) - Fuck Off Foreigners (Gua Laowai) [CLASSIC JAM]\n",
      "In China women 'hold up half the sky' but can't touch the political glass ceiling | World news\n",
      "Any similar blogs to Sex and Shanghai (Chinabounder blog)?\n",
      "FOTAN LAIKI - \"🔥火炭麗琪🔥\" ft. YoungQueenz【MV】\n",
      "GUNGCHI (公廁) / N.O.L.Y &amp; YoungQueenz【MV】\n",
      "How do I buy an iPhone X clone from china?\n",
      "Beijing Philanthropist Commits $1.5 Billion to Conservation\n",
      "Food in China that doesn't contain soy\n",
      "Chinese graduates and undergraduates are targeted by scam job and study offers, pyramid schemes etc.\n",
      "China Focus: China's Good Samaritan law goes into effect - Xinhua\n",
      "Why is Chinese online novel gaining more are more popularity in Western communities?\n",
      "Transformative Payment vs. Payment system launched: Yuan and Ruble\n",
      "Mandarin rapidly becoming a global language\n",
      "China Eyeing Structural Reforms Amid Spike in Economic Growth\n",
      "In China, the war on coal just got serious\n",
      "Test post: is Reddit and Streamable working in China?\n",
      "What if I told you that it's my job to bash the CCP on /r/china?\n",
      "The West should stop worrying about China’s AI revolution\n",
      "[('Weekly /r/China Discussion Thread - October 23, 2017', 'https://www.reddit.com/r/China/comments/783c2a/weekly_rchina_discussion_thread_october_23_2017/', 5), ('Post Again| I am a Chinese', 'https://www.reddit.com/r/China/comments/791l14/post_again_i_am_a_chinese/', 18), ('Soaking in the RMB!', 'https://pbs.twimg.com/media/DNDl4Z8XkAEZDyl.jpg', 337), ('Sichuan Farmer complained to company after he washed his vegetables in a washing machine', 'http://www.visiontimes.com/2017/09/06/rural-chinese-washing-machines-used-to-clean-vegetables-and-gourds.html', 9), (\"China's Communist party has come of age--the west should wake up. By Richard McGregor.\", 'https://www.theguardian.com/world/2017/oct/25/chinas-communist-party-has-come-of-age-the-west-should-wake-up?CMP=share_btn_tw', 9), ('Smog returns to Beijing with a vengeance. Roads forced to close.', 'http://m.scmp.com/news/china/society/article/2117244/smog-blankets-beijing-northern-china-causes-road-closures-around', 5), ('Kuaidi even assists in eating your food', 'https://youtu.be/V656pMWrjnI', 5), ('Professional League of Legends player beats girlfriend on live stream', 'https://youtu.be/06SqXDs3RrE', 28), (\"Xi Jinping Thought to be taught in China's universities | World news\", 'https://www.theguardian.com/world/2017/oct/27/xi-jinping-thought-to-be-taught-in-chinas-universities', 5), ('The look says it all', 'https://imgur.com/gallery/Jm4Tk', 2), ('Banks often serve large companies; they don’t have the ability to serve small and medium-sized enterprises (SMEs) well', 'http://www.theasianbanker.com/updates-and-articles/jd-finances-chen-i-serve-financial-institutions-not-do-financial-services', 4), ('What Manchu resources. Books, audiovisual foremost, but also curious about presential classes or tutors, if only for reference', 'https://www.reddit.com/r/China/comments/790c06/what_manchu_resources_books_audiovisual_foremost/', 7), ('Has Beijing not hid red alert levels yet?', 'https://www.reddit.com/r/China/comments/791gdm/has_beijing_not_hid_red_alert_levels_yet/', 3), (\"Trump on Xi: 'Now Some People Might Call Him the King'\", 'https://www.nytimes.com/aponline/2017/10/25/us/politics/ap-us-trump-china.html', 5), ('\"Years of Trial, Turmoil and Triumph: China From 1949 to 1988\" (English-language Chinese book published in 1989, PDF format)', 'https://archive.org/details/YearsOfTrialTurmoilTriumph', 0), ('Please help me be a fatty! What comes on these fries?', 'https://i.redd.it/olimmfblzbuz.jpg', 0), ('How often does it snow in Jinan in Winter?', 'https://www.reddit.com/r/China/comments/791u44/how_often_does_it_snow_in_jinan_in_winter/', 1), ('The 19th Chinese Communist Party Congress: Everything You Need To Know', 'https://theattestor.com/2017/10/26/the-19th-chinese-communist-party-congress-everything-you-need-to-know/', 6), (\"China lawyer recounts torture under Xi's 'war on law'\", 'http://www.bbc.com/news/blogs-china-blog-41661862', 30), ('Wang Huning: China’s ideology tsar', 'http://www.scmp.com/news/china/policies-politics/article/2116964/wang-huning-low-profile-liberal-dream-weaver-whos-about', 9), (\"McDonald's Changed its Chinese Name, and People Hate it\", 'https://mp.weixin.qq.com/s?__biz=MjM5Nzg1MDcwMg==&amp;mid=2653670220&amp;idx=2&amp;sn=3508d21261f4630f2ec153f93f3fdcfb&amp;chksm=bd0cd06d8a7b597bf66bec0be18cbe42fdfbc55f31ef79fcddb8db5f1148efa077e3fd88bf81&amp;mpshare=1&amp;scene=1&amp;srcid=1027SlDzF7uethCCHedUYpLw&amp;key=04f08709c100f7bdc50dcd50698e4396db6095507ad55a35f8889008eab28bab183e2bc51840c70096f479c1111b119452038a0b020bd83160b1b01a7c1a19c23eb903257edb6b0d003ead2bdc68ef70&amp;ascene=0&amp;uin=MTM1OTkzOTE0MQ%3D%3D&amp;devicetype=iMac+MacBookPro6%2C1+OSX+OSX+10.11.6+build(15G1004)&amp;version=12020010&amp;nettype=WIFI&amp;fontScale=100&amp;pass_ticket=CAC5GiZBnSF2xC%2BJV6v%2B9bYdq0NOjvfoqQu0qwkxEK3C%2FwzgTsh0c5JjRMDNYthh', 0), ('On Shanghai outskirts, some residents unmoved as China unveils leadership', 'https://www.yahoo.com/news/shanghai-outskirts-residents-unmoved-china-unveils-leadership-123914480.html', 5), (\"Mentioning the Tiananmen Square 'Incident' in Chinese University\", 'https://www.reddit.com/r/China/comments/78tb4c/mentioning_the_tiananmen_square_incident_in/', 67), ('Compatent Chinese Management', 'https://www.reddit.com/r/China/comments/790jgk/compatent_chinese_management/', 1), ('Tsinghua students must pass compulsory swim test in order to graduate', 'http://www.thebeijinger.com/blog/2017/10/26/tsinghua-students-pass-swim-test-requirements-stack-chinas-top-school', 27), ('Reddit problems', 'https://www.reddit.com/r/China/comments/78vgh5/reddit_problems/', 10), ('(NSFW) Kindly help as to which website was the livestream taken from. Thank you!', 'http://www.femdomtb.com/video/chinafemdom-65327-queen-live-U1MPbJGRiFb.html?x=MS04', 0), ('Ikea apologizes to China for \"sexist\" advert created by, of course, a Chinese marketing team', 'http://www.bbc.com/news/world-asia-china-41757971', 7), ('\"This Is What A 21st-Century Police State Really Looks Like\" - article detailing China\\'s ramp-up of surveillance in Xinjiang', 'https://www.buzzfeed.com/meghara/the-police-state-of-the-future-is-already-here?utm_term=.scnjODWm9#.re6zKMw9m', 18), ('Can you find your ID number on the Chinese passport?', 'https://www.reddit.com/r/China/comments/78znjz/can_you_find_your_id_number_on_the_chinese/', 1), ('Father visited China and told me a bit about it... Why does everyone use fake names?', 'https://www.reddit.com/r/China/comments/78y6vo/father_visited_china_and_told_me_a_bit_about_it/', 2), ('McDonald\\'s changes name of company in China to \"Golden Arches\" Literally', 'https://www.reuters.com/article/us-mcdonalds-china/golden-arches-mcdonalds-gets-new-china-name-following-unit-sale-idUSKBN1CV0FB', 13), ('Visa/PR options for spouse of Chinese national', 'https://www.reddit.com/r/China/comments/78vuda/visapr_options_for_spouse_of_chinese_national/', 6), (\"Ikea pulls satirical TV commercial after outraging China's leftover women\", 'http://www.thebeijinger.com/blog/2017/10/26/ikea-forced-apologize-following-outrage-tv-ads-depiction-single-chinese-women', 30), ('China Refuses to Admit It Has a Rape Problem. I Would Know.', 'http://foreignpolicy.com/2017/10/25/china-refuses-to-admit-it-has-a-rape-problem-i-would-know/', 133), ('What explains the rise and popularity of Jiang Zemin and the Moha memes in social media?', 'https://www.reddit.com/r/China/comments/78s9h2/what_explains_the_rise_and_popularity_of_jiang/', 24), (\"China's Abandoned Wonderland\", 'http://m.theatlantic.com/infocus/2011/12/chinas-abandoned-wonderland/100207', 2), ('I recently got a job in China. I have numerous tattoos and am worried about showing them to my Chinese coworkers, should I be? What is the general perception of tattoos in China?', 'https://www.reddit.com/r/China/comments/78uo50/i_recently_got_a_job_in_china_i_have_numerous/', 3), ('Xi gets 5 more years to build \"modern socialist\" China', 'https://www.cbsnews.com/news/xi-jinping-china-19th-national-congress-communist-party/', 11), ('China Putting People On The Map', 'https://i.redd.it/mo6v7r78d4uz.jpg', 7), (\"Xi Jinping's Consolidation of Power\", 'https://youtu.be/CBM_3Vs6tQY', 1), ('China Shuts Down Tens Of Thousands Of Factories In Widespread Pollution Crackdown', 'https://www.msn.com/en-us/news/world/china-shuts-down-tens-of-thousands-of-factories-in-widespread-pollution-crackdown/ar-AAtZIqD', 42), ('Jared Kushner and Ivanka to take a diminished role in upcoming Trump trip to China. Peter Navarro not expected to be part of the delegation at all', 'http://www.politico.com/story/2017/10/25/kushner-trump-china-trip-244186', 14), (\"The Chinese have been brainwashed.. 'gentle'?!\", 'https://i.redd.it/d0ey9wton6uz.jpg', 2), ('Top 10 Chinese Aviation Stocks By Market Cap - Eqibeat', 'http://eqibeat.com/top-10-chinese-aviation-stocks-by-market-cap/', 0), (\"Jinhua Ham: You've probably never heard of China's own Parma ham but it's pretty good\", 'https://www.pressreader.com/china/the-world-of-chinese/20170715/281547995957888', 2), ('China: collective resistance against iSlavery', 'https://peopleandnature.wordpress.com/2017/10/23/china-collective-resistance-against-islavery/', 3), ('China’s Silk Road Illusions', 'http://www.nybooks.com/daily/2017/10/25/chinas-silk-road-illusions/', 8), ('A \"High Speed\" Adventure to Shenzhen', 'https://youtu.be/PGsztYzawA4', 0), ('Twenty-Eight Years After -\\x80\\x93 An Interview With Wang Dan', 'https://chinachange.org/2017/10/25/twenty-eight-years-after-an-interview-with-wang-dan/', 6), (\"The challenges faced by China's post-90s generation in the job market today.\", 'https://www.whatsonweibo.com/facing-challenges-chinas-post-90s-employment-market/', 16), ('Trump congratulates Xi on being re-elected general secretary of CPC Central Committee', 'http://news.xinhuanet.com/english/2017-10/26/c_136705878.htm', 2), ('China Captures and Keeps in Prison a Japanese Pokemon Go Monster', 'http://www.chinadaily.com.cn/china/images/attachement/jpg/site1/20171026/b083fe96fac21b5b712102.jpg', 0), ('Chinese Stealth Goes Operational, Carrier Program and Export Initiatives Accelerate', 'https://bulgarianmilitary.com/chinese-stealth-goes-operational-carrier-program-and-export-initiatives-accelerate/', 1), ('New Politburo Standing commitee announced', 'https://www.reddit.com/r/China/comments/78lacb/new_politburo_standing_commitee_announced/', 99), ('China moves to rate its citizens (funny video)', 'https://medium.com/@Michael_Spencer/china-funny-video-social-credit-system-ca079478c821', 1), (\"All-male Politburo offers beacon of hope for men's rights in China\", 'http://chinadailyshow.com/all-male-politburo-offers-beacon-of-hope-for-mens-rights-in-china/', 61), ('Watching shows with English subtitles behind the firewall?', 'https://www.reddit.com/r/China/comments/78suy0/watching_shows_with_english_subtitles_behind_the/', 1), ('Why is the traffic so bad in Shenzhen?', 'https://www.reddit.com/r/China/comments/78p38n/why_is_the_traffic_so_bad_in_shenzhen/', 5), (\"Was Xi Jinping's 19th Congress Speech Signaling that Chinese Leadership is Buckling Down and Preparing for the Worst?\", 'https://www.reddit.com/r/China/comments/78o56b/was_xi_jinpings_19th_congress_speech_signaling/', 11), ('Visiting China as an ABC, does anyone live in Fuzhou?', 'https://www.reddit.com/r/China/comments/78srg6/visiting_china_as_an_abc_does_anyone_live_in/', 1), (\"President Xi Jinping's New Political Ideology To Become Part of Compulsory Education Requirements\", 'https://youtu.be/ZAWy-CNkmBo', 7), ('Western media is still wrong. China will continue to rise.', 'https://www.washingtonpost.com/news/theworldpost/wp/2017/10/24/china-congress-western-media/?utm_term=.203f98d7990a', 0), ('Xi Jinping has no opposition now', 'https://www.reddit.com/r/China/comments/78lre2/xi_jinping_has_no_opposition_now/', 38), ('Salt-cured dogues of Maoshan, Jiangsu', 'https://i.redd.it/lvgqoprvnxtz.jpg', 23), ('What Would China Look Like Today Had Zhao Ziyang Survived?', 'http://www.chinafile.com/conversation/what-would-china-look-today-had-zhao-ziyang-survived', 7), ('Airbnb China market head quits after 4 months.', 'https://qz.com/1110093/airbnb-is-betting-big-on-china-but-its-leadership-there-is-in-flux/', 28), (\"Protest after Western media 'troublemakers' barred from Xi Jinping speech\", 'https://amp.theguardian.com/world/2017/oct/25/protest-after-western-media-troublemakers-barred-from-xi-jinping-speech', 23), (\"[Discussion] Which non-oriental countries culture do you think is most similar to China's?\", 'https://www.reddit.com/r/China/comments/78odvj/discussion_which_nonoriental_countries_culture_do/', 3), ('Has reddit been blocked?', 'https://www.reddit.com/r/China/comments/78kze4/has_reddit_been_blocked/', 43), ('Xi Jinping signals intent to remain in power by revealing politburo with no successor', 'https://www.theguardian.com/world/2017/oct/25/xi-jinping-signals-intent-power-successor-politburo-china', 19), ('Has anyone managed to open a personal Hong Kong bank account while living in China?', 'https://www.reddit.com/r/China/comments/78nhfa/has_anyone_managed_to_open_a_personal_hong_kong/', 7), ('China Refuses to Admit It has a Bird Problem. I would Know', 'https://youtu.be/4Fd8rgz7uBQ?t=30s', 0), ('The Seven Men Who Will Rule China for the Next Five Years', 'https://www.bloomberg.com/news/articles/2017-10-25/the-seven-men-who-will-rule-china-for-the-next-five-years?utm_content=markets&amp;utm_campaign=socialflow-organic&amp;utm_source=twitter&amp;utm_medium=social&amp;cmpid%3D=socialflow-twitter-markets', 24), ('How to invest in China?', 'https://www.reddit.com/r/China/comments/78tdop/how_to_invest_in_china/', 0), ('Can my husband get a work permit on a spousal visa?', 'https://www.reddit.com/r/China/comments/78m4n2/can_my_husband_get_a_work_permit_on_a_spousal_visa/', 12), ('China in the Balkans: the battle of principles', 'https://spectator.clingendael.org/pub/2017/4/china-in-the-balkans/', 3), ('South Xinjiang Railway', 'https://i.redd.it/hsbc5yz70utz.jpg', 68), ('Good dentist in Zhuhai? Or should I take a ferry to Hong Kong for a dentist appointment?', 'https://www.reddit.com/r/China/comments/78nip3/good_dentist_in_zhuhai_or_should_i_take_a_ferry/', 2), ('Xi Jinping written formally into constitution, elevated to the level of Mao in Communist pantheon', 'https://www.washingtonpost.com/world/chinas-leader-elevated-to-the-level-of-mao-in-communist-pantheon/2017/10/24/ddd911e0-b832-11e7-9b93-b97043e57a22_story.html', 132), ('Stone house on Pingtan Island, Fujian', 'https://i.redd.it/3deo15qsvvtz.jpg', 7), ('Help with trasnlating my Chinese dead Grandpa.', 'https://i.redd.it/ki8yq1n2httz.jpg', 30), ('(Villages of Fujian) in this picture we have a local who is harvesting a vegetable called (oon yai) in fujianese or known in English as water spinach. Also visible are Banana trees. He points to the mountains to warn me about potential mountain lions after learning that I intend to hike up there.', 'https://i.redd.it/z0pfcd68tqtz.jpg', 92), ('Do any of you guys have Chinese girlfriends?', 'https://www.reddit.com/r/China/comments/78kh3b/do_any_of_you_guys_have_chinese_girlfriends/', 3), ('(Nanlingzhen, Fujian) Where I live.', 'https://i.redd.it/mkonc4pozntz.jpg', 413), (\"Xi Jinping 'most powerful Chinese leader since Mao Zedong' - BBC News\", 'https://www.youtube.com/attribution_link?a=ENuprwqMF7Q&amp;u=%2Fwatch%3Fv%3DE_Y9yQaE89E%26feature%3Dshare', 16), ('Is the Jinshaling Great Wall still closed?', 'https://www.reddit.com/r/China/comments/78ky3g/is_the_jinshaling_great_wall_still_closed/', 2), ('Big data meets Big Brother as China moves to rate its citizens', 'http://www.wired.co.uk/article/chinese-government-social-credit-score-privacy-invasion?utm_content=buffer51cad&amp;utm_medium=social&amp;utm_source=twitter.com&amp;utm_campaign=buffer', 28), ('Asking out a Chinese girl over wechat: In your opinion, is it best to send a text message, voice message, or voice call?', 'https://www.reddit.com/r/China/comments/78nt5z/asking_out_a_chinese_girl_over_wechat_in_your/', 0), ('Great Wall Of China', 'https://www.youtube.com/attribution_link?a=7Y-NveMvBKk&amp;u=%2Fwatch%3Fv%3D9SeVH0ZNbKk%26feature%3Dshare', 0), (\"Is anyone else having issues with Aliyun's HKb?\", 'https://www.reddit.com/r/China/comments/78hibf/is_anyone_else_having_issues_with_aliyuns_hkb/', 5), ('Anyone has seen the full English translation of Xi’s speech?', 'https://www.reddit.com/r/China/comments/78jue1/anyone_has_seen_the_full_english_translation_of/', 2), ('Thanks to the Chinese God | Zhangzhou, Fujian', 'https://i.redd.it/cb3w6l55vvtz.jpg', 0), ('China Plainclothes Policemen Starting Their Secret Duty Patrol', 'https://pbs.twimg.com/media/DM3pdLTUIAAD-DT.jpg', 36), (\"China awaits Xi's top appointments\", 'http://www.bbc.com/news/world-asia-china-41743804', 1), ('Group of Mid-aged Chinese people dancing', 'https://www.youtube.com/attribution_link?a=IAIkGltdRaI&amp;u=%2Fwatch%3Fv%3DTTMLrbO944o%26feature%3Dshare', 0), ('did the Chinese release of Kingsman 2 survive the censors?', 'https://www.reddit.com/r/China/comments/78kksu/did_the_chinese_release_of_kingsman_2_survive_the/', 1), ('Why do Chinese people treat each other like sh*t at work?', 'https://www.reddit.com/r/China/comments/78drjx/why_do_chinese_people_treat_each_other_like_sht/', 37), ('Recipe: Sichuan Shuizhu Beef (水煮牛肉)', 'https://www.reddit.com/r/China/comments/78drz8/recipe_sichuan_shuizhu_beef_水煮牛肉/', 40), ('Everything We Think We Know About Chinese Finances is Wrong', 'http://www.baldingsworld.com/2017/10/23/everything-we-think-we-know-about-chinese-finances-is-wrong/', 33), (\"Trump sought dissident's expulsion after hand-delivered letter from China | World news\", 'https://www.theguardian.com/world/2017/oct/23/trumps-call-for-chinese-dissident-to-be-deported-based-on-beijing-letter-report', 36), ('Please Help !Dads in China, Needs Help Finding Local Businesses that make Small Freezer', 'https://www.reddit.com/r/China/comments/78k6by/please_help_dads_in_china_needs_help_finding/', 1), ('China Invents Rice That Can Grow in Salt Water, Can Feed Over 200 Million People', 'https://nextshark.com/china-invents-rice-can-grow-salt-water-can-feed-200-million-people/', 12), ('China’s Famous Tiananmen Square', 'https://youtu.be/_rYxoTvQeeU', 0), ('2nd World Congress on Marxism to be held in Beijing', 'http://en.people.cn/n3/2017/1023/c90000-9283575.html', 2), ('What is this food or snack called again?', 'https://www.reddit.com/r/China/comments/78f1al/what_is_this_food_or_snack_called_again/', 8), (\"Xi 'most powerful leader since Mao'\", 'http://www.bbc.com/news/world-asia-china-41730948', 24), ('BBC World News cuts out during report on China', 'https://www.reddit.com/r/China/comments/78e3ii/bbc_world_news_cuts_out_during_report_on_china/', 12), ('China total deficit above 14% of GDP', 'https://i.redd.it/b22i0l400ptz.jpg', 22), ('Genuine question, not trying to offend anyone... but why do mainlander men incessantly jump and snap twigs and leaves off trees?', 'https://www.reddit.com/r/China/comments/78ddfd/genuine_question_not_trying_to_offend_anyone_but/', 14), (\"Chinese Animation's Tragic History\", 'https://youtu.be/F-g9lRT-gpA', 11), ('Mondeo vs. Supreme/Rebellious Chinese/American Teen/Die For Your Country In Africa', 'https://www.youtube.com/watch?v=ZTyUZBn135A', 0), ('The \"subversive\" map that infuriated the Chinese engineer...', 'https://i.redd.it/2tictuubqotz.png', 16), ('Seeking advice about where/how to get epipens for allergies', 'https://www.reddit.com/r/China/comments/78ezot/seeking_advice_about_wherehow_to_get_epipens_for/', 3), ('Lotte China goes down: On Sanctions, Boycotts, and Freedom Fries', 'https://chinaconsidered.com/china-sanctions-boycotts-freedom-fries/', 14), ('Orville Peck - \"Dead Of Night\"', 'https://www.youtube.com/watch?v=dcs5UBsKdS0', 2), (\"China's Xinjiang Residents Are Being Forced to Install Surveillance Apps on Mobile Phones\", 'https://advox.globalvoices.org/2017/07/19/chinas-xinjiang-residents-are-being-forced-to-install-surveillance-apps-on-mobile-phones/', 24), ('Xbox Live in China', 'https://www.reddit.com/r/China/comments/78eqvv/xbox_live_in_china/', 2), ('NSFW Milk Dog. Spotted in rural China', 'https://www.reddit.com/r/China/comments/78ait8/nsfw_milk_dog_spotted_in_rural_china/', 21), ('Nanjing hi-fi', 'https://www.reddit.com/r/China/comments/78fpxw/nanjing_hifi/', 1), (\"Apparently, I'll die in China\", 'https://www.reddit.com/r/China/comments/786cm2/apparently_ill_die_in_china/', 145), ('No whatsapp? no viber? Alternative? Rant', 'https://www.reddit.com/r/China/comments/78de2v/no_whatsapp_no_viber_alternative_rant/', 3), ('Drunken Brit husband gets huge Chinese tattoo inked across forehead to express his love', 'http://www.mirror.co.uk/news/world-news/wifes-fury-after-drunken-brit-11392543', 12), ('What&amp;amp;#x27;s the life that China&amp;amp;#x27;s young people really desire?', 'https://www.scmp.com/video/china/2116697/whats-life-chinas-young-people-really-desire', 2), (\"Is Halloween a thing in China and if so what's it like?\", 'https://www.reddit.com/r/China/comments/78b3wz/is_halloween_a_thing_in_china_and_if_so_whats_it/', 10), ('Chinese former elite sports physician suggests doping in China is systemic, organized and massive.', 'https://www.theguardian.com', 5), ('Chinese economic power will dominate the 21st century', 'https://www.thenational.ae/world/asia/chinese-economic-power-will-dominate-the-21st-century-1.669759', 0), ('CRISPR Bacon: Chinese Scientists Create Genetically Modified Low-Fat Pigs', 'http://www.npr.org/sections/thesalt/2017/10/23/559060166/crispr-bacon-chinese-scientists-create-genetically-modified-low-fat-pigs', 3), (\"Chinese people can't find China on a map\", 'https://youtu.be/ddWnP9C9r7k', 67), ('China lifts ban on stinky cheese', 'http://www.bbc.com/news/business-41717848', 35), (\"China's Communist Party enshrines Xi Jinping Thought in constitution\", 'http://edition.cnn.com/2017/10/24/asia/china-xi-jinping-thought/index.html', 0), ('China speeds ahead of U.S. as quantum race escalates, worrying scientists', 'http://www.mcclatchydc.com/news/nation-world/national/national-security/article179971861.html', 3), (\"Hengshui to offer free bus service to cut car emissions - People's Daily Online\", 'http://en.people.cn/n3/2016/1028/c90000-9134208.html#.We6a_Zbohzc.reddit', 2), ('TIL that the Chinese Communists massacred thousands of Japanese rebels during the Tonghua Incident of 1946', 'https://en.wikipedia.org/wiki/Tonghua_incident#Aftermath_of_the_rebellion', 1), ('What do you guys recommend watching, preferably with Chinese and English subtitles, that can help me improve my Chinese?', 'https://www.reddit.com/r/China/comments/78au7d/what_do_you_guys_recommend_watching_preferably/', 5), (\"Xi Jinping confirmed as China'\\x80\\x99s most powerful leader since Mao\", 'https://www.ft.com/content/5b9f4b96-b86d-11e7-8c12-5661783e5589', 0), ('Reality Check: Are women welcome in Chinese politics?', 'http://www.bbc.com/news/world-asia-41652487', 1), ('The Wall Street Journal article on the China-U.S. spy war surrending Guo WenGui [archive.is]', 'http://archive.is/S4aYh', 8), ('China: Where natural gas market could boom next', 'https://www.usatoday.com/story/money/energy/2017/10/23/china-drives-natural-gas-demand-boom/790010001/', 2), ('Every Shady ESL School in China', 'https://www.youtube.com/watch?v=IDXqP0hahFo', 131), ('Opening a Bar in China', 'https://www.reddit.com/r/China/comments/786vt0/opening_a_bar_in_china/', 16), ('Need to pull out wisdom teeth in Beijing. Advice and where?', 'https://www.reddit.com/r/China/comments/78cegx/need_to_pull_out_wisdom_teeth_in_beijing_advice/', 1), ('16 hour layover in China, Yunnan Sheng, Kunming Shi, Guandu Qu what can we do?', 'https://www.reddit.com/r/China/comments/78ccb0/16_hour_layover_in_china_yunnan_sheng_kunming_shi/', 0), ('My observations of China from a recent visit. The country is buzzing', 'https://youtu.be/dGa866iTnug', 0), ('Signal to CNN (again) cut of yesterday in China when a possible Xi Jinping 3rd term was discussed (according to Danish journalist)', 'https://imgur.com/a/hEy0V', 56), (\"America's Diminishing Economic Power: Interview with Tyler Cowen about US, China and the future world order\", 'http://www.thecipherbrief.com/podcasts/tyler-cowen-americas-diminishing-economic-power', 3), ('Xi Jinping has positioned China as a stable, responsible alternative to an erratic, inward-looking U.S. - New York Times', 'https://www.nytimes.com/2017/10/22/world/asia/china-xi-jinping-global-power.html', 22), ('How can journalists report on China?', 'https://www.reddit.com/r/China/comments/78bsvq/how_can_journalists_report_on_china/', 1), ('Raids on marijuana grow houses in California often find Chinese ‘farmers’ inside.', 'http://www.sacbee.com/news/state/california/california-weed/article179293106.html', 37), ('Did Xi have any competitors for his position in 2010-2011?', 'https://www.reddit.com/r/China/comments/786h80/did_xi_have_any_competitors_for_his_position_in/', 11), (\"/r/China just passed 48'000 subscribers - I made this screenshot to prove I was there on that fateful day when... Did anything interesting happen today?\", 'https://i.redd.it/yy0xplr4pptz.png', 0), (\"China's Pursuit of Fugitive Businessman Guo Wengui Kicks Off Manhattan Caper Worthy of a Spy Thriller\", 'https://www.wsj.com/articles/chinas-hunt-for-guo-wengui-a-fugitive-businessman-kicks-off-manhattan-caper-worthy-of-spy-thriller-1508717977', 20), ('[Research/Question] Civil society groups in China', 'https://www.reddit.com/r/China/comments/78a3rg/researchquestion_civil_society_groups_in_china/', 1), ('Honest question about having sex in China (update)', 'https://www.reddit.com/r/China/comments/785vws/honest_question_about_having_sex_in_china_update/', 10), ('Tesla has reached a deal to build a factory in China', 'https://www.theverge.com/2017/10/22/16516064/tesla-reached-deal-factory-china-shanghai-electric-vehicles-cars', 26), ('Big data meets Big Brother as China moves to rate its citizens', 'http://www.wired.co.uk/article/chinese-government-social-credit-score-privacy-invasion', 26), ('Chinese villager finds the ‘king of mushrooms’', 'http://www.scmp.com/news/china/society/article/2116557/chinese-villagers-find-king-mushrooms', 6), ('Futuristic Photos From Around China &amp; More', 'https://www.phramesco.com/alexander-lockshyn', 10), (\"‘Good morning, it’s the Communist Party' Loudspeakers in China take Xi’s ideological campaign to new levels\", 'http://www.latimes.com/world/asia/la-fg-china-loudspeakers-20171023-story.html', 1), ('Sexual Heath Clinic in Beijing?', 'https://www.reddit.com/r/China/comments/7885w1/sexual_heath_clinic_in_beijing/', 1), ('Are VPNs allowed in China', 'https://www.reddit.com/r/China/comments/789dhy/are_vpns_allowed_in_china/', 0), ('Real talk: What is your plan if events do critically escalate around North Korea?', 'https://www.reddit.com/r/China/comments/785bws/real_talk_what_is_your_plan_if_events_do/', 5), ('The Average Face of Chinese Bureacracy [OC]', 'https://i.redd.it/h2fiac3x6ctz.png', 192), ('Ancient Chinese Secret.', 'https://imgur.com/4DNf45S', 81), ('Chinese propaganda faces stiff competition from celebrities', 'https://www.yahoo.com/news/chinese-propaganda-faces-stiff-competition-celebrities-011402060.html', 12), ('Systematic doping of Chinese athletes in Olympic Games revealed by former doctor', 'http://www.dw.com/en/systematic-doping-of-chinese-athletes-in-olympic-games-revealed-by-former-doctor/a-41065227', 75), (\"'Impossible To Save': Scientists Are Watching China's Glaciers Disappear\", 'http://www.npr.org/sections/parallels/2017/10/21/554271726/impossible-to-save-scientists-are-watching-chinas-glaciers-disappear', 7), ('[OC] Above a Shenzhen highway at night.', 'https://v.redd.it/ynym3khoretz', 6), ('Chinese university sites', 'https://www.reddit.com/r/China/comments/7851z0/chinese_university_sites/', 1), ('Meeting Dalai Lama a major offence, China warns world leaders', 'https://timesofindia.indiatimes.com/world/china/meeting-dalai-lama-major-offence-china-warns-world-leaders/articleshow/61161639.cms', 23), ('The Path to Power In China', 'https://www.bloomberg.com/graphics/2017-china-party-congress/', 7), ('Why the Biggest Bitcoin Mines Are in China - The heart of Bitcoin is now in Inner Mongolia, where dirty coal fuels sophisticated semiconductor engineering', 'https://spectrum.ieee.org/computing/networks/why-the-biggest-bitcoin-mines-are-in-china', 64), ('Why TF would they block The Weather Channel?!', 'https://www.reddit.com/r/China/comments/77yqv2/why_tf_would_they_block_the_weather_channel/', 32), ('China creates artificial star 8,600 times hotter than sun’s surface', 'http://www.hindustantimes.com/world/china-creates-artificial-star-8-600-times-hotter-than-sun-s-surface/story-npTwCWBGe4XzMsIsBq4keJ.html', 0), ('How do I meet rich Chinese people In GZ who I can hang out with ?', 'https://www.reddit.com/r/China/comments/783x6q/how_do_i_meet_rich_chinese_people_in_gz_who_i_can/', 2), ('Monthly salary of white collars rises to 7,599 yuan', 'http://www.ecns.cn/cns-wire/2017/10-19/277643.shtml', 4), ('Thoughts on pocket wifi vs sim cards?', 'https://www.reddit.com/r/China/comments/78353a/thoughts_on_pocket_wifi_vs_sim_cards/', 1), (\"The Communist App Store: China's endless apps for tracking, organizing, and motivating party members\", 'https://qz.com/1089384/the-communist-app-store-chinas-endless-apps-for-tracking-organizing-and-motivating-party-members/', 30), ('What are the odds that any effort put into China as a foreigner is wasted?', 'https://www.reddit.com/r/China/comments/780yt7/what_are_the_odds_that_any_effort_put_into_china/', 2), ('China says no excuses for foreign officials meeting Dalai Lama', 'https://www.yahoo.com/news/china-says-no-excuses-foreign-officials-meeting-dalai-061542222.html', 16), ('My last video on my trip to china', 'https://www.youtube.com/watch?v=yjiKUypTg68&amp;feature=share', 2), (\"Ahh, the Good 'Ol Days...\", 'https://www.youtube.com/watch?v=LY3V5CyOtww', 3), ('Xinjiang a \"Frontline Laboratory for Surveillance\" - China Digital Times (CDT)', 'http://chinadigitaltimes.net/2017/10/xinjiang-becoming-frontline-laboratory-surveillance/', 6), ('How do I use my UnionPay card on Amazon?', 'https://www.reddit.com/r/China/comments/77zwcq/how_do_i_use_my_unionpay_card_on_amazon/', 2), ('Chinese Communist Propaganda in the Modern Era', 'https://youtu.be/bDkIfylUJvc', 57), ('China’s first algorithm solver is competing with the top ones in the world', 'https://medium.com/@damonzeng/chinas-first-algorithm-solver-is-competing-with-the-top-ones-in-the-world-cd7602b449de', 20), ('Chinese Mobile League / 王者荣耀 （WangZheRongYao) English players wanted (Android) for team.', 'https://www.reddit.com/r/China/comments/77ziv2/chinese_mobile_league_王者荣耀_wangzherongyao_english/', 2), (\"Analysis of China's one-child policy sparks uproar\", 'http://www.sciencemag.org/news/2017/10/analysis-china-s-one-child-policy-sparks-uproar', 6), ('Chinese propaganda faces stiff competition from celebrities', 'https://apnews.com/1616c60ab01d43caae024d34cb98d532?utm_campaign=SocialFlow&amp;utm_source=Twitter&amp;utm_medium=AP', 5), ('Is it possible to become a daigou as an expat? Worth it?', 'https://www.reddit.com/r/China/comments/7804rw/is_it_possible_to_become_a_daigou_as_an_expat/', 0), ('Why do essay writing services are so popular among Chinese students?', 'https://www.reddit.com/r/China/comments/78044h/why_do_essay_writing_services_are_so_popular/', 0), (\"China's Eight Great Regional Cuisines | Henkubao\", 'https://www.henkubao.com/china/chinas-eight-great-regional-cuisines/', 30), ('Can anyone identity this liquor for me?', 'https://i.redd.it/oiv6c9mbbbtz.jpg', 2), ('Communist Party of China official urges China, Japan to improve ties', 'http://news.xinhuanet.com/english/2017-10/21/c_136696191.htm', 3), ('China offers support to Spanish government amid Catalonia crisis', 'https://www.reuters.com/article/us-spain-politics-catalonia-china/china-offers-support-to-spanish-government-amid-catalonia-crisis-idUSKBN1CH1DR', 19), ('Xi Jinping Has Quietly Chosen His Own Successor', 'http://foreignpolicy.com/2017/10/20/xi-jinping-has-quietly-chosen-his-own-successor/amp/', 100), ('WhatsApp is back! Woohoo', 'https://www.reddit.com/r/China/comments/77xmbc/whatsapp_is_back_woohoo/', 3), ('A SAFEA registered list', 'https://www.reddit.com/r/China/comments/77z1p0/a_safea_registered_list/', 1), ('Chinese Kidnapping of Vietnamese Fishermen in the South China Sea: a Primary Source Analysis | Asia Maritime Transparency Initiative', 'https://amti.csis.org/chinese-kidnapping-primary-source/', 2), ('Coup Conspiracy: Are there any corroborating sources for this story?', 'http://www.followcn.com/top-chinese-officials-plotted-overthrow-xi-jinping/', 5), (\"China's rising authoritarianism has a stark human cost\", 'http://www.latimes.com/world/asia/la-fg-china-rights-lawyers-20171020-story.html', 27), ('How Chinese scientists used a supercomputer to solve the ancient puzzle called the Three Body Problem', 'http://nationalpost.com/news/world/how-chinese-scientists-used-a-supercomputer-to-solver-the-ancient-puzzle-called-the-three-body-problem', 2), (\"It's party congress time for the People's Republic and Dada Xi is illustrating his vision of China. Here is ours.\", 'https://www.facebook.com/ZhongguoLingbo/videos/1318837071575532/?hc_ref=ARShbLinxOojadwXTDPqG3sY6eetImm_HFnlYoxrACpb8y8mik9sZoanqCPoUxP4YLQ&amp;pnref=story', 11), ('Over my dead body. Gimme waaaayyyyyyy', 'https://reut.rs/2gxYpUw?slideId=1206388584', 0), ('Another coin-tossing passenger causes flight chaos in China', 'http://www.straitstimes.com/asia/east-asia/another-coin-tossing-passenger-causes-flight-chaos-in-china', 0), ('When you find yourself agreeing with GW Bush', 'https://www.reddit.com/r/China/comments/77ttc6/when_you_find_yourself_agreeing_with_gw_bush/', 9), ('How Do I send a link to my QQ File Hub', 'https://www.reddit.com/r/China/comments/77xwl6/how_do_i_send_a_link_to_my_qq_file_hub/', 1), (\"Request. Does anybody have a link to an English translation for the whole of Xi Jinping's recent speech?\", 'https://www.reddit.com/r/China/comments/77we78/request_does_anybody_have_a_link_to_an_english/', 2), ('Chinese food health and safety. (vpn)', 'https://www.facebook.com/Memenese/videos/1667755733294832/', 15), ('Can somebody help me to identify a Chinese song?', 'https://www.reddit.com/r/China/comments/77tuh0/can_somebody_help_me_to_identify_a_chinese_song/', 8), ('Five Reasons to Hate China', 'http://www.lifezette.com/polizette/five-reasons-to-hate-china/', 0), (\"Who wants the boy child more in China's 1 child family, the mother or the father?\", 'https://www.reddit.com/r/China/comments/77uazm/who_wants_the_boy_child_more_in_chinas_1_child/', 3), ('Getting a wisdom tooth removed at a Chinese public hospital a few days ago. Notice my clenched fists. Never felt so much pain in my life.', 'https://i.imgur.com/WjiKJRX.jpg', 23), ('Twitch streaming in China', 'https://www.reddit.com/r/China/comments/77ybfz/twitch_streaming_in_china/', 0), ('Study: Pollution kills 9 million a year, costs $4.6 trillion', 'https://apnews.com/cfde2ac162ed430e8e228b5316f2541e/Study-finds-pollution-is-deadlier-than-war,-disaster,-hunger', 45), ('Woe is Me TEFL China Experience', 'https://www.reddit.com/r/China/comments/77qr0l/woe_is_me_tefl_china_experience/', 40), ('The gift that keeps on giving', 'https://imgur.com/a/Vq6hY', 26), ('Which of these cities is the best for dating?', 'https://www.reddit.com/r/China/comments/77y3fm/which_of_these_cities_is_the_best_for_dating/', 0), (\"China's bank chief warns of a 'sharp correction'\", 'http://www.theage.com.au/business/china/chinas-bank-chief-warns-of-a-sharp-correction-20171020-gz4xs1.html', 11), ('China blue', 'https://i.redd.it/30cgiy6vd3tz.jpg', 13), ('Flight canceled as woman tosses coins in aircraft engine in China', 'http://www.ecns.cn/2017/10-20/277744.shtml', 131), ('Potential new copypasta?', 'https://www.reddit.com/r/China/comments/77qodr/potential_new_copypasta/', 14), (\"Seems like they finally found a solution to Beijing's air pollution problem\", 'https://twitter.com/yattell/status/919391234313064448', 0), ('New pedestrian reduction methods.', 'https://gfycat.com/gifs/detail/AfraidDismalClumber', 53), ('Question about Chinese characters: Some are dedicated to pronunciation and others have meaning?', 'https://www.reddit.com/r/China/comments/77qyog/question_about_chinese_characters_some_are/', 11), ('Wang Huning’s Neo-Authoritarian Dream', 'http://www.judeblanchette.com/blog/2017/10/20/wang-hunings-neo-authoritarianism-dream', 2), ('Top 10 Guan Dao Techniques (Number 8 will shock you)', 'https://www.youtube.com/watch?v=lgcNNyGOghk', 0), ('Do you believe in chinese gods and why?', 'https://www.reddit.com/r/China/comments/77sy8r/do_you_believe_in_chinese_gods_and_why/', 0), ('Bossy Locals?', 'https://www.reddit.com/r/China/comments/77s6xn/bossy_locals/', 2), (\"Dude, WTF!? I'm hungry.\", 'https://v.redd.it/s7m2u9h4gxsz', 195), ('Wing Chun Kungfu Met Brazilian Jiu-jitsu In a China Set Challenge', 'http://www.bjjee.com/articles/wing-chun-kungfu-met-brazilian-jiu-jitsu-china-set-challenge/', 1), ('100% chance US, Japan would help Taiwan if China attacks: researcher', 'https://www.taiwannews.com.tw/en/news/3275166', 19), (\"Elderly passenger tosses coins into plane's engine, grounding flight at China airport - Channel NewsAsia\", 'http://www.channelnewsasia.com/news/asiapacific/elderly-passenger-tosses-coins-into-plane-s-engine-grounding-9329292?view=DEFAULT', 13), (\"Xi Jinping's War On Poverty Moves Millions Of Chinese Off The Farm\", 'http://www.npr.org/sections/parallels/2017/10/19/558677808/xi-jinping-s-war-on-poverty-moves-millions-of-chinese-off-the-farm', 19), ('U.S. senators ask Apple why it removed VPNs from App Store in China', 'https://uk.finance.yahoo.com/news/apple-removed-several-privacy-apps-020800432.html', 23), (\"Top Chinese officials 'plotted to overthrow Xi Jinping' [BBC]\", 'http://www.bbc.com/news/world-asia-china-41691917', 8), ('Reminder for Xbox users in China: Taobao code scams', 'https://www.reddit.com/r/China/comments/77m3ag/reminder_for_xbox_users_in_china_taobao_code_scams/', 8), ('New bird flu strain from China could cause global pandemic', 'http://www.scmp.com/tech/science-research/article/2116181/new-version-bird-flu-virus-china-could-cause-global-pandemic', 11), ('terrorists are using chinese grenades in kashmir, good news is they dont explode.', 'https://m.indiatimes.com/news/india/terrorists-are-using-chinese-grenades-in-kashmir-now-the-good-news-is-they-aren-t-exploding-331743.html', 74), (\"Someone walked up to me in Starbucks and handed me this. It's a self-help book with no less than 6 different fonts. It's the funniest thing I've seen in a while.\", 'https://i.redd.it/8h1tdbua9wsz.jpg', 62), ('UK struggling to get 5,000 young people fluent in Mandarin.......by 2020', 'https://www.tes.com/news/school-news/breaking-news/ps10m-mandarin-schools-programme-reaches-less-third-target-half-way', 75), ('Why no 24 hour subways?', 'https://www.reddit.com/r/China/comments/77nax9/why_no_24_hour_subways/', 3), ('”We are obsessed with Brexit and Trump: we should be thinking about China\"', 'https://www.theguardian.com/commentisfree/2017/oct/20/trump-xi-world-leader-chinese-communist-party-congress-speech?CMP=Share_iOSApp_Other', 16), ('Workers At iPhone Supplier In China Protest Unpaid Bonuses', 'https://www.manufacturing.net/news/2017/10/workers-iphone-supplier-china-protest-unpaid-bonuses-0', 2), ('what do you think of China as of 2017', 'https://www.reddit.com/r/China/comments/77kn1x/what_do_you_think_of_china_as_of_2017/', 16), ('China Uses ‘Digital Leninism’ to Manage Economy and Monitor Citizens', 'http://on.wsj.com/2yAdJ9y', 13), (\"The Chinese Exclusion Act is Back, But Now It's Called the RAISE Act\", 'http://globalcomment.com/chinese-exclusion-act-back-now-called-raise-act/', 35), ('New Zealand MP embroiled in Chinese influence controversy worked in Australian Parliament', 'http://www.theage.com.au/federal-politics/political-news/new-zealand-mp-embroiled-in-chinese-influence-controversy-worked-in-australian-parliament-20171019-gz4ncl.html', 35), ('Massive Tea and Buddhism Fair in Xiamen, China', 'https://youtu.be/sNxXoxPaMd8', 3), ('Wuhan Guanggu metro security check, Friday evening', 'https://i.redd.it/vfjkhuumqysz.jpg', 4), ('How China Hides Its Infrastructure Debt - WSJ (aka hostile foreign force)', 'https://www.youtube.com/watch?v=tYMkVlftRB4', 26), ('Travel with PSB Receipt', 'https://www.reddit.com/r/China/comments/77jnc3/travel_with_psb_receipt/', 15), ('The shit I put up with', 'https://imgur.com/a/L6lBL', 12), ('Endangered Yunnan Snub-Nosed Monkey', 'https://www.fabionodariphoto.com/en/yunnan-black-snub-nosed-monkey/', 9), ('Chinese government takes small stakes in online companies', 'https://www.nytimes.com/2017/10/13/business/china-online-stakes-control.html?_r=0', 6), ('Meet the pair poised to become two of China’s most powerful men', 'http://www.scmp.com/news/china/policies-politics/article/2116002/xi-jinpings-leadership-reshuffle-begins-meet-pair-about', 5), ('Help with wechat pay', 'https://www.reddit.com/r/China/comments/77ksxc/help_with_wechat_pay/', 2), (\"Tencent Comes Up With a Novel Way to Applaud China's President\", 'https://www.bloomberg.com/news/articles/2017-10-19/tencent-comes-up-with-a-novel-way-to-applaud-china-s-president', 11), ('Beijing’s 3rd Ring Road in 60 seconds', 'https://www.scmp.com/video/offbeat/2116241/beijings-3rd-ring-road-60-seconds', 4), (\"It's been noted that during the Qin Dynasty and onward, music from around the country was to be collected. Is there anywhere I can listen to some recordings of this music?\", 'https://www.reddit.com/r/China/comments/77i9fx/its_been_noted_that_during_the_qin_dynasty_and/', 13), ('China work visa card', 'https://www.reddit.com/r/China/comments/77jcjn/china_work_visa_card/', 7), ('When you are sick and you still have to listen to Xi Dada', 'https://i.redd.it/juaskuw1aqsz.jpg', 234), ('How one becomes a central committee member in CCP', 'https://www.reddit.com/r/China/comments/77knj6/how_one_becomes_a_central_committee_member_in_ccp/', 2), ('It took me few days to realize it, too. What have you done to me China?', 'https://imgflip.com/i/1xvtln#LYebwuUBXEHeB76i.16', 44), ('LTE Series 3 Apple Watch cut off from networks in China, possibly forced by the government to cease service', 'http://appleinsider.com/articles/17/10/19/lte-series-3-apple-watch-cut-off-from-networks-in-china-government-concerns-likely-to-blame', 5), (\"Coup plotted foiled: Xi Jinping fended off threat to 'save Communist Party'\", 'http://m.scmp.com/news/china/policies-politics/article/2116176/coup-plotters-foiled-xi-jinping-fended-threat-save', 6), ('They did it! The Chinese government met their target of 6.8% GDP Growth, yet again!', 'https://www.reddit.com/r/China/comments/77d92m/they_did_it_the_chinese_government_met_their/', 84), ('Traditional Chinese birthdays', 'https://www.reddit.com/r/China/comments/77krxo/traditional_chinese_birthdays/', 0), (\"China Media Bulletin: Beijing's foreign meddling, censorship innovation, HK campus tensions\", 'https://freedomhouse.org/china-media/china-media-bulletin-beijings-foreign-meddling-censorship-innovation-hk-campus-tensions-issue-no-122', 3), ('Herbal remedies embraced by naturopaths, alt med widely linked to liver cancers', 'https://arstechnica.com/science/2017/10/herbal-remedies-embraced-by-naturopaths-alt-med-widely-linked-to-liver-cancers/', 12), ('Did China ever use fear mongering tactics to deter families from having second or third children?', 'https://www.reddit.com/r/China/comments/77iqkb/did_china_ever_use_fear_mongering_tactics_to/', 4), (\"The Resistible Rise of Xi Jinping: China's president radically changed his country, and the Communist Party, through skill, determination — and a series of lucky breaks.\", 'http://foreignpolicy.com/2017/10/19/the-resistible-rise-of-xi-jinping/', 13), ('How can I watch youku in US?', 'https://www.reddit.com/r/China/comments/77j6a7/how_can_i_watch_youku_in_us/', 2), (\"[OC] Crazy Shenzhen clouds after Sunday's storm (time-lapse)\", 'https://www.instagram.com/p/BaaYb-LhCoW/?taken-by=cupofkoala', 3), (\"The Chinese Communist Party wants to 'build' its presence inside foreign companies; (is this the opening up that Xi mentioned?)\", 'http://www.theage.com.au/world/chinese-communist-party-wants-to-build-its-presence-inside-foreign-companies-20171019-gz4aff.html', 18), ('A Documentary about how hiphop got into China (English Subtitle)', 'https://www.youtube.com/watch?v=b3FWVXEkfgQ', 0), ('China Sending Pedophile Laowai Back to US', 'http://usa.chinadaily.com.cn/world/attachement/jpg/site1/20171017/b083fe9fe7851b4fa9ad02.jpg', 33), ('陳小春不希望jasper進娛樂圈，《爸爸去哪兒5》後就拜拜', 'https://www.youtube.com/attribution_link?a=UVQK4P6kGb0&amp;u=%2Fwatch%3Fv%3Dqv6cqguiSAo%26feature%3Dshare', 0), ('You are back home, how did you improve your CV?', 'https://www.reddit.com/r/China/comments/77e0pf/you_are_back_home_how_did_you_improve_your_cv/', 13), ('Children of Detained Uyghurs Face ‘Terrible’ Conditions in Overcrowded Xinjiang Orphanages', 'http://www.rfa.org/english/news/uyghur/children-10182017144425.html', 11), ('Man roasts live puppy so he can eat it in China', 'http://www.dailymail.co.uk/news/article-4996818/Man-roasts-live-puppy-fire-eat-it.html', 0), ('Blue sky, white clouds, and birds on the wires. Hefei 2017.10.20', 'https://i.redd.it/4hwe0h47rvsz.jpg', 0), (\"PLA is being 'tailor-made' to invade Taiwan\", 'https://www.taiwannews.com.tw/en/news/3275089', 4), (\"Tillerson raps China as 'predatory' rule breaker\", 'http://edition.cnn.com/2017/10/18/politics/tillerson-china-rebuke-speech/index.html', 24), ('What roads am I allowed to cycle on?', 'https://www.reddit.com/r/China/comments/77emwt/what_roads_am_i_allowed_to_cycle_on/', 5), (\"China's Plan to Buy Influence and Undermine Democracy\", 'https://www.theatlantic.com/international/archive/2017/10/china-cambodia-infrastructure-myanmar-rohingya-trump-xi-jinping/543168/', 41), ('Effects of acute alcohol consumption on self-ratings and observer ratings of foreign language skills', 'http://journals.sagepub.com/doi/10.1177/0269881117735687', 15), ('Chinese Double Standards in the Maritime Domain: Beijing clearly understands its maritime rights, but does not necessarily tolerate and accept the same rights for others.', 'http://thediplomat.com/2017/08/chinese-double-standards-in-the-maritime-domain/', 27), (\"Why Mao's Cultural Revolution still haunts Xi Jinping's China - RN\", 'http://www.abc.net.au/news/2017-10-17/why-maos-cultural-revolution-still-haunts-xi-jinpings-china/9047782', 15), ('How democratic is China in the public election sense?', 'https://www.reddit.com/r/China/comments/77d8cu/how_democratic_is_china_in_the_public_election/', 9), ('China Rolling Out Red Carpet for Laowai', 'http://d2l2idrff2c2gb.cloudfront.net/styles/16_9_desktop/s3/articleimages/bneGeneric%20OBOR%20China%20Russia%20Central%20Asia%20trade.png', 5), ('So how about this new law giving pedestrians the right of way? Is that correct? And what of all the trikes and bikes that still go around unregulated?', 'https://www.reddit.com/r/China/comments/77dd32/so_how_about_this_new_law_giving_pedestrians_the/', 6), ('Hiring not part of Alibaba pledge to create US jobs', 'https://www.yahoo.com/news/hiring-not-part-alibaba-pledge-create-us-jobs-184739987.html', 24), (\"'A free and open Indo-Pacific': US flags pact with Australia-Japan-India\", 'http://www.theage.com.au/world/a-free-and-open-indopacific-us-flags-pact-with-australiajapanindia-20171019-gz3x6y.html', 12), ('Blogs and Info about Chongqing', 'http://pathsunwritten.com/2016/09/chongqing-blogs-info-directory/', 7), ('China’s Xi Feeds Expectations for a Lengthy Reign', 'https://www.wsj.com/articles/chinas-xi-feeds-expectations-for-a-lengthy-reign-1508333178', 2), ('A Clash of Kings', 'https://v.redd.it/9fwf3a6f1nsz', 59), ('Weird sleeper train experiences?', 'https://www.reddit.com/r/China/comments/77fuem/weird_sleeper_train_experiences/', 1), ('“LimeBike”, a Chinese bike sharing company in US that even received investments from NBA star Kevin Durant.', 'https://twitter.com/yattell/status/920769091639508992', 2), ('China says foreign firms welcome benefits from internal Communist Party cells', 'http://uk.reuters.com/article/uk-china-congress-companies/china-says-foreign-firms-welcome-benefits-from-internal-communist-party-cells-idUKKBN1CO0IN', 5), ('What Took China So Long to Master Ballpoint Pens?', 'https://youtu.be/RrPlOM5MTSM', 2), (\"Highlights of Xi's speech, translated.\", 'https://www.reddit.com/r/China/comments/777ezk/highlights_of_xis_speech_translated/', 75), ('What other cultural concepts should China let go of?', 'https://www.reddit.com/r/China/comments/77bhkh/what_other_cultural_concepts_should_china_let_go/', 12), ('About 70% of China\\'s \"missing girls\" is due to not registering their births. As these girls are now turning 18 and going to college or working, the early phase of about 20 million teen girls materializing on the census out of nowhere. (x-post /r/truereddit)', 'https://www.cambridge.org/core/journals/china-quarterly/article/delayed-registration-and-identifying-the-missing-girls-in-china/0759987A48A37E3D2CFE157778747E33/core-reader', 90), ('Can somebody please phonetically spell out, so I know how to pronounce, the last name Liu. Thank you!', 'https://www.reddit.com/r/China/comments/77eii5/can_somebody_please_phonetically_spell_out_so_i/', 1), ('At the Communist Party Congress, Xi Jinping Plays the Emperor', 'https://www.newyorker.com/news/daily-comment/at-the-communist-party-congress-xi-jinping-plays-the-emperor', 3), ('An interview for the legendary Chinese rapper MC Jin', 'https://www.youtube.com/watch?v=FEjGOnrBA80', 0), ('China Is Building Mobile ICBMs (But Is America Paying Attention?)', 'http://nationalinterest.org/blog/the-buzz/china-building-mobile-icbms-america-paying-attention-22775', 5), ('Xinjiang 2017 | This Is What A 21st-Century Police State Really Looks Like', 'https://www.buzzfeed.com/meghara/the-police-state-of-the-future-is-already-here', 109), ('Association of merchants affected by chinese cheaters', 'https://www.reddit.com/r/China/comments/77d5yn/association_of_merchants_affected_by_chinese/', 1), ('A Feast for Crows', 'https://static01.nyt.com/images/2017/10/19/world/19china-takeaways-6/19china-takeaways-6-master675.jpg', 23), ('Instructions unclear, penis stuck in wrench', 'https://mp.weixin.qq.com/s/6W1viCMemscr8HOyfxgrrQ', 3), ('Bar arcade recommendations', 'https://www.reddit.com/r/China/comments/77ddgo/bar_arcade_recommendations/', 1), ('E-sport is not only limited in pc game LOL, DATA, now in China there are VR E-sports which is a break outs for bar owners.', 'https://www.facebook.com/notes/v-of-war/the-final-of-v-of-war-e-sports-competition-is-the-beginning-of-the-end/1988310024783432/', 1), ('A rare picture taken at the 19th National Congress of the Communist Party of China', 'https://imgur.com/gallery/75rBm', 246), ('An online game that makes people clap for Xi Jinping has gone viral today', 'https://www.whatsonweibo.com/chinas-latest-online-viral-game-makes-clap-xi-jinping/', 25), ('China Focus: Ancient child tombs found in China', 'http://news.xinhuanet.com/english/2017-10/17/c_136686009.htm', 4), ('No matter what Taiwan does, China continues invasion plans: researcher', 'https://www.taiwannews.com.tw/en/news/3273885', 15), ('Xi Jinping tests eyelids – and bladders – with three-and-a-half hour speech', 'https://www.theguardian.com/world/2017/oct/18/xi-jinping-tests-eyelids-and-bladders-with-three-and-a-half-hour-speech-congress?CMP=Share_AndroidApp_%ED%81%B4%EB%A6%BD%EB%B3%B4%EB%93%9C%EC%97%90_%EB%B3%B5%EC%82%AC', 23), ('How is Xining and Qinghai?', 'https://www.reddit.com/r/China/comments/77bpaj/how_is_xining_and_qinghai/', 2), ('Breaking: China Moves To Kill The Petrodollar', 'https://youtu.be/Js04un2k3TE', 2), ('Are there any BS degrees actually worth getting in China?', 'https://www.reddit.com/r/China/comments/779om9/are_there_any_bs_degrees_actually_worth_getting/', 5), ('How does one ask \"What is a good Chinese farm book?\" in Chinese? 中国农场书', 'https://zh.wikipedia.org/wiki/%E5%86%9C%E4%B8%9A', 1), (\"A Chinese Celebrity diss the host in an interview about hip-hop environment in China. Do you think he's rude or he's just being real? (English Subtitle)\", 'https://www.youtube.com/watch?v=Fda5tYQVrjw', 1), ('How awesome would it be if everyone in the NPC dressed in traditional attire?', 'https://i.redd.it/epypxbi22ksz.png', 35), (\"Xiamen TV decides to not live broadcast Xi's speech today.\", 'https://i.redd.it/q5u0a4zvxisz.jpg', 67), ('China’s 19th Party Congress and How the Mighty Xi Jinping Could Fall', 'https://www.yahoo.com/news/china-19th-party-congress-mighty-231600600.html', 0), (\"North Korea Update: China's 19th Congress Opens without (missile) fanfare\", 'https://chinaconsidered.com/chinas-19th-congress-opens-without-north-korea-missile-fanfare/', 6), ('China&amp;amp;apos;s Communist Party elders picked Xi Jinping because they thought they could control him. They were wrong', 'http://www.latimes.com/world/asia/la-fg-china-party-congress-xi-2017-story.html', 12), ('Do you think these guys are just being nice or they really like what they hear?', 'https://www.youtube.com/watch?v=jkJzefY-AGg', 0), ('ESL company withholding pay', 'https://www.reddit.com/r/China/comments/77cfl5/esl_company_withholding_pay/', 0), ('Why Do We Keep Writing About Chinese Politics As if We Know More Than We Do?', 'http://www.chinafile.com/reporting-opinion/viewpoint/why-do-we-keep-writing-about-chinese-politics-if-we-know-more-we-do', 16), (\"Xi Jinping: 'Time for China to take centre stage'\", 'http://www.bbc.com/news/world-asia-china-41647872', 13), (\"5 things to know about China's twice-a-decade party congress\", \"https://www.apnews.com/f8f1093ccf6f4851a4f93f9e49d8ae57/5-things-to-know-about-China's-twice-a-decade-party-congress\", 2), ('Why Sick Chinese Swap Pills for Pears, Tea, and Ginger', 'http://www.sixthtone.com/news/1001012/why-sick-chinese-swap-pills-for-pears%2C-tea%2C-and-ginger', 5), (\"Xi Jinping heralds 'new era' of Chinese power at Communist party congress\", 'https://www.theguardian.com/world/2017/oct/18/xi-jinping-speech-new-era-chinese-power-party-congress', 6), ('Taking a Bicycle on the Train - I know, Consignment or Express - Anyone have experience doing it?', 'https://www.reddit.com/r/China/comments/7772e0/taking_a_bicycle_on_the_train_i_know_consignment/', 3), ('Bike Sharing in China - Mobike, Ofo...', 'https://qpsoftware.net/blog/bike-sharing-china-mobike-ofo', 0), ('La La Land Opening Scene Cover by Xiamen Foreign Language School', 'https://www.youtube.com/watch?v=GO8pyNTHN3Q', 111), (\"Xi Jinping declares China's intent to be a 'leading power' by 2050\", 'http://www.businessinsider.com/when-will-china-overtake-world-power-xi-jinping-2017-10', 8), ('Online source for Youmai noodles in the US? (Cheaper than Amazon)', 'https://www.reddit.com/r/China/comments/777vxv/online_source_for_youmai_noodles_in_the_us/', 2), (\"In Xi's Vision for China, 'Environment' Edges Out 'Economy'\", 'https://www.bloomberg.com/news/articles/2017-10-18/in-xi-s-vision-for-china-environment-edges-out-economy', 3), ('Chinese man lands nine months in prison for terrorist joke', 'http://m.scmp.com/news/china/society/article/2112605/comment-about-islamic-state-social-media-lands-chinese-man-prison', 3), ('In Defense of Difficult Art at the Guggenheim (brutalism in modern Chinese art)', 'http://www.vulture.com/2017/10/a-defense-of-difficult-art-at-the-guggenheim.html', 9), ('As Party Gathers, Xi Jinping Displays a Firm Grip on Power', 'https://www.nytimes.com/2017/10/17/world/asia/xi-jinping-communist-party-china.html?_r=0', 23), (\"My company is helping me apply for a work visa, but I don't have 2 years of work experience outside China. What do I do?\", 'https://www.reddit.com/r/China/comments/775a8i/my_company_is_helping_me_apply_for_a_work_visa/', 6), (\"[Audio] The Economics Behind China's Crackdown On Civil Society\", 'http://www.npr.org/2017/10/18/558477319/the-economic-backdrop-to-chinas-crackdown-on-civil-society', 2), ('China congress: Why Beijing has banned hot air balloons? - BBC News', 'https://www.youtube.com/attribution_link?a=bGcVMqFSdLc&amp;u=%2Fwatch%3Fv%3D766b7HExQCo%26feature%3Dshare', 3), ('Xi Plans to \"Turn China Into a Leading Global Power by mid-21st century\"', 'https://www.bloomberg.com/news/articles/2017-10-17/xi-to-put-his-stamp-on-chinese-history-at-congress-party-opening', 3), ('Jinhua or Wuxi ?', 'https://www.reddit.com/r/China/comments/775efi/jinhua_or_wuxi/', 3), ('WeChat profile changes banned and other tech mess ahead of 19th National Congress', 'http://www.thebeijinger.com/blog/2017/10/18/beijing-bans-changing-wechat-profile-picture-and-aliases-disrupts-delivery-services', 9), ('China pioneers rice grown in seawater, aims to boost harvest by 20 per cent', 'http://www.scmp.com/news/china/society/article/2115250/chinese-scientists-put-rice-grown-seawater-nations-tables', 31), ('For people who may plan to do business in China. Some suggestion about how should you play against Tencent', 'https://twitter.com/yattell/status/920476401635024896', 1), (\"Getting a glimpse into China's Communist Party Congress (Photo Gallery)\", 'https://english.kyodonews.net/news/2017/10/7fa198e2c7aa-gallery-chinas-communist-party-congress-begins-in-beijing.html', 3), ('\"The Foreigner\" Movie Review - Film Summary (2017) | Roger Ebert', 'http://www.rogerebert.com/reviews/the-foreigner-2017', 6), ('New traffic reduction methods.', 'https://gfycat.com/RigidIllEgret', 76), ('Car Buffs - 2013 Nissan Rogue = ?????', 'https://www.reddit.com/r/China/comments/776dqh/car_buffs_2013_nissan_rogue/', 1), ('Why China Has No Science, \"because according to her own standard of value she does not need any.\" Published 1922', 'https://www.jstor.org/stable/2377487?', 34), ('Rumors that Eddie Peng is having gay affair with investment firm CEO set Chinese internet ablaze', 'http://shanghaiist.com/2017/10/16/eddie-peng-gay-affair-rumors.php', 18), ('$14 million Chinese gladiator fighting robot \"The Monkey King\".', 'https://www.youtube.com/watch?time_continue=3&amp;v=hCJ9sJHunVA', 2), (\"A dazzling spectacle of China's totalitarianism\", 'https://www.washingtonpost.com/opinions/a-dazzling-spectacle-of-chinas-totalitarianism/2017/10/17/364bf8e4-b296-11e7-9e58-e6288544af98_story.html?utm_term=.17e98635bf15', 27), ('First Ever Indictments Against Designated Chinese Manufacturers of Deadly Fentanyl and Other Opiate Substances', 'https://www.justice.gov/opa/pr/justice-department-announces-first-ever-indictments-against-designated-chinese-manufacturers', 20), ('Mandarin in Beijing sounds atrocious', 'https://www.reddit.com/r/China/comments/76z30f/mandarin_in_beijing_sounds_atrocious/', 25), (\"You're on the subway. You arrive at your stop, positioned by the doors. The doors open. There is someone in your way trying to get on. Do you...\", 'https://www.reddit.com/r/China/comments/76y4ae/youre_on_the_subway_you_arrive_at_your_stop/', 41), ('Oh no, where shall Xi DaDa go for steamed buns?', 'https://pbs.twimg.com/media/DMQqdoUUEAE9WRj.jpg', 13), ('Hepu-Napo Expressway, Guilin, China [1937 × 1227]', 'https://i.redd.it/otux2vnwwasz.jpg', 199), ('Respect academic freedom, Aus tells Chinese students', 'http://www.afr.com/news/respect-academic-freedom-julie-bishop-tells-chinese-students-20171016-gz1mxg', 17), ('China’s Xi Initiates To Build ‘Modern Socialist Country’', 'http://www.newz247.com/chinas-xi-initiates-build-modern-socialist-country/', 0), ('Popular Chinese characters from cartoons, games or comics?', 'https://www.reddit.com/r/China/comments/774p1f/popular_chinese_characters_from_cartoons_games_or/', 1), ('The internet is now totally fucked', 'https://www.reddit.com/r/China/comments/76v79q/the_internet_is_now_totally_fucked/', 162), ('How China’s Financial Cracks Could Spread', 'https://www.wsj.com/articles/how-chinas-financial-cracks-could-spread-1508232602', 3), ('China state media attacks Western democracy ahead of Congress', 'http://reut.rs/2yPLRPT', 21), ('If you wonder how are used all those CCTV on ever corner (recommended watching Person of interest)', 'https://i.imgur.com/WEBTbQF.gifv', 5), ('Do married Chinese woman wear wedding rings?', 'https://www.reddit.com/r/China/comments/76z4mt/do_married_chinese_woman_wear_wedding_rings/', 10), ('100 Chinese terms to know for the 19th Party Congress', 'https://www.whatsonweibo.com/100-terms-communist-party-wants-know-19th-cpc-national-congress/', 3), ('Recipe: How to Make Yangzhou Fried Rice (扬州炒饭)', 'https://www.reddit.com/r/China/comments/76wm6h/recipe_how_to_make_yangzhou_fried_rice_扬州炒饭/', 53), (\"Coming of age in an era of prosperity: Meet China's 'bubble generation' [Reuters]\", 'http://www.reuters.com/article/us-china-congress-classof2012/coming-of-age-in-an-era-of-prosperity-meet-chinas-bubble-generation-idUSKBN1CM1FX', 9), ('MMA \"Orphan\" in Szechuan. A MMA club in Chengdu adopt more than 400 village kids that lost their parents\\' support and could depend on No one. Their dream is to win UFC', 'https://v.redd.it/jeg81vuvbfsz', 5), (\"Canadian-Egyptian waiguo teacher willing stooge for China Daily, claiming sexual harassment doesn't exist in China.\", 'https://www.theguardian.com/world/2017/oct/17/anger-as-chinese-media-claim-harassment-is-just-a-western-problem', 17), (\"Propaganda Reaches Fever Pitch as China's Congress Nears\", 'http://time.com/4985307/xi-jinping-china-propaganda-censorship-19th-congress/', 2), (\"1.3 Billion People Are in One Man's Grip\", 'http://foreignpolicy.com/2017/10/16/1-3-billion-people-are-in-one-mans-grip-xi-jinping-china-party-congress/', 12), ('Anger as Chinese media claim harassment is just a western problem - State newspaper says China does not have Harvey Weinstein-type predators because ‘men are taught to be protective of women’', 'https://www.theguardian.com/world/2017/oct/17/anger-as-chinese-media-claim-harassment-is-just-a-western-problem?CMP=Share_AndroidApp_%ED%81%B4%EB%A6%BD%EB%B3%B4%EB%93%9C%EC%97%90_%EB%B3%B5%EC%82%AC', 8), ('How China’s Economic Shock Therapy is Shaking Up Commodities', 'https://www.bloomberg.com/amp/news/articles/2017-10-17/shaking-up-commodities-where-next-for-china-s-shock-therapy', 2), (\"'Ugly and unsuccessful' man who amazed millions with his gorgeous Ukrainian wife sets up international dating club to help Asian bachelors find pretty European girlfriends (Xpost CCJ)\", 'http://www.dailymail.co.uk/news/article-4970566/Ukrainian-women-seek-Chinese-husbands-dating-club.html', 21), (\"China's Scientists Set New International Record -- For Faked Peer Reviews\", 'https://science.slashdot.org/story/17/10/14/2130259/chinas-scientists-set-new-international-record----for-faked-peer-reviews', 35), (\"Hotel in China's Shenzhen Fined For Breaking Muslim Uyghur Guest Ban\", 'http://www.rfa.org/english/news/uyghur/hotel-10092017103524.html', 0), (\"In China women 'hold up half the sky' but can't touch the political glass ceiling | World news\", 'https://www.theguardian.com/world/2017/oct/14/in-china-women-hold-up-half-the-sky-but-cant-touch-the-political-glass-ceiling', 0), ('How Will China Select Its New Leaders At Its Communist Party Congress?', 'http://wuot.org/post/how-will-china-select-its-new-leaders-its-communist-party-congress', 1), ('Unique fruits or vegetables, specialty foods to try in Guangzhou?', 'https://www.reddit.com/r/China/comments/76z40r/unique_fruits_or_vegetables_specialty_foods_to/', 2), ('Studying in Nanjing or Xiamen university.', 'https://www.reddit.com/r/China/comments/770i88/studying_in_nanjing_or_xiamen_university/', 1), ('Need help hiring an I.T. company', 'https://www.reddit.com/r/China/comments/772eqy/need_help_hiring_an_it_company/', 0), (\"Another overview of the National Congress (It's good to have multiple sources &amp; viewpoints)\", 'http://www.aljazeera.com/news/2017/10/explained-national-congress-china-communist-party-171017140021234.html', 1), ('Filial Piety in Chinese Culture', 'https://china-journal.org/2016/03/14/filial-piety-in-chinese-culture/', 14), ('This place in Shenzhen is using Hitler to sell chicken.', 'https://imgur.com/A4L4yeE', 156), (\"In China, Xi's millennials open up about pressures and dreams\", 'http://www.reuters.com/article/us-backstory-class-of-2012/in-china-xis-millennials-open-up-about-pressures-and-dreams-idUSKBN1CM2QP', 0), ('Is Mastodon blocked?', 'https://www.reddit.com/r/China/comments/76y45z/is_mastodon_blocked/', 2), ('Need an I.T. company in China', 'https://www.reddit.com/r/China/comments/772hot/need_an_it_company_in_china/', 0), ('My bus driver thought I was a criminal or something?', 'https://www.reddit.com/r/China/comments/76z2m1/my_bus_driver_thought_i_was_a_criminal_or/', 1), ('I need a favor. Can I use your phone number?', 'https://www.reddit.com/r/China/comments/7744u0/i_need_a_favor_can_i_use_your_phone_number/', 0), ('Getting a credit card in China', 'https://www.reddit.com/r/China/comments/76xri1/getting_a_credit_card_in_china/', 4), ('How people in Asia-Pacific view China', 'http://www.pewresearch.org/fact-tank/2017/10/16/how-people-in-asia-pacific-view-china/', 2), ('WeChat got a VPN Server blacklist', 'https://www.reddit.com/r/China/comments/76vs0z/wechat_got_a_vpn_server_blacklist/', 8), ('A video of a performance match of the 2017 Chinese University student Kong Fu Tournament', 'https://v.redd.it/5hlho2a8q8sz', 30), ('China, China, China, China: US President Donald Trump to visit Beijing in November', 'https://www.thebeijinger.com/blog/2017/10/17/us-president-donald-trump-visit-beijing-november', 2), ('What will North Korea do for the opening of China’s big government meeting?', 'https://www.reddit.com/r/China/comments/76xqbn/what_will_north_korea_do_for_the_opening_of/', 1), ('How to Make a Viral WeChat Post', 'https://qpsoftware.net/blog/make-viral-wechat-post', 0), ('I &lt;3 China.', 'https://www.reddit.com/r/China/comments/76z9c4/i_3_china/', 0), ('Need help, being evicted on the 19th October', 'https://www.reddit.com/r/China/comments/76v98r/need_help_being_evicted_on_the_19th_october/', 3), ('1 minute in Zhangjiajie National Forest Park 张家界 (Avatar inspiration)', 'https://www.youtube.com/watch?v=GtULhIPRlyc&amp;t=0s', 0), ('can you suggest some neutrality overseas news website about Chinese economics and politics?', 'https://www.reddit.com/r/China/comments/76x674/can_you_suggest_some_neutrality_overseas_news/', 1), ('19h congress meeting, what is happening?', 'https://www.reddit.com/r/China/comments/76qle2/19h_congress_meeting_what_is_happening/', 29), ('HK Right of Abode', 'https://www.reddit.com/r/China/comments/76wtql/hk_right_of_abode/', 1), ('China offers to buy 5 percent of Saudi Aramco directly', 'https://reut.rs/2if4tBA', 18), ('Please help me find the name of this Chinese cough medicine!', 'https://www.reddit.com/r/China/comments/76wg54/please_help_me_find_the_name_of_this_chinese/', 1), ('[Video] China and Hong Kong - Drone Flyover', 'https://youtu.be/PUfFGHisJmY', 5), ('Five Adventurous Activities In Qingdao', 'http://premium.bon-cloud.net/content/five-adventurous-activities-qingdao', 0), ('Living with Reverse Culture Shock, What Happens When You Leave China.', 'https://www.youtube.com/watch?v=qw6IUOvRIYk', 153), ('Is there a way to handwrite Chinese in Windows 10?', 'https://www.reddit.com/r/China/comments/76r9pf/is_there_a_way_to_handwrite_chinese_in_windows_10/', 8), (\"Wanna go to the mall in Xinjiang? You'll need to show ID. (中文)\", 'https://twitter.com/abcdsxg/status/919561174089326592', 16), ('School of Dumplings?', 'https://www.reddit.com/r/China/comments/76v5er/school_of_dumplings/', 0), ('Chinese nationalism reached a new low tonight', 'https://np.reddit.com/r/taiwan/comments/759wc4/this_years_oscar_contenders_from_china_hong_kong/dog401d/', 1), ('Honest question about having sex in China.', 'https://www.reddit.com/r/China/comments/76n3z9/honest_question_about_having_sex_in_china/', 73), ('sorry if i’m late to the party, but i heard that China wants to ban all VPNs by february 2018. will this definitely happen and does this mean every single VPN? (even expressvpn)', 'https://www.reddit.com/r/China/comments/76ra7w/sorry_if_im_late_to_the_party_but_i_heard_that/', 6), ('Canadian \"educator\" says sexual harassment is less common in China because of \"traditional values\"', 'http://www.chinadaily.com.cn/opinion/2017-10/16/content_33316475.htm', 20), (\"For the harmonious society, don't dial 110 in October\", 'https://i.redd.it/7d3ou9cza4sz.jpg', 39), (\"Fake paperwork, poor parts challenge China's aerospace boom\", 'https://reut.rs/2gIMKPr', 13), (\"Alibaba and JD, the two Chinese e-commerce giants are having a retail war. Who's gonna win?\", 'https://twitter.com/yattell/status/916886632560840704', 6), (\"I am back in China visiting after living here for a year and I'm wondering if I romanticized my experience as a defense mechanism. Has anyone experienced the same thing?\", 'https://www.reddit.com/r/China/comments/76onm4/i_am_back_in_china_visiting_after_living_here_for/', 21), ('Question about communist china', 'https://www.reddit.com/r/China/comments/76w8jb/question_about_communist_china/', 0), ('Shadowsocks get blocked in China today?', 'https://www.reddit.com/r/China/comments/76pmad/shadowsocks_get_blocked_in_china_today/', 7), ('Content allowed on baidu?', 'https://www.reddit.com/r/China/comments/76s441/content_allowed_on_baidu/', 2), ('Two hour long ques at Beijing metro station due to government meeting', 'http://www.thebeijinger.com/blog/2017/10/16/beijing-metro-flooded-massive-crowds-plenum-approaches', 7), ('A Record of 709 - human rights lawyer Xie Yanyi recounts his 553 days in secret detention in Tianjin as part of the still ongoing 709 crackdown', 'https://chinachange.org/2017/10/15/a-record-of-709/', 32), ('Where is China’s development finance really going?', 'http://brook.gs/2hCqZRg', 2), ('Ask /r/China. Has any of you foreigners in China complained about the Internet restriction to your local ISPs?', 'https://www.reddit.com/r/China/comments/76sx93/ask_rchina_has_any_of_you_foreigners_in_china/', 0), ('Anyone familiar with Suzhou? In particular the student life in Suzhou?', 'https://www.reddit.com/r/China/comments/76pmc8/anyone_familiar_with_suzhou_in_particular_the/', 5), ('Worth visiting Beijing during the Plenum?', 'https://www.reddit.com/r/China/comments/76qq6a/worth_visiting_beijing_during_the_plenum/', 2), ('How to Transfer Money from an American Bank account to a Chinese Bank?', 'https://www.reddit.com/r/China/comments/76pv25/how_to_transfer_money_from_an_american_bank/', 3), ('Guiyang, Guizhou?', 'https://www.reddit.com/r/China/comments/76pg0p/guiyang_guizhou/', 3), ('Li KaShing is pulling out.', 'http://hkm.appledaily.com/detail.php?issue=20171016&amp;guid=57337301&amp;category_guid=7015342&amp;category=instant', 11), ('Flying to China with motion sickness', 'https://www.reddit.com/r/China/comments/76uci1/flying_to_china_with_motion_sickness/', 0), ('Does anyone know what this is? Help is appreciated :)', 'https://i.redd.it/oxj1hh2gs5sz.jpg', 3), ('UK lawyers say Hong Kong rule of law under threat after jailing of activists', 'https://www.theguardian.com/world/2017/oct/16/uk-lawyers-say-hong-kong-rule-of-law-under-threat-after-jailing-of-activists?CMP=Share_AndroidApp_%ED%81%B4%EB%A6%BD%EB%B3%B4%EB%93%9C%EC%97%90_%EB%B3%B5%EC%82%AC', 16), ('Discuss.', 'https://i.redd.it/uyu5r2mz13sz.jpg', 13), ('Official anthem of the Laowai Autonomous Region', 'https://youtu.be/BELlZKpi1Zs', 14), ('Watching Donald Trump Say China For 40 Mins', 'https://youtu.be/Lq_GmR8xlWU', 0), ('Human Rights in China Worsen as Beijing Extends Reach to Hong Kong: Report', 'http://www.rfa.org/english/news/china/human-rights-in-china-worsen-as-beijing-extends-reach-to-hong-kong-report-10062017121023.html/', 8), ('Where can I get the best ahi poke bowl in Shanghai?', 'https://www.reddit.com/r/China/comments/76pqjn/where_can_i_get_the_best_ahi_poke_bowl_in_shanghai/', 0), ('Commitments', 'https://www.reddit.com/r/China/comments/76oqgh/commitments/', 2), ('China’s first space station, Tiangong-1, is doomed to plummet into Earth within the coming months.', 'https://article.wn.com/view/2017/10/13/Chinese_Space_Station_Will_Fall_To_Earth_In_A_Few_Months/', 5), ('Weekly /r/China Discussion Thread - October 16, 2017', 'https://www.reddit.com/r/China/comments/76m2r5/weekly_rchina_discussion_thread_october_16_2017/', 10), ('Gaurds &amp; Point Gaurds', 'https://i.redd.it/80zo38u8e0sz.jpg', 32), (\"The ideological war playing out on China's internet\", 'http://edition.cnn.com/2017/10/15/asia/china-party-congress-internet-censorship/index.html', 22), ('To Inspire Young Communists, China Turns to ‘Red Army’ Schools', 'https://www.nytimes.com/2017/10/15/world/asia/china-schools-propaganda-education.html?emc=edit_mbae_20171015&amp;nl=&amp;nlid=73055172&amp;te=1', 7), (\"China's Central Bank Chief Warns Corporate Debt Is Too High\", 'https://www.bloomberg.com/amp/news/articles/2017-10-15/china-s-zhou-warns-corporate-debt-too-high-urges-fiscal-reform', 3), ('LOL China just blocked all unregistered UDP connections...?', 'https://www.reddit.com/r/China/comments/76hjrm/lol_china_just_blocked_all_unregistered_udp/', 81), ('Thinking about maybe buying an iPhone in China', 'https://www.reddit.com/r/China/comments/76o4ty/thinking_about_maybe_buying_an_iphone_in_china/', 0), (\"China confirms will amend party constitution, likely to include Xi's theories\", 'https://www.reuters.com/article/us-china-congress/china-confirms-will-amend-party-constitution-likely-to-include-xis-theories-idUSKBN1CJ0ED?il=0', 55), ('China up close: Japan and China send sweet words, for now- Nikkei Asian Review', 'https://asia.nikkei.com/Features/China-up-close/Japan-and-China-send-sweet-words-for-now', 4), ('How bad is it to steal a trolly and dump it in a river?', 'https://www.reddit.com/r/China/comments/76ny54/how_bad_is_it_to_steal_a_trolly_and_dump_it_in_a/', 0), ('Famous warriors group from china?', 'https://www.reddit.com/r/China/comments/76knf2/famous_warriors_group_from_china/', 4), ('Chinese students are being drawn to America’s faith-based universities', 'http://www.scmp.com/news/hong-kong/education/article/2115284/why-chinese-students-are-being-drawn-americas-faith-based', 35), (\"Is there really less corruption in China after Xi's anti-corruption campaign?\", 'https://www.reddit.com/r/China/comments/76gvsz/is_there_really_less_corruption_in_china_after/', 48), ('Where to buy phone online in China?', 'https://www.reddit.com/r/China/comments/76i73w/where_to_buy_phone_online_in_china/', 8), (\"Fruit, prawns off the menu at China's austere party Congress\", 'http://reut.rs/2hHkb4R', 11), ('Foreign Torrents now banned in China', 'https://www.reddit.com/r/China/comments/76h11t/foreign_torrents_now_banned_in_china/', 13), ('Help with Aliyun shadowsocks server', 'https://www.reddit.com/r/China/comments/76jen1/help_with_aliyun_shadowsocks_server/', 3), ('Insane amount of business debt in China, what can I do?', 'https://www.reddit.com/r/China/comments/76kqbl/insane_amount_of_business_debt_in_china_what_can/', 1), ('The Town at the Heart of China’s Black Market in Ivory', 'http://www.chinafile.com/multimedia/video/town-heart-of-chinas-black-market-ivory', 15), ('What offensive eating habits do Westerners have?', 'https://www.reddit.com/r/China/comments/76ey3t/what_offensive_eating_habits_do_westerners_have/', 35), ('Anyone use Popcorn Time to watch movies/TV?', 'https://www.reddit.com/r/China/comments/76jwn2/anyone_use_popcorn_time_to_watch_moviestv/', 1), ('Tiger Leaping Gorge with a small kid', 'https://www.reddit.com/r/China/comments/76h4yl/tiger_leaping_gorge_with_a_small_kid/', 7), ('Up to 90% of Chinese Exchange Students Have Hired Essay Ghostwriters - Why is this so common?', 'https://jitterymonks.com/report-90-chinese-exchange-students-purchasing-essays-online/', 903), ('current consensus on vpn/gfw bypass?', 'https://www.reddit.com/r/China/comments/76gjsw/current_consensus_on_vpngfw_bypass/', 8), ('The LAST chance of seeing Chinese on free Internet', 'https://fuckcf.cf/Talk.ZeroNetwork.bit/?Topic:2_15Q5U52Aqgjb66GkzhkGKDYgWsqR8TEkJG/The+LAST+chance+of+seeing+Chinese+on+free+Internet', 25), ('Two unrelated questions', 'https://www.reddit.com/r/China/comments/76h3ll/two_unrelated_questions/', 4), ('Does China need to rebrand itself?', 'https://www.reddit.com/r/China/comments/76lnl8/does_china_need_to_rebrand_itself/', 0), ('Hot water tank gets cold fast', 'https://www.reddit.com/r/China/comments/76gccg/hot_water_tank_gets_cold_fast/', 8), ('Chairman Xi crushes dissent but poor believe he’s making China great', 'https://www.theguardian.com/world/2017/oct/14/xi-jinping-crushes-dissent-but-making-china-great-again', 9), ('Rooftopping – climbing high in Shanghai | DW Documentary', 'https://www.youtube.com/attribution_link?a=MFjIcyDt9LU&amp;u=%2Fwatch%3Fv%3D6OBgbLg2t3Q%26feature%3Dshare', 0), ('No longer can live stream from Australia', 'https://www.reddit.com/r/China/comments/76hgcc/no_longer_can_live_stream_from_australia/', 4), ('Using: A 2009 documentary in heroin use in China', 'https://www.youtube.com/watch?v=Ynw0gCRwDAQ&amp;t=90s', 1), (\"China's first blind cinema shows over 600 films for the vision-impaired\", 'https://www.youtube.com/watch?v=faWr_grd_Pk', 8), ('Fat Shady (Xie Di) - Fuck Off Foreigners (Gua Laowai) [CLASSIC JAM]', 'https://www.youtube.com/watch?v=lC64FcfC8hE', 0), (\"In China women 'hold up half the sky' but can't touch the political glass ceiling | World news\", 'https://www.theguardian.com/world/2017/oct/14/in-china-women-hold-up-half-the-sky-but-cant-touch-the-political-glass-ceiling?CMP=share_btn_tw', 7), ('Any similar blogs to Sex and Shanghai (Chinabounder blog)?', 'https://www.reddit.com/r/China/comments/76h1o7/any_similar_blogs_to_sex_and_shanghai/', 3), ('FOTAN LAIKI - \"🔥火炭麗琪🔥\" ft. YoungQueenz【MV】', 'https://www.youtube.com/watch?v=nDp-zfU64PM', 0), ('GUNGCHI (公廁) / N.O.L.Y &amp; YoungQueenz【MV】', 'https://www.youtube.com/watch?v=NrEc3AuW68I', 1), ('How do I buy an iPhone X clone from china?', 'https://www.reddit.com/r/China/comments/76i48f/how_do_i_buy_an_iphone_x_clone_from_china/', 1), ('Beijing Philanthropist Commits $1.5 Billion to Conservation', 'https://www.bloomberg.com/news/articles/2017-10-12/beijing-philanthropist-he-qiaonv-commits-1-5-billion-to-conservation', 34), (\"Food in China that doesn't contain soy\", 'https://www.reddit.com/r/China/comments/76gs9w/food_in_china_that_doesnt_contain_soy/', 2), ('Chinese graduates and undergraduates are targeted by scam job and study offers, pyramid schemes etc.', 'http://www.scmp.com/news/china/society/article/2115088/scammers-snare-chinese-students-fake-job-and-study-offers', 1), (\"China Focus: China's Good Samaritan law goes into effect - Xinhua\", 'http://news.xinhuanet.com/english/2017-10/08/c_136665270.htm', 9), ('Why is Chinese online novel gaining more are more popularity in Western communities?', 'https://twitter.com/yattell/status/917857467845038080', 0), ('Transformative Payment vs. Payment system launched: Yuan and Ruble', 'https://chinaconsidered.com/payment-vs-payment-system-launched-yuan/', 5), ('Mandarin rapidly becoming a global language', 'http://www.chinadaily.com.cn/opinion/2017-10/13/content_33190150.htm', 0), ('China Eyeing Structural Reforms Amid Spike in Economic Growth', 'https://sputniknews.com/analysis/201710141058234396-china-economy-liberalization-plans/', 5), ('In China, the war on coal just got serious', 'http://www.smh.com.au/world/in-china-the-war-on-coal-just-got-serious-20171011-gyyvi6.html', 5), ('Test post: is Reddit and Streamable working in China?', 'https://www.reddit.com/r/China/comments/76gt09/test_post_is_reddit_and_streamable_working_in/', 0), (\"What if I told you that it's my job to bash the CCP on /r/china?\", 'https://www.reddit.com/r/China/comments/76an63/what_if_i_told_you_that_its_my_job_to_bash_the/', 15), ('The West should stop worrying about China’s AI revolution', 'https://www.technologyreview.com/s/609038/chinas-ai-awakening/', 9)]\n"
     ]
    }
   ],
   "source": [
    "from time import sleep\n",
    "\n",
    "def get_links(subreddit, token, n_pages=5):\n",
    "    \n",
    "    print(token,subreddit)\n",
    "    stories = []\n",
    "    after = None\n",
    "    for page_number in range(n_pages):\n",
    "        result={}\n",
    "        url = \"https://oauth.reddit.com/r/{}limit=100\".format(subreddit)\n",
    "        headers = {\"Authorization\": \"bearer {}\".format(token['access_token']),\"User-Agent\": USER_AGENT}\n",
    "        \n",
    "        if after:\n",
    "            url += \"&after={}\".format(after)\n",
    "        response = requests.get(url, headers=headers)\n",
    "        # print(type(response))\n",
    "        # print(response)\n",
    "        result = response.json()\n",
    "        \n",
    "        for story in result['data']['children']:\n",
    "            print(story['data']['title'])\n",
    "        after = result['data']['after']\n",
    "        sleep(2)\n",
    "        \n",
    "        stories.extend([(story['data']['title'], story['data']['url'],story['data']['score']) for story in result['data']['children']])\n",
    "    \n",
    "    return stories\n",
    "    \n",
    "stories = get_links(\"china?\", token)\n",
    "print(stories)"
   ]
  },
  {
   "cell_type": "code",
   "execution_count": 3,
   "metadata": {
    "scrolled": false
   },
   "outputs": [
    {
     "name": "stdout",
     "output_type": "stream",
     "text": [
      "<class 'str'>\n",
      "F:\\Desktop\\Learning-Data-Mining-with-Python\\Data\\websites\\raw\\22158005fcd1933170f0b44791369e1b.txt\n",
      "writing\n",
      "<class 'str'>\n",
      "F:\\Desktop\\Learning-Data-Mining-with-Python\\Data\\websites\\raw\\6e7165f28c9586fbc363b23a73af6f3b.txt\n",
      "writing\n",
      "<class 'str'>\n",
      "F:\\Desktop\\Learning-Data-Mining-with-Python\\Data\\websites\\raw\\890c3974d379d0527d4cc0acca32821d.txt\n",
      "writing\n",
      "<class 'str'>\n",
      "F:\\Desktop\\Learning-Data-Mining-with-Python\\Data\\websites\\raw\\d91d1ecea2ff489194a546413e856167.txt\n",
      "writing\n",
      "<class 'str'>\n",
      "F:\\Desktop\\Learning-Data-Mining-with-Python\\Data\\websites\\raw\\aba1a172195103751bb899cf9012f054.txt\n",
      "writing\n",
      "<class 'str'>\n",
      "F:\\Desktop\\Learning-Data-Mining-with-Python\\Data\\websites\\raw\\1d81d40c731a66199829110a86453d3c.txt\n",
      "writing\n",
      "<class 'str'>\n",
      "F:\\Desktop\\Learning-Data-Mining-with-Python\\Data\\websites\\raw\\0e063e2667997fd784fe6cee965b92e7.txt\n",
      "writing\n",
      "<class 'str'>\n",
      "F:\\Desktop\\Learning-Data-Mining-with-Python\\Data\\websites\\raw\\20f5621a1648eee81ff4f291e977606d.txt\n",
      "writing\n",
      "<class 'str'>\n",
      "F:\\Desktop\\Learning-Data-Mining-with-Python\\Data\\websites\\raw\\180ba38fa823ed023d6d34b61c5deff7.txt\n",
      "writing\n",
      "<class 'str'>\n",
      "F:\\Desktop\\Learning-Data-Mining-with-Python\\Data\\websites\\raw\\37bb99ff03cab3beb950f1cc2df89ba9.txt\n",
      "writing\n",
      "<class 'str'>\n",
      "F:\\Desktop\\Learning-Data-Mining-with-Python\\Data\\websites\\raw\\81c8ba8bc6f83f866d0ee8373810e77a.txt\n",
      "writing\n",
      "<class 'str'>\n",
      "F:\\Desktop\\Learning-Data-Mining-with-Python\\Data\\websites\\raw\\9a23d16ede07dfc94bac9b703e0f665a.txt\n",
      "writing\n",
      "<class 'str'>\n",
      "F:\\Desktop\\Learning-Data-Mining-with-Python\\Data\\websites\\raw\\363b1571a1882143e06716cc5a851e5f.txt\n",
      "writing\n",
      "<class 'str'>\n",
      "F:\\Desktop\\Learning-Data-Mining-with-Python\\Data\\websites\\raw\\5d96d5267bd3ec4aaccf4e852edd9efb.txt\n"
     ]
    },
    {
     "ename": "KeyboardInterrupt",
     "evalue": "",
     "traceback": [
      "\u001b[1;31m---------------------------------------------------------------------------\u001b[0m",
      "\u001b[1;31mTypeError\u001b[0m                                 Traceback (most recent call last)",
      "\u001b[1;32mE:\\Anaconda3\\envs\\DataMining\\lib\\site-packages\\urllib3\\connectionpool.py\u001b[0m in \u001b[0;36m_make_request\u001b[1;34m(self, conn, method, url, timeout, chunked, **httplib_request_kw)\u001b[0m\n\u001b[0;32m    379\u001b[0m             \u001b[1;32mtry\u001b[0m\u001b[1;33m:\u001b[0m  \u001b[1;31m# Python 2.7, use buffering of HTTP responses\u001b[0m\u001b[1;33m\u001b[0m\u001b[0m\n\u001b[1;32m--> 380\u001b[1;33m                 \u001b[0mhttplib_response\u001b[0m \u001b[1;33m=\u001b[0m \u001b[0mconn\u001b[0m\u001b[1;33m.\u001b[0m\u001b[0mgetresponse\u001b[0m\u001b[1;33m(\u001b[0m\u001b[0mbuffering\u001b[0m\u001b[1;33m=\u001b[0m\u001b[1;32mTrue\u001b[0m\u001b[1;33m)\u001b[0m\u001b[1;33m\u001b[0m\u001b[0m\n\u001b[0m\u001b[0;32m    381\u001b[0m             \u001b[1;32mexcept\u001b[0m \u001b[0mTypeError\u001b[0m\u001b[1;33m:\u001b[0m  \u001b[1;31m# Python 2.6 and older, Python 3\u001b[0m\u001b[1;33m\u001b[0m\u001b[0m\n",
      "\u001b[1;31mTypeError\u001b[0m: getresponse() got an unexpected keyword argument 'buffering'",
      "\nDuring handling of the above exception, another exception occurred:\n",
      "\u001b[1;31mKeyboardInterrupt\u001b[0m                         Traceback (most recent call last)",
      "\u001b[1;32m<ipython-input-3-6a5d3f3b523d>\u001b[0m in \u001b[0;36m<module>\u001b[1;34m()\u001b[0m\n\u001b[0;32m     10\u001b[0m     \u001b[0mprint\u001b[0m\u001b[1;33m(\u001b[0m\u001b[0mfullpath\u001b[0m\u001b[1;33m)\u001b[0m\u001b[1;33m\u001b[0m\u001b[0m\n\u001b[0;32m     11\u001b[0m     \u001b[1;32mtry\u001b[0m\u001b[1;33m:\u001b[0m\u001b[1;33m\u001b[0m\u001b[0m\n\u001b[1;32m---> 12\u001b[1;33m         \u001b[0mresponse\u001b[0m \u001b[1;33m=\u001b[0m \u001b[0mrequests\u001b[0m\u001b[1;33m.\u001b[0m\u001b[0mget\u001b[0m\u001b[1;33m(\u001b[0m\u001b[0murl\u001b[0m\u001b[1;33m)\u001b[0m\u001b[1;33m\u001b[0m\u001b[0m\n\u001b[0m\u001b[0;32m     13\u001b[0m         \u001b[0mdata\u001b[0m \u001b[1;33m=\u001b[0m \u001b[0mresponse\u001b[0m\u001b[1;33m.\u001b[0m\u001b[0mtext\u001b[0m\u001b[1;33m\u001b[0m\u001b[0m\n\u001b[0;32m     14\u001b[0m         \u001b[1;32mwith\u001b[0m \u001b[0mopen\u001b[0m\u001b[1;33m(\u001b[0m\u001b[0mfullpath\u001b[0m\u001b[1;33m,\u001b[0m \u001b[1;34m'w'\u001b[0m\u001b[1;33m,\u001b[0m\u001b[0mencoding\u001b[0m\u001b[1;33m=\u001b[0m\u001b[1;34m'utf-8'\u001b[0m\u001b[1;33m)\u001b[0m \u001b[1;32mas\u001b[0m \u001b[0moutf\u001b[0m\u001b[1;33m:\u001b[0m\u001b[1;33m\u001b[0m\u001b[0m\n",
      "\u001b[1;32mE:\\Anaconda3\\envs\\DataMining\\lib\\site-packages\\requests\\api.py\u001b[0m in \u001b[0;36mget\u001b[1;34m(url, params, **kwargs)\u001b[0m\n\u001b[0;32m     70\u001b[0m \u001b[1;33m\u001b[0m\u001b[0m\n\u001b[0;32m     71\u001b[0m     \u001b[0mkwargs\u001b[0m\u001b[1;33m.\u001b[0m\u001b[0msetdefault\u001b[0m\u001b[1;33m(\u001b[0m\u001b[1;34m'allow_redirects'\u001b[0m\u001b[1;33m,\u001b[0m \u001b[1;32mTrue\u001b[0m\u001b[1;33m)\u001b[0m\u001b[1;33m\u001b[0m\u001b[0m\n\u001b[1;32m---> 72\u001b[1;33m     \u001b[1;32mreturn\u001b[0m \u001b[0mrequest\u001b[0m\u001b[1;33m(\u001b[0m\u001b[1;34m'get'\u001b[0m\u001b[1;33m,\u001b[0m \u001b[0murl\u001b[0m\u001b[1;33m,\u001b[0m \u001b[0mparams\u001b[0m\u001b[1;33m=\u001b[0m\u001b[0mparams\u001b[0m\u001b[1;33m,\u001b[0m \u001b[1;33m**\u001b[0m\u001b[0mkwargs\u001b[0m\u001b[1;33m)\u001b[0m\u001b[1;33m\u001b[0m\u001b[0m\n\u001b[0m\u001b[0;32m     73\u001b[0m \u001b[1;33m\u001b[0m\u001b[0m\n\u001b[0;32m     74\u001b[0m \u001b[1;33m\u001b[0m\u001b[0m\n",
      "\u001b[1;32mE:\\Anaconda3\\envs\\DataMining\\lib\\site-packages\\requests\\api.py\u001b[0m in \u001b[0;36mrequest\u001b[1;34m(method, url, **kwargs)\u001b[0m\n\u001b[0;32m     56\u001b[0m     \u001b[1;31m# cases, and look like a memory leak in others.\u001b[0m\u001b[1;33m\u001b[0m\u001b[1;33m\u001b[0m\u001b[0m\n\u001b[0;32m     57\u001b[0m     \u001b[1;32mwith\u001b[0m \u001b[0msessions\u001b[0m\u001b[1;33m.\u001b[0m\u001b[0mSession\u001b[0m\u001b[1;33m(\u001b[0m\u001b[1;33m)\u001b[0m \u001b[1;32mas\u001b[0m \u001b[0msession\u001b[0m\u001b[1;33m:\u001b[0m\u001b[1;33m\u001b[0m\u001b[0m\n\u001b[1;32m---> 58\u001b[1;33m         \u001b[1;32mreturn\u001b[0m \u001b[0msession\u001b[0m\u001b[1;33m.\u001b[0m\u001b[0mrequest\u001b[0m\u001b[1;33m(\u001b[0m\u001b[0mmethod\u001b[0m\u001b[1;33m=\u001b[0m\u001b[0mmethod\u001b[0m\u001b[1;33m,\u001b[0m \u001b[0murl\u001b[0m\u001b[1;33m=\u001b[0m\u001b[0murl\u001b[0m\u001b[1;33m,\u001b[0m \u001b[1;33m**\u001b[0m\u001b[0mkwargs\u001b[0m\u001b[1;33m)\u001b[0m\u001b[1;33m\u001b[0m\u001b[0m\n\u001b[0m\u001b[0;32m     59\u001b[0m \u001b[1;33m\u001b[0m\u001b[0m\n\u001b[0;32m     60\u001b[0m \u001b[1;33m\u001b[0m\u001b[0m\n",
      "\u001b[1;32mE:\\Anaconda3\\envs\\DataMining\\lib\\site-packages\\requests\\sessions.py\u001b[0m in \u001b[0;36mrequest\u001b[1;34m(self, method, url, params, data, headers, cookies, files, auth, timeout, allow_redirects, proxies, hooks, stream, verify, cert, json)\u001b[0m\n\u001b[0;32m    506\u001b[0m         }\n\u001b[0;32m    507\u001b[0m         \u001b[0msend_kwargs\u001b[0m\u001b[1;33m.\u001b[0m\u001b[0mupdate\u001b[0m\u001b[1;33m(\u001b[0m\u001b[0msettings\u001b[0m\u001b[1;33m)\u001b[0m\u001b[1;33m\u001b[0m\u001b[0m\n\u001b[1;32m--> 508\u001b[1;33m         \u001b[0mresp\u001b[0m \u001b[1;33m=\u001b[0m \u001b[0mself\u001b[0m\u001b[1;33m.\u001b[0m\u001b[0msend\u001b[0m\u001b[1;33m(\u001b[0m\u001b[0mprep\u001b[0m\u001b[1;33m,\u001b[0m \u001b[1;33m**\u001b[0m\u001b[0msend_kwargs\u001b[0m\u001b[1;33m)\u001b[0m\u001b[1;33m\u001b[0m\u001b[0m\n\u001b[0m\u001b[0;32m    509\u001b[0m \u001b[1;33m\u001b[0m\u001b[0m\n\u001b[0;32m    510\u001b[0m         \u001b[1;32mreturn\u001b[0m \u001b[0mresp\u001b[0m\u001b[1;33m\u001b[0m\u001b[0m\n",
      "\u001b[1;32mE:\\Anaconda3\\envs\\DataMining\\lib\\site-packages\\requests\\sessions.py\u001b[0m in \u001b[0;36msend\u001b[1;34m(self, request, **kwargs)\u001b[0m\n\u001b[0;32m    616\u001b[0m \u001b[1;33m\u001b[0m\u001b[0m\n\u001b[0;32m    617\u001b[0m         \u001b[1;31m# Send the request\u001b[0m\u001b[1;33m\u001b[0m\u001b[1;33m\u001b[0m\u001b[0m\n\u001b[1;32m--> 618\u001b[1;33m         \u001b[0mr\u001b[0m \u001b[1;33m=\u001b[0m \u001b[0madapter\u001b[0m\u001b[1;33m.\u001b[0m\u001b[0msend\u001b[0m\u001b[1;33m(\u001b[0m\u001b[0mrequest\u001b[0m\u001b[1;33m,\u001b[0m \u001b[1;33m**\u001b[0m\u001b[0mkwargs\u001b[0m\u001b[1;33m)\u001b[0m\u001b[1;33m\u001b[0m\u001b[0m\n\u001b[0m\u001b[0;32m    619\u001b[0m \u001b[1;33m\u001b[0m\u001b[0m\n\u001b[0;32m    620\u001b[0m         \u001b[1;31m# Total elapsed time of the request (approximately)\u001b[0m\u001b[1;33m\u001b[0m\u001b[1;33m\u001b[0m\u001b[0m\n",
      "\u001b[1;32mE:\\Anaconda3\\envs\\DataMining\\lib\\site-packages\\requests\\adapters.py\u001b[0m in \u001b[0;36msend\u001b[1;34m(self, request, stream, timeout, verify, cert, proxies)\u001b[0m\n\u001b[0;32m    438\u001b[0m                     \u001b[0mdecode_content\u001b[0m\u001b[1;33m=\u001b[0m\u001b[1;32mFalse\u001b[0m\u001b[1;33m,\u001b[0m\u001b[1;33m\u001b[0m\u001b[0m\n\u001b[0;32m    439\u001b[0m                     \u001b[0mretries\u001b[0m\u001b[1;33m=\u001b[0m\u001b[0mself\u001b[0m\u001b[1;33m.\u001b[0m\u001b[0mmax_retries\u001b[0m\u001b[1;33m,\u001b[0m\u001b[1;33m\u001b[0m\u001b[0m\n\u001b[1;32m--> 440\u001b[1;33m                     \u001b[0mtimeout\u001b[0m\u001b[1;33m=\u001b[0m\u001b[0mtimeout\u001b[0m\u001b[1;33m\u001b[0m\u001b[0m\n\u001b[0m\u001b[0;32m    441\u001b[0m                 )\n\u001b[0;32m    442\u001b[0m \u001b[1;33m\u001b[0m\u001b[0m\n",
      "\u001b[1;32mE:\\Anaconda3\\envs\\DataMining\\lib\\site-packages\\urllib3\\connectionpool.py\u001b[0m in \u001b[0;36murlopen\u001b[1;34m(self, method, url, body, headers, retries, redirect, assert_same_host, timeout, pool_timeout, release_conn, chunked, body_pos, **response_kw)\u001b[0m\n\u001b[0;32m    599\u001b[0m                                                   \u001b[0mtimeout\u001b[0m\u001b[1;33m=\u001b[0m\u001b[0mtimeout_obj\u001b[0m\u001b[1;33m,\u001b[0m\u001b[1;33m\u001b[0m\u001b[0m\n\u001b[0;32m    600\u001b[0m                                                   \u001b[0mbody\u001b[0m\u001b[1;33m=\u001b[0m\u001b[0mbody\u001b[0m\u001b[1;33m,\u001b[0m \u001b[0mheaders\u001b[0m\u001b[1;33m=\u001b[0m\u001b[0mheaders\u001b[0m\u001b[1;33m,\u001b[0m\u001b[1;33m\u001b[0m\u001b[0m\n\u001b[1;32m--> 601\u001b[1;33m                                                   chunked=chunked)\n\u001b[0m\u001b[0;32m    602\u001b[0m \u001b[1;33m\u001b[0m\u001b[0m\n\u001b[0;32m    603\u001b[0m             \u001b[1;31m# If we're going to release the connection in ``finally:``, then\u001b[0m\u001b[1;33m\u001b[0m\u001b[1;33m\u001b[0m\u001b[0m\n",
      "\u001b[1;32mE:\\Anaconda3\\envs\\DataMining\\lib\\site-packages\\urllib3\\connectionpool.py\u001b[0m in \u001b[0;36m_make_request\u001b[1;34m(self, conn, method, url, timeout, chunked, **httplib_request_kw)\u001b[0m\n\u001b[0;32m    381\u001b[0m             \u001b[1;32mexcept\u001b[0m \u001b[0mTypeError\u001b[0m\u001b[1;33m:\u001b[0m  \u001b[1;31m# Python 2.6 and older, Python 3\u001b[0m\u001b[1;33m\u001b[0m\u001b[0m\n\u001b[0;32m    382\u001b[0m                 \u001b[1;32mtry\u001b[0m\u001b[1;33m:\u001b[0m\u001b[1;33m\u001b[0m\u001b[0m\n\u001b[1;32m--> 383\u001b[1;33m                     \u001b[0mhttplib_response\u001b[0m \u001b[1;33m=\u001b[0m \u001b[0mconn\u001b[0m\u001b[1;33m.\u001b[0m\u001b[0mgetresponse\u001b[0m\u001b[1;33m(\u001b[0m\u001b[1;33m)\u001b[0m\u001b[1;33m\u001b[0m\u001b[0m\n\u001b[0m\u001b[0;32m    384\u001b[0m                 \u001b[1;32mexcept\u001b[0m \u001b[0mException\u001b[0m \u001b[1;32mas\u001b[0m \u001b[0me\u001b[0m\u001b[1;33m:\u001b[0m\u001b[1;33m\u001b[0m\u001b[0m\n\u001b[0;32m    385\u001b[0m                     \u001b[1;31m# Remove the TypeError from the exception chain in Python 3;\u001b[0m\u001b[1;33m\u001b[0m\u001b[1;33m\u001b[0m\u001b[0m\n",
      "\u001b[1;32mE:\\Anaconda3\\envs\\DataMining\\lib\\http\\client.py\u001b[0m in \u001b[0;36mgetresponse\u001b[1;34m(self)\u001b[0m\n\u001b[0;32m   1196\u001b[0m         \u001b[1;32mtry\u001b[0m\u001b[1;33m:\u001b[0m\u001b[1;33m\u001b[0m\u001b[0m\n\u001b[0;32m   1197\u001b[0m             \u001b[1;32mtry\u001b[0m\u001b[1;33m:\u001b[0m\u001b[1;33m\u001b[0m\u001b[0m\n\u001b[1;32m-> 1198\u001b[1;33m                 \u001b[0mresponse\u001b[0m\u001b[1;33m.\u001b[0m\u001b[0mbegin\u001b[0m\u001b[1;33m(\u001b[0m\u001b[1;33m)\u001b[0m\u001b[1;33m\u001b[0m\u001b[0m\n\u001b[0m\u001b[0;32m   1199\u001b[0m             \u001b[1;32mexcept\u001b[0m \u001b[0mConnectionError\u001b[0m\u001b[1;33m:\u001b[0m\u001b[1;33m\u001b[0m\u001b[0m\n\u001b[0;32m   1200\u001b[0m                 \u001b[0mself\u001b[0m\u001b[1;33m.\u001b[0m\u001b[0mclose\u001b[0m\u001b[1;33m(\u001b[0m\u001b[1;33m)\u001b[0m\u001b[1;33m\u001b[0m\u001b[0m\n",
      "\u001b[1;32mE:\\Anaconda3\\envs\\DataMining\\lib\\http\\client.py\u001b[0m in \u001b[0;36mbegin\u001b[1;34m(self)\u001b[0m\n\u001b[0;32m    295\u001b[0m         \u001b[1;31m# read until we get a non-100 response\u001b[0m\u001b[1;33m\u001b[0m\u001b[1;33m\u001b[0m\u001b[0m\n\u001b[0;32m    296\u001b[0m         \u001b[1;32mwhile\u001b[0m \u001b[1;32mTrue\u001b[0m\u001b[1;33m:\u001b[0m\u001b[1;33m\u001b[0m\u001b[0m\n\u001b[1;32m--> 297\u001b[1;33m             \u001b[0mversion\u001b[0m\u001b[1;33m,\u001b[0m \u001b[0mstatus\u001b[0m\u001b[1;33m,\u001b[0m \u001b[0mreason\u001b[0m \u001b[1;33m=\u001b[0m \u001b[0mself\u001b[0m\u001b[1;33m.\u001b[0m\u001b[0m_read_status\u001b[0m\u001b[1;33m(\u001b[0m\u001b[1;33m)\u001b[0m\u001b[1;33m\u001b[0m\u001b[0m\n\u001b[0m\u001b[0;32m    298\u001b[0m             \u001b[1;32mif\u001b[0m \u001b[0mstatus\u001b[0m \u001b[1;33m!=\u001b[0m \u001b[0mCONTINUE\u001b[0m\u001b[1;33m:\u001b[0m\u001b[1;33m\u001b[0m\u001b[0m\n\u001b[0;32m    299\u001b[0m                 \u001b[1;32mbreak\u001b[0m\u001b[1;33m\u001b[0m\u001b[0m\n",
      "\u001b[1;32mE:\\Anaconda3\\envs\\DataMining\\lib\\http\\client.py\u001b[0m in \u001b[0;36m_read_status\u001b[1;34m(self)\u001b[0m\n\u001b[0;32m    256\u001b[0m \u001b[1;33m\u001b[0m\u001b[0m\n\u001b[0;32m    257\u001b[0m     \u001b[1;32mdef\u001b[0m \u001b[0m_read_status\u001b[0m\u001b[1;33m(\u001b[0m\u001b[0mself\u001b[0m\u001b[1;33m)\u001b[0m\u001b[1;33m:\u001b[0m\u001b[1;33m\u001b[0m\u001b[0m\n\u001b[1;32m--> 258\u001b[1;33m         \u001b[0mline\u001b[0m \u001b[1;33m=\u001b[0m \u001b[0mstr\u001b[0m\u001b[1;33m(\u001b[0m\u001b[0mself\u001b[0m\u001b[1;33m.\u001b[0m\u001b[0mfp\u001b[0m\u001b[1;33m.\u001b[0m\u001b[0mreadline\u001b[0m\u001b[1;33m(\u001b[0m\u001b[0m_MAXLINE\u001b[0m \u001b[1;33m+\u001b[0m \u001b[1;36m1\u001b[0m\u001b[1;33m)\u001b[0m\u001b[1;33m,\u001b[0m \u001b[1;34m\"iso-8859-1\"\u001b[0m\u001b[1;33m)\u001b[0m\u001b[1;33m\u001b[0m\u001b[0m\n\u001b[0m\u001b[0;32m    259\u001b[0m         \u001b[1;32mif\u001b[0m \u001b[0mlen\u001b[0m\u001b[1;33m(\u001b[0m\u001b[0mline\u001b[0m\u001b[1;33m)\u001b[0m \u001b[1;33m>\u001b[0m \u001b[0m_MAXLINE\u001b[0m\u001b[1;33m:\u001b[0m\u001b[1;33m\u001b[0m\u001b[0m\n\u001b[0;32m    260\u001b[0m             \u001b[1;32mraise\u001b[0m \u001b[0mLineTooLong\u001b[0m\u001b[1;33m(\u001b[0m\u001b[1;34m\"status line\"\u001b[0m\u001b[1;33m)\u001b[0m\u001b[1;33m\u001b[0m\u001b[0m\n",
      "\u001b[1;32mE:\\Anaconda3\\envs\\DataMining\\lib\\socket.py\u001b[0m in \u001b[0;36mreadinto\u001b[1;34m(self, b)\u001b[0m\n\u001b[0;32m    574\u001b[0m         \u001b[1;32mwhile\u001b[0m \u001b[1;32mTrue\u001b[0m\u001b[1;33m:\u001b[0m\u001b[1;33m\u001b[0m\u001b[0m\n\u001b[0;32m    575\u001b[0m             \u001b[1;32mtry\u001b[0m\u001b[1;33m:\u001b[0m\u001b[1;33m\u001b[0m\u001b[0m\n\u001b[1;32m--> 576\u001b[1;33m                 \u001b[1;32mreturn\u001b[0m \u001b[0mself\u001b[0m\u001b[1;33m.\u001b[0m\u001b[0m_sock\u001b[0m\u001b[1;33m.\u001b[0m\u001b[0mrecv_into\u001b[0m\u001b[1;33m(\u001b[0m\u001b[0mb\u001b[0m\u001b[1;33m)\u001b[0m\u001b[1;33m\u001b[0m\u001b[0m\n\u001b[0m\u001b[0;32m    577\u001b[0m             \u001b[1;32mexcept\u001b[0m \u001b[0mtimeout\u001b[0m\u001b[1;33m:\u001b[0m\u001b[1;33m\u001b[0m\u001b[0m\n\u001b[0;32m    578\u001b[0m                 \u001b[0mself\u001b[0m\u001b[1;33m.\u001b[0m\u001b[0m_timeout_occurred\u001b[0m \u001b[1;33m=\u001b[0m \u001b[1;32mTrue\u001b[0m\u001b[1;33m\u001b[0m\u001b[0m\n",
      "\u001b[1;32mE:\\Anaconda3\\envs\\DataMining\\lib\\ssl.py\u001b[0m in \u001b[0;36mrecv_into\u001b[1;34m(self, buffer, nbytes, flags)\u001b[0m\n\u001b[0;32m    935\u001b[0m                   \u001b[1;34m\"non-zero flags not allowed in calls to recv_into() on %s\"\u001b[0m \u001b[1;33m%\u001b[0m\u001b[1;33m\u001b[0m\u001b[0m\n\u001b[0;32m    936\u001b[0m                   self.__class__)\n\u001b[1;32m--> 937\u001b[1;33m             \u001b[1;32mreturn\u001b[0m \u001b[0mself\u001b[0m\u001b[1;33m.\u001b[0m\u001b[0mread\u001b[0m\u001b[1;33m(\u001b[0m\u001b[0mnbytes\u001b[0m\u001b[1;33m,\u001b[0m \u001b[0mbuffer\u001b[0m\u001b[1;33m)\u001b[0m\u001b[1;33m\u001b[0m\u001b[0m\n\u001b[0m\u001b[0;32m    938\u001b[0m         \u001b[1;32melse\u001b[0m\u001b[1;33m:\u001b[0m\u001b[1;33m\u001b[0m\u001b[0m\n\u001b[0;32m    939\u001b[0m             \u001b[1;32mreturn\u001b[0m \u001b[0msocket\u001b[0m\u001b[1;33m.\u001b[0m\u001b[0mrecv_into\u001b[0m\u001b[1;33m(\u001b[0m\u001b[0mself\u001b[0m\u001b[1;33m,\u001b[0m \u001b[0mbuffer\u001b[0m\u001b[1;33m,\u001b[0m \u001b[0mnbytes\u001b[0m\u001b[1;33m,\u001b[0m \u001b[0mflags\u001b[0m\u001b[1;33m)\u001b[0m\u001b[1;33m\u001b[0m\u001b[0m\n",
      "\u001b[1;32mE:\\Anaconda3\\envs\\DataMining\\lib\\ssl.py\u001b[0m in \u001b[0;36mread\u001b[1;34m(self, len, buffer)\u001b[0m\n\u001b[0;32m    797\u001b[0m             \u001b[1;32mraise\u001b[0m \u001b[0mValueError\u001b[0m\u001b[1;33m(\u001b[0m\u001b[1;34m\"Read on closed or unwrapped SSL socket.\"\u001b[0m\u001b[1;33m)\u001b[0m\u001b[1;33m\u001b[0m\u001b[0m\n\u001b[0;32m    798\u001b[0m         \u001b[1;32mtry\u001b[0m\u001b[1;33m:\u001b[0m\u001b[1;33m\u001b[0m\u001b[0m\n\u001b[1;32m--> 799\u001b[1;33m             \u001b[1;32mreturn\u001b[0m \u001b[0mself\u001b[0m\u001b[1;33m.\u001b[0m\u001b[0m_sslobj\u001b[0m\u001b[1;33m.\u001b[0m\u001b[0mread\u001b[0m\u001b[1;33m(\u001b[0m\u001b[0mlen\u001b[0m\u001b[1;33m,\u001b[0m \u001b[0mbuffer\u001b[0m\u001b[1;33m)\u001b[0m\u001b[1;33m\u001b[0m\u001b[0m\n\u001b[0m\u001b[0;32m    800\u001b[0m         \u001b[1;32mexcept\u001b[0m \u001b[0mSSLError\u001b[0m \u001b[1;32mas\u001b[0m \u001b[0mx\u001b[0m\u001b[1;33m:\u001b[0m\u001b[1;33m\u001b[0m\u001b[0m\n\u001b[0;32m    801\u001b[0m             \u001b[1;32mif\u001b[0m \u001b[0mx\u001b[0m\u001b[1;33m.\u001b[0m\u001b[0margs\u001b[0m\u001b[1;33m[\u001b[0m\u001b[1;36m0\u001b[0m\u001b[1;33m]\u001b[0m \u001b[1;33m==\u001b[0m \u001b[0mSSL_ERROR_EOF\u001b[0m \u001b[1;32mand\u001b[0m \u001b[0mself\u001b[0m\u001b[1;33m.\u001b[0m\u001b[0msuppress_ragged_eofs\u001b[0m\u001b[1;33m:\u001b[0m\u001b[1;33m\u001b[0m\u001b[0m\n",
      "\u001b[1;32mE:\\Anaconda3\\envs\\DataMining\\lib\\ssl.py\u001b[0m in \u001b[0;36mread\u001b[1;34m(self, len, buffer)\u001b[0m\n\u001b[0;32m    581\u001b[0m         \"\"\"\n\u001b[0;32m    582\u001b[0m         \u001b[1;32mif\u001b[0m \u001b[0mbuffer\u001b[0m \u001b[1;32mis\u001b[0m \u001b[1;32mnot\u001b[0m \u001b[1;32mNone\u001b[0m\u001b[1;33m:\u001b[0m\u001b[1;33m\u001b[0m\u001b[0m\n\u001b[1;32m--> 583\u001b[1;33m             \u001b[0mv\u001b[0m \u001b[1;33m=\u001b[0m \u001b[0mself\u001b[0m\u001b[1;33m.\u001b[0m\u001b[0m_sslobj\u001b[0m\u001b[1;33m.\u001b[0m\u001b[0mread\u001b[0m\u001b[1;33m(\u001b[0m\u001b[0mlen\u001b[0m\u001b[1;33m,\u001b[0m \u001b[0mbuffer\u001b[0m\u001b[1;33m)\u001b[0m\u001b[1;33m\u001b[0m\u001b[0m\n\u001b[0m\u001b[0;32m    584\u001b[0m         \u001b[1;32melse\u001b[0m\u001b[1;33m:\u001b[0m\u001b[1;33m\u001b[0m\u001b[0m\n\u001b[0;32m    585\u001b[0m             \u001b[0mv\u001b[0m \u001b[1;33m=\u001b[0m \u001b[0mself\u001b[0m\u001b[1;33m.\u001b[0m\u001b[0m_sslobj\u001b[0m\u001b[1;33m.\u001b[0m\u001b[0mread\u001b[0m\u001b[1;33m(\u001b[0m\u001b[0mlen\u001b[0m\u001b[1;33m)\u001b[0m\u001b[1;33m\u001b[0m\u001b[0m\n",
      "\u001b[1;31mKeyboardInterrupt\u001b[0m: "
     ],
     "output_type": "error"
    }
   ],
   "source": [
    "import os\n",
    "import hashlib\n",
    "\n",
    "data_folder = os.path.abspath('../Data/websites/raw')\n",
    "number_errors = 0\n",
    "for title, url, score in stories:\n",
    "    print(type(url))\n",
    "    output_filename = hashlib.md5(url.encode()).hexdigest()\n",
    "    fullpath = os.path.join(data_folder, output_filename + \".txt\")\n",
    "    print(fullpath)\n",
    "    try:\n",
    "        response = requests.get(url)\n",
    "        data = response.text\n",
    "        with open(fullpath, 'w',encoding='utf-8') as outf:\n",
    "            print('writing')\n",
    "            outf.write(data)\n",
    "    except Exception as e:      \n",
    "        number_errors += 1\n",
    "        print(e)\n",
    "\n"
   ]
  },
  {
   "cell_type": "code",
   "execution_count": 4,
   "metadata": {},
   "outputs": [
    {
     "name": "stdout",
     "output_type": "stream",
     "text": [
      "F:\\Desktop\\Learning-Data-Mining-with-Python\\Data\\websites\\raw\n",
      "F:\\Desktop\\Learning-Data-Mining-with-Python\\Data\\websites\\textonly\n",
      "<cyfunction Comment at 0x000000B4094EC048>\n"
     ]
    }
   ],
   "source": [
    "import lxml\n",
    "import lxml.html as LH\n",
    "from lxml import etree\n",
    "\n",
    "\n",
    "\n",
    "data_folder = os.path.abspath('../Data/websites/raw')\n",
    "filenames = [os.path.join(data_folder, filename) for filename in os.listdir(data_folder)]\n",
    "\n",
    "print(data_folder)\n",
    "text_output_folder = os.path.abspath('../Data/websites/textonly')\n",
    "print(text_output_folder)\n",
    "print( lxml.etree.Comment)\n",
    "skip_node_types = [\"script\", \"head\", \"style\", lxml.etree.Comment]\n",
    "\n",
    "\n",
    "\n",
    "def get_text_from_file(filename):\n",
    "    with open(filename,encoding='utf-8') as inf:\n",
    "        html_tree = LH.parse(inf)\n",
    "    #print(html_tree.getroot())\n",
    "    return get_text_from_node(html_tree.getroot())\n",
    "\n",
    "def get_text_from_node(node):\n",
    "    if node == None:\n",
    "        return \"\"\n",
    "    if len(node) == 0:\n",
    "    # No children, just return text from this item\n",
    "        if node.text and len(node.text) > 100:\n",
    "            return node.text\n",
    "        else:\n",
    "            return \"\"\n",
    "    results = (get_text_from_node(child) for child in node if child.tag not in skip_node_types)\n",
    "    return \"\\n\".join(r for r in results if len(r) > 1)\n",
    "\n",
    "for filename in os.listdir(data_folder):\n",
    "    text = get_text_from_file(os.path.join(data_folder, filename))\n",
    "    with open(os.path.join(text_output_folder, filename), 'w',encoding='utf-8') as outf:\n",
    "        outf.write(text)"
   ]
  },
  {
   "cell_type": "code",
   "execution_count": 5,
   "metadata": {},
   "outputs": [
    {
     "data": {
      "text/plain": [
       "499"
      ]
     },
     "execution_count": 5,
     "metadata": {},
     "output_type": "execute_result"
    }
   ],
   "source": [
    "import os\n",
    "import numpy as np\n",
    "#data_folder = os.path.join(os.path.expanduser(\"~\"), \"Data\", \"websites\", \"textonly\")\n",
    "data_folder=text_output_folder\n",
    "documents = [open(os.path.join(data_folder, filename),encoding='utf-8').read() for filename in os.listdir(data_folder)]\n",
    "len(documents)"
   ]
  },
  {
   "cell_type": "code",
   "execution_count": 6,
   "metadata": {},
   "outputs": [
    {
     "name": "stdout",
     "output_type": "stream",
     "text": [
      "[\"we're sorry, but you appear to be a bot and we've seen too many requests\\nfrom you lately. we enforce\", '© Flypast of the Chengdu J-20 during the opening of Airshow China in Zhuhai (Imate credit: Alert5/Wi', \"we're sorry, but you appear to be a bot and we've seen too many requests\\nfrom you lately. we enforce\", 'A new study of China’s one-child policy is roiling demography, sparking calls for the field’s leadin', 'Airbnb sees huge opportunities in China, and it’s investing its time and resources accordingly. But ']\n"
     ]
    }
   ],
   "source": [
    "print([document[:100] for document in documents[:5]])"
   ]
  },
  {
   "cell_type": "code",
   "execution_count": 7,
   "metadata": {},
   "outputs": [],
   "source": [
    "from sklearn.cluster import KMeans\n",
    "from sklearn.feature_extraction.text import CountVectorizer, TfidfVectorizer"
   ]
  },
  {
   "cell_type": "code",
   "execution_count": 8,
   "metadata": {},
   "outputs": [],
   "source": [
    "from sklearn.pipeline import Pipeline\n",
    "\n",
    "n_clusters = 10\n",
    "\n",
    "pipeline = Pipeline([('feature_extraction', TfidfVectorizer(max_df=0.4)),\n",
    "                     ('clusterer', KMeans(n_clusters=n_clusters))\n",
    "                     ])"
   ]
  },
  {
   "cell_type": "code",
   "execution_count": 9,
   "metadata": {},
   "outputs": [
    {
     "data": {
      "text/plain": [
       "Pipeline(memory=None,\n",
       "     steps=[('feature_extraction', TfidfVectorizer(analyzer='word', binary=False, decode_error='strict',\n",
       "        dtype=<class 'numpy.int64'>, encoding='utf-8', input='content',\n",
       "        lowercase=True, max_df=0.4, max_features=None, min_df=1,\n",
       "        ngram_range=(1, 1), norm='l2', preprocessor=None, smoot...0, n_init=10, n_jobs=1, precompute_distances='auto',\n",
       "    random_state=None, tol=0.0001, verbose=0))])"
      ]
     },
     "execution_count": 9,
     "metadata": {},
     "output_type": "execute_result"
    }
   ],
   "source": [
    "pipeline.fit(documents)"
   ]
  },
  {
   "cell_type": "code",
   "execution_count": 10,
   "metadata": {},
   "outputs": [],
   "source": [
    "labels = pipeline.predict(documents)"
   ]
  },
  {
   "cell_type": "code",
   "execution_count": 11,
   "metadata": {},
   "outputs": [
    {
     "name": "stdout",
     "output_type": "stream",
     "text": [
      "Cluster 0 contains 1 samples\n",
      "Cluster 1 contains 139 samples\n",
      "Cluster 2 contains 299 samples\n",
      "Cluster 3 contains 22 samples\n",
      "Cluster 4 contains 5 samples\n",
      "Cluster 5 contains 2 samples\n",
      "Cluster 6 contains 6 samples\n",
      "Cluster 7 contains 2 samples\n",
      "Cluster 8 contains 3 samples\n",
      "Cluster 9 contains 20 samples\n"
     ]
    }
   ],
   "source": [
    "from collections import Counter\n",
    "c = Counter(labels)\n",
    "for cluster_number in range(n_clusters):\n",
    "    print(\"Cluster {} contains {} samples\".format(cluster_number, c[cluster_number]))"
   ]
  },
  {
   "cell_type": "code",
   "execution_count": 12,
   "metadata": {},
   "outputs": [
    {
     "data": {
      "text/plain": [
       "1"
      ]
     },
     "execution_count": 12,
     "metadata": {},
     "output_type": "execute_result"
    }
   ],
   "source": [
    "c[0]"
   ]
  },
  {
   "cell_type": "code",
   "execution_count": 13,
   "metadata": {},
   "outputs": [
    {
     "data": {
      "text/plain": [
       "240.3414911351996"
      ]
     },
     "execution_count": 13,
     "metadata": {},
     "output_type": "execute_result"
    }
   ],
   "source": [
    "pipeline.named_steps['clusterer'].inertia_"
   ]
  },
  {
   "cell_type": "code",
   "execution_count": 15,
   "metadata": {},
   "outputs": [
    {
     "name": "stdout",
     "output_type": "stream",
     "text": [
      "n-clusters 2\n",
      "[[282.2701138126275, 282.2701138126275, 282.2701138126275, 282.2701138126275, 282.2701138126275, 282.2701138126275, 282.2701138126275, 282.2701138126275, 282.2701138126275, 282.2701138126275, 282.2701138126275, 282.2701138126275, 282.2701138126275, 282.2701138126275, 282.2701138126275, 282.2701138126275, 282.2701138126275, 282.2701138126275, 282.2701138126275, 282.2701138126275, 282.2701138126275, 282.2701138126275, 282.2701138126275, 282.2701138126275, 282.2701138126275, 282.2701138126275, 282.2701138126275, 282.2701138126275, 282.2701138126275, 282.2701138126275]]\n",
      "n-clusters 3\n",
      "[[282.2701138126275, 282.2701138126275, 282.2701138126275, 282.2701138126275, 282.2701138126275, 282.2701138126275, 282.2701138126275, 282.2701138126275, 282.2701138126275, 282.2701138126275, 282.2701138126275, 282.2701138126275, 282.2701138126275, 282.2701138126275, 282.2701138126275, 282.2701138126275, 282.2701138126275, 282.2701138126275, 282.2701138126275, 282.2701138126275, 282.2701138126275, 282.2701138126275, 282.2701138126275, 282.2701138126275, 282.2701138126275, 282.2701138126275, 282.2701138126275, 282.2701138126275, 282.2701138126275, 282.2701138126275], [263.55578493587336, 263.55578493587336, 263.55578493587336, 263.55578493587336, 263.55578493587336, 263.55578493587336, 263.55578493587336, 263.55578493587336, 273.0996809716935, 263.55578493587336, 272.91166082596146, 263.55578493587336, 263.55578493587336, 263.55578493587336, 263.55578493587336, 263.55578493587336, 263.55578493587336, 263.55578493587336, 263.55578493587336, 263.55578493587336, 263.55578493587336, 263.55578493587336, 263.55578493587336, 263.55578493587336, 263.55578493587336, 263.55578493587336, 263.55578493587336, 263.55578493587336, 263.55578493587336, 263.55578493587336]]\n",
      "n-clusters 4\n",
      "[[282.2701138126275, 282.2701138126275, 282.2701138126275, 282.2701138126275, 282.2701138126275, 282.2701138126275, 282.2701138126275, 282.2701138126275, 282.2701138126275, 282.2701138126275, 282.2701138126275, 282.2701138126275, 282.2701138126275, 282.2701138126275, 282.2701138126275, 282.2701138126275, 282.2701138126275, 282.2701138126275, 282.2701138126275, 282.2701138126275, 282.2701138126275, 282.2701138126275, 282.2701138126275, 282.2701138126275, 282.2701138126275, 282.2701138126275, 282.2701138126275, 282.2701138126275, 282.2701138126275, 282.2701138126275], [263.55578493587336, 263.55578493587336, 263.55578493587336, 263.55578493587336, 263.55578493587336, 263.55578493587336, 263.55578493587336, 263.55578493587336, 273.0996809716935, 263.55578493587336, 272.91166082596146, 263.55578493587336, 263.55578493587336, 263.55578493587336, 263.55578493587336, 263.55578493587336, 263.55578493587336, 263.55578493587336, 263.55578493587336, 263.55578493587336, 263.55578493587336, 263.55578493587336, 263.55578493587336, 263.55578493587336, 263.55578493587336, 263.55578493587336, 263.55578493587336, 263.55578493587336, 263.55578493587336, 263.55578493587336], [255.6029052874847, 256.0934748352325, 262.53307762834675, 255.58304877644989, 255.61783246356603, 256.20717613114954, 256.25265418082677, 255.5646570084813, 255.66066923066953, 255.73810430473597, 255.60349895668557, 256.0934748352325, 259.9906568228232, 255.6251507255922, 255.66066923066953, 256.184111416949, 256.12109154810105, 259.9906568228232, 256.17001047556556, 255.60068482810127, 255.66176807332872, 255.7334382392447, 256.25265418082677, 255.57187340263602, 255.57640791344883, 255.675830595038, 255.6121490963855, 261.864012888863, 255.6529206829007, 255.88130034940133]]\n",
      "n-clusters 5\n",
      "[[282.2701138126275, 282.2701138126275, 282.2701138126275, 282.2701138126275, 282.2701138126275, 282.2701138126275, 282.2701138126275, 282.2701138126275, 282.2701138126275, 282.2701138126275, 282.2701138126275, 282.2701138126275, 282.2701138126275, 282.2701138126275, 282.2701138126275, 282.2701138126275, 282.2701138126275, 282.2701138126275, 282.2701138126275, 282.2701138126275, 282.2701138126275, 282.2701138126275, 282.2701138126275, 282.2701138126275, 282.2701138126275, 282.2701138126275, 282.2701138126275, 282.2701138126275, 282.2701138126275, 282.2701138126275], [263.55578493587336, 263.55578493587336, 263.55578493587336, 263.55578493587336, 263.55578493587336, 263.55578493587336, 263.55578493587336, 263.55578493587336, 273.0996809716935, 263.55578493587336, 272.91166082596146, 263.55578493587336, 263.55578493587336, 263.55578493587336, 263.55578493587336, 263.55578493587336, 263.55578493587336, 263.55578493587336, 263.55578493587336, 263.55578493587336, 263.55578493587336, 263.55578493587336, 263.55578493587336, 263.55578493587336, 263.55578493587336, 263.55578493587336, 263.55578493587336, 263.55578493587336, 263.55578493587336, 263.55578493587336], [255.6029052874847, 256.0934748352325, 262.53307762834675, 255.58304877644989, 255.61783246356603, 256.20717613114954, 256.25265418082677, 255.5646570084813, 255.66066923066953, 255.73810430473597, 255.60349895668557, 256.0934748352325, 259.9906568228232, 255.6251507255922, 255.66066923066953, 256.184111416949, 256.12109154810105, 259.9906568228232, 256.17001047556556, 255.60068482810127, 255.66176807332872, 255.7334382392447, 256.25265418082677, 255.57187340263602, 255.57640791344883, 255.675830595038, 255.6121490963855, 261.864012888863, 255.6529206829007, 255.88130034940133], [248.60035345124658, 254.50681349313336, 249.6095887739673, 260.2950229928196, 248.52065163793011, 252.65927436810315, 253.76691205743103, 249.45123055784492, 253.62021835022804, 254.8304518966929, 252.70086861963503, 252.04416240738323, 248.1150374749771, 250.27496058547126, 252.61192749342297, 254.18819911569915, 260.6560832118901, 248.2482563948081, 248.37291738801954, 252.62090535178504, 250.25555055221642, 256.7774262948272, 248.52381700666604, 254.52997433360412, 248.5387723994386, 248.4462501822898, 248.21743096775919, 254.759158195848, 248.5494121506186, 248.3689308222014]]\n",
      "n-clusters 6\n",
      "[[282.2701138126275, 282.2701138126275, 282.2701138126275, 282.2701138126275, 282.2701138126275, 282.2701138126275, 282.2701138126275, 282.2701138126275, 282.2701138126275, 282.2701138126275, 282.2701138126275, 282.2701138126275, 282.2701138126275, 282.2701138126275, 282.2701138126275, 282.2701138126275, 282.2701138126275, 282.2701138126275, 282.2701138126275, 282.2701138126275, 282.2701138126275, 282.2701138126275, 282.2701138126275, 282.2701138126275, 282.2701138126275, 282.2701138126275, 282.2701138126275, 282.2701138126275, 282.2701138126275, 282.2701138126275], [263.55578493587336, 263.55578493587336, 263.55578493587336, 263.55578493587336, 263.55578493587336, 263.55578493587336, 263.55578493587336, 263.55578493587336, 273.0996809716935, 263.55578493587336, 272.91166082596146, 263.55578493587336, 263.55578493587336, 263.55578493587336, 263.55578493587336, 263.55578493587336, 263.55578493587336, 263.55578493587336, 263.55578493587336, 263.55578493587336, 263.55578493587336, 263.55578493587336, 263.55578493587336, 263.55578493587336, 263.55578493587336, 263.55578493587336, 263.55578493587336, 263.55578493587336, 263.55578493587336, 263.55578493587336], [255.6029052874847, 256.0934748352325, 262.53307762834675, 255.58304877644989, 255.61783246356603, 256.20717613114954, 256.25265418082677, 255.5646570084813, 255.66066923066953, 255.73810430473597, 255.60349895668557, 256.0934748352325, 259.9906568228232, 255.6251507255922, 255.66066923066953, 256.184111416949, 256.12109154810105, 259.9906568228232, 256.17001047556556, 255.60068482810127, 255.66176807332872, 255.7334382392447, 256.25265418082677, 255.57187340263602, 255.57640791344883, 255.675830595038, 255.6121490963855, 261.864012888863, 255.6529206829007, 255.88130034940133], [248.60035345124658, 254.50681349313336, 249.6095887739673, 260.2950229928196, 248.52065163793011, 252.65927436810315, 253.76691205743103, 249.45123055784492, 253.62021835022804, 254.8304518966929, 252.70086861963503, 252.04416240738323, 248.1150374749771, 250.27496058547126, 252.61192749342297, 254.18819911569915, 260.6560832118901, 248.2482563948081, 248.37291738801954, 252.62090535178504, 250.25555055221642, 256.7774262948272, 248.52381700666604, 254.52997433360412, 248.5387723994386, 248.4462501822898, 248.21743096775919, 254.759158195848, 248.5494121506186, 248.3689308222014], [245.25708287960765, 242.50535079863866, 253.19425605681474, 251.30075595662782, 247.21100837819716, 244.39428000329653, 245.4423841629423, 247.89545929069973, 259.21993271601065, 254.1037246640401, 253.58495632248767, 250.70275124842428, 249.40887047702182, 242.58524271556504, 253.28784534319843, 253.4737316038061, 253.64414749706725, 247.1918753454107, 249.46558976809416, 244.1311738149396, 253.86947731760074, 242.56188660851606, 247.1029641301961, 246.98557562304094, 248.18550250312398, 249.41524979015955, 248.0255662888214, 247.40747303150982, 258.65499262032426, 253.73334934374915]]\n",
      "n-clusters 7\n"
     ]
    },
    {
     "name": "stdout",
     "output_type": "stream",
     "text": [
      "[[282.2701138126275, 282.2701138126275, 282.2701138126275, 282.2701138126275, 282.2701138126275, 282.2701138126275, 282.2701138126275, 282.2701138126275, 282.2701138126275, 282.2701138126275, 282.2701138126275, 282.2701138126275, 282.2701138126275, 282.2701138126275, 282.2701138126275, 282.2701138126275, 282.2701138126275, 282.2701138126275, 282.2701138126275, 282.2701138126275, 282.2701138126275, 282.2701138126275, 282.2701138126275, 282.2701138126275, 282.2701138126275, 282.2701138126275, 282.2701138126275, 282.2701138126275, 282.2701138126275, 282.2701138126275], [263.55578493587336, 263.55578493587336, 263.55578493587336, 263.55578493587336, 263.55578493587336, 263.55578493587336, 263.55578493587336, 263.55578493587336, 273.0996809716935, 263.55578493587336, 272.91166082596146, 263.55578493587336, 263.55578493587336, 263.55578493587336, 263.55578493587336, 263.55578493587336, 263.55578493587336, 263.55578493587336, 263.55578493587336, 263.55578493587336, 263.55578493587336, 263.55578493587336, 263.55578493587336, 263.55578493587336, 263.55578493587336, 263.55578493587336, 263.55578493587336, 263.55578493587336, 263.55578493587336, 263.55578493587336], [255.6029052874847, 256.0934748352325, 262.53307762834675, 255.58304877644989, 255.61783246356603, 256.20717613114954, 256.25265418082677, 255.5646570084813, 255.66066923066953, 255.73810430473597, 255.60349895668557, 256.0934748352325, 259.9906568228232, 255.6251507255922, 255.66066923066953, 256.184111416949, 256.12109154810105, 259.9906568228232, 256.17001047556556, 255.60068482810127, 255.66176807332872, 255.7334382392447, 256.25265418082677, 255.57187340263602, 255.57640791344883, 255.675830595038, 255.6121490963855, 261.864012888863, 255.6529206829007, 255.88130034940133], [248.60035345124658, 254.50681349313336, 249.6095887739673, 260.2950229928196, 248.52065163793011, 252.65927436810315, 253.76691205743103, 249.45123055784492, 253.62021835022804, 254.8304518966929, 252.70086861963503, 252.04416240738323, 248.1150374749771, 250.27496058547126, 252.61192749342297, 254.18819911569915, 260.6560832118901, 248.2482563948081, 248.37291738801954, 252.62090535178504, 250.25555055221642, 256.7774262948272, 248.52381700666604, 254.52997433360412, 248.5387723994386, 248.4462501822898, 248.21743096775919, 254.759158195848, 248.5494121506186, 248.3689308222014], [245.25708287960765, 242.50535079863866, 253.19425605681474, 251.30075595662782, 247.21100837819716, 244.39428000329653, 245.4423841629423, 247.89545929069973, 259.21993271601065, 254.1037246640401, 253.58495632248767, 250.70275124842428, 249.40887047702182, 242.58524271556504, 253.28784534319843, 253.4737316038061, 253.64414749706725, 247.1918753454107, 249.46558976809416, 244.1311738149396, 253.86947731760074, 242.56188660851606, 247.1029641301961, 246.98557562304094, 248.18550250312398, 249.41524979015955, 248.0255662888214, 247.40747303150982, 258.65499262032426, 253.73334934374915], [251.48565699918458, 240.47287667492813, 246.5292378596328, 245.7597369475201, 251.48250121785057, 251.97395974195268, 245.06406215142226, 251.85069055824704, 252.45471244909155, 244.8878134481917, 243.39752935161263, 246.01099937135047, 254.18952810981062, 247.40161808676206, 242.96255965426226, 252.19780360973567, 241.79508304158512, 246.75403819904128, 244.14899805817979, 248.76492684330253, 243.26993111390797, 238.49107469557205, 245.29808556319222, 242.8495912632603, 244.88562492023553, 246.59489072429, 242.77840265378234, 245.52515224139944, 244.78658781554276, 245.86538364273574]]\n",
      "n-clusters 8\n",
      "[[282.2701138126275, 282.2701138126275, 282.2701138126275, 282.2701138126275, 282.2701138126275, 282.2701138126275, 282.2701138126275, 282.2701138126275, 282.2701138126275, 282.2701138126275, 282.2701138126275, 282.2701138126275, 282.2701138126275, 282.2701138126275, 282.2701138126275, 282.2701138126275, 282.2701138126275, 282.2701138126275, 282.2701138126275, 282.2701138126275, 282.2701138126275, 282.2701138126275, 282.2701138126275, 282.2701138126275, 282.2701138126275, 282.2701138126275, 282.2701138126275, 282.2701138126275, 282.2701138126275, 282.2701138126275], [263.55578493587336, 263.55578493587336, 263.55578493587336, 263.55578493587336, 263.55578493587336, 263.55578493587336, 263.55578493587336, 263.55578493587336, 273.0996809716935, 263.55578493587336, 272.91166082596146, 263.55578493587336, 263.55578493587336, 263.55578493587336, 263.55578493587336, 263.55578493587336, 263.55578493587336, 263.55578493587336, 263.55578493587336, 263.55578493587336, 263.55578493587336, 263.55578493587336, 263.55578493587336, 263.55578493587336, 263.55578493587336, 263.55578493587336, 263.55578493587336, 263.55578493587336, 263.55578493587336, 263.55578493587336], [255.6029052874847, 256.0934748352325, 262.53307762834675, 255.58304877644989, 255.61783246356603, 256.20717613114954, 256.25265418082677, 255.5646570084813, 255.66066923066953, 255.73810430473597, 255.60349895668557, 256.0934748352325, 259.9906568228232, 255.6251507255922, 255.66066923066953, 256.184111416949, 256.12109154810105, 259.9906568228232, 256.17001047556556, 255.60068482810127, 255.66176807332872, 255.7334382392447, 256.25265418082677, 255.57187340263602, 255.57640791344883, 255.675830595038, 255.6121490963855, 261.864012888863, 255.6529206829007, 255.88130034940133], [248.60035345124658, 254.50681349313336, 249.6095887739673, 260.2950229928196, 248.52065163793011, 252.65927436810315, 253.76691205743103, 249.45123055784492, 253.62021835022804, 254.8304518966929, 252.70086861963503, 252.04416240738323, 248.1150374749771, 250.27496058547126, 252.61192749342297, 254.18819911569915, 260.6560832118901, 248.2482563948081, 248.37291738801954, 252.62090535178504, 250.25555055221642, 256.7774262948272, 248.52381700666604, 254.52997433360412, 248.5387723994386, 248.4462501822898, 248.21743096775919, 254.759158195848, 248.5494121506186, 248.3689308222014], [245.25708287960765, 242.50535079863866, 253.19425605681474, 251.30075595662782, 247.21100837819716, 244.39428000329653, 245.4423841629423, 247.89545929069973, 259.21993271601065, 254.1037246640401, 253.58495632248767, 250.70275124842428, 249.40887047702182, 242.58524271556504, 253.28784534319843, 253.4737316038061, 253.64414749706725, 247.1918753454107, 249.46558976809416, 244.1311738149396, 253.86947731760074, 242.56188660851606, 247.1029641301961, 246.98557562304094, 248.18550250312398, 249.41524979015955, 248.0255662888214, 247.40747303150982, 258.65499262032426, 253.73334934374915], [251.48565699918458, 240.47287667492813, 246.5292378596328, 245.7597369475201, 251.48250121785057, 251.97395974195268, 245.06406215142226, 251.85069055824704, 252.45471244909155, 244.8878134481917, 243.39752935161263, 246.01099937135047, 254.18952810981062, 247.40161808676206, 242.96255965426226, 252.19780360973567, 241.79508304158512, 246.75403819904128, 244.14899805817979, 248.76492684330253, 243.26993111390797, 238.49107469557205, 245.29808556319222, 242.8495912632603, 244.88562492023553, 246.59489072429, 242.77840265378234, 245.52515224139944, 244.78658781554276, 245.86538364273574], [245.88489596191584, 241.8674207644282, 250.5700827234412, 248.5589679539673, 240.18376168239485, 249.9969882633541, 244.4080494119052, 250.95902100826223, 244.63729564617782, 237.34883760402153, 246.28301879108955, 246.02444810404793, 246.75702006774827, 245.3773148406776, 246.03358528630943, 241.86201258409895, 245.30866877842317, 245.83119473159093, 250.50929316810817, 250.2061712274555, 249.52952391270364, 249.67711183406513, 242.89222555212632, 241.73768208227676, 251.20661283989895, 250.70160583263265, 246.40928608595087, 246.4899779577371, 243.64306189861153, 243.15973451467988]]\n",
      "n-clusters 9\n",
      "[[282.2701138126275, 282.2701138126275, 282.2701138126275, 282.2701138126275, 282.2701138126275, 282.2701138126275, 282.2701138126275, 282.2701138126275, 282.2701138126275, 282.2701138126275, 282.2701138126275, 282.2701138126275, 282.2701138126275, 282.2701138126275, 282.2701138126275, 282.2701138126275, 282.2701138126275, 282.2701138126275, 282.2701138126275, 282.2701138126275, 282.2701138126275, 282.2701138126275, 282.2701138126275, 282.2701138126275, 282.2701138126275, 282.2701138126275, 282.2701138126275, 282.2701138126275, 282.2701138126275, 282.2701138126275], [263.55578493587336, 263.55578493587336, 263.55578493587336, 263.55578493587336, 263.55578493587336, 263.55578493587336, 263.55578493587336, 263.55578493587336, 273.0996809716935, 263.55578493587336, 272.91166082596146, 263.55578493587336, 263.55578493587336, 263.55578493587336, 263.55578493587336, 263.55578493587336, 263.55578493587336, 263.55578493587336, 263.55578493587336, 263.55578493587336, 263.55578493587336, 263.55578493587336, 263.55578493587336, 263.55578493587336, 263.55578493587336, 263.55578493587336, 263.55578493587336, 263.55578493587336, 263.55578493587336, 263.55578493587336], [255.6029052874847, 256.0934748352325, 262.53307762834675, 255.58304877644989, 255.61783246356603, 256.20717613114954, 256.25265418082677, 255.5646570084813, 255.66066923066953, 255.73810430473597, 255.60349895668557, 256.0934748352325, 259.9906568228232, 255.6251507255922, 255.66066923066953, 256.184111416949, 256.12109154810105, 259.9906568228232, 256.17001047556556, 255.60068482810127, 255.66176807332872, 255.7334382392447, 256.25265418082677, 255.57187340263602, 255.57640791344883, 255.675830595038, 255.6121490963855, 261.864012888863, 255.6529206829007, 255.88130034940133], [248.60035345124658, 254.50681349313336, 249.6095887739673, 260.2950229928196, 248.52065163793011, 252.65927436810315, 253.76691205743103, 249.45123055784492, 253.62021835022804, 254.8304518966929, 252.70086861963503, 252.04416240738323, 248.1150374749771, 250.27496058547126, 252.61192749342297, 254.18819911569915, 260.6560832118901, 248.2482563948081, 248.37291738801954, 252.62090535178504, 250.25555055221642, 256.7774262948272, 248.52381700666604, 254.52997433360412, 248.5387723994386, 248.4462501822898, 248.21743096775919, 254.759158195848, 248.5494121506186, 248.3689308222014], [245.25708287960765, 242.50535079863866, 253.19425605681474, 251.30075595662782, 247.21100837819716, 244.39428000329653, 245.4423841629423, 247.89545929069973, 259.21993271601065, 254.1037246640401, 253.58495632248767, 250.70275124842428, 249.40887047702182, 242.58524271556504, 253.28784534319843, 253.4737316038061, 253.64414749706725, 247.1918753454107, 249.46558976809416, 244.1311738149396, 253.86947731760074, 242.56188660851606, 247.1029641301961, 246.98557562304094, 248.18550250312398, 249.41524979015955, 248.0255662888214, 247.40747303150982, 258.65499262032426, 253.73334934374915], [251.48565699918458, 240.47287667492813, 246.5292378596328, 245.7597369475201, 251.48250121785057, 251.97395974195268, 245.06406215142226, 251.85069055824704, 252.45471244909155, 244.8878134481917, 243.39752935161263, 246.01099937135047, 254.18952810981062, 247.40161808676206, 242.96255965426226, 252.19780360973567, 241.79508304158512, 246.75403819904128, 244.14899805817979, 248.76492684330253, 243.26993111390797, 238.49107469557205, 245.29808556319222, 242.8495912632603, 244.88562492023553, 246.59489072429, 242.77840265378234, 245.52515224139944, 244.78658781554276, 245.86538364273574], [245.88489596191584, 241.8674207644282, 250.5700827234412, 248.5589679539673, 240.18376168239485, 249.9969882633541, 244.4080494119052, 250.95902100826223, 244.63729564617782, 237.34883760402153, 246.28301879108955, 246.02444810404793, 246.75702006774827, 245.3773148406776, 246.03358528630943, 241.86201258409895, 245.30866877842317, 245.83119473159093, 250.50929316810817, 250.2061712274555, 249.52952391270364, 249.67711183406513, 242.89222555212632, 241.73768208227676, 251.20661283989895, 250.70160583263265, 246.40928608595087, 246.4899779577371, 243.64306189861153, 243.15973451467988], [244.5132692265389, 235.5191668581333, 247.95507214408508, 248.9092579974913, 243.21329703823716, 242.62465812488037, 243.3713098947044, 242.1100320753772, 243.31039405730834, 239.33037137097054, 235.63781816746183, 243.52050448107468, 244.09906081672875, 236.01707379544325, 242.91750709403087, 240.51595572212855, 242.6023355165655, 242.5813836945827, 240.24557052630297, 238.81365706520882, 248.7309308536521, 241.81888334736826, 237.9189130305382, 244.72157119412233, 244.07469489260285, 245.57848875050212, 245.8978595234061, 242.57693145097514, 245.4685784678624, 241.46225850442008]]\n",
      "n-clusters 10\n"
     ]
    },
    {
     "name": "stdout",
     "output_type": "stream",
     "text": [
      "[[282.2701138126275, 282.2701138126275, 282.2701138126275, 282.2701138126275, 282.2701138126275, 282.2701138126275, 282.2701138126275, 282.2701138126275, 282.2701138126275, 282.2701138126275, 282.2701138126275, 282.2701138126275, 282.2701138126275, 282.2701138126275, 282.2701138126275, 282.2701138126275, 282.2701138126275, 282.2701138126275, 282.2701138126275, 282.2701138126275, 282.2701138126275, 282.2701138126275, 282.2701138126275, 282.2701138126275, 282.2701138126275, 282.2701138126275, 282.2701138126275, 282.2701138126275, 282.2701138126275, 282.2701138126275], [263.55578493587336, 263.55578493587336, 263.55578493587336, 263.55578493587336, 263.55578493587336, 263.55578493587336, 263.55578493587336, 263.55578493587336, 273.0996809716935, 263.55578493587336, 272.91166082596146, 263.55578493587336, 263.55578493587336, 263.55578493587336, 263.55578493587336, 263.55578493587336, 263.55578493587336, 263.55578493587336, 263.55578493587336, 263.55578493587336, 263.55578493587336, 263.55578493587336, 263.55578493587336, 263.55578493587336, 263.55578493587336, 263.55578493587336, 263.55578493587336, 263.55578493587336, 263.55578493587336, 263.55578493587336], [255.6029052874847, 256.0934748352325, 262.53307762834675, 255.58304877644989, 255.61783246356603, 256.20717613114954, 256.25265418082677, 255.5646570084813, 255.66066923066953, 255.73810430473597, 255.60349895668557, 256.0934748352325, 259.9906568228232, 255.6251507255922, 255.66066923066953, 256.184111416949, 256.12109154810105, 259.9906568228232, 256.17001047556556, 255.60068482810127, 255.66176807332872, 255.7334382392447, 256.25265418082677, 255.57187340263602, 255.57640791344883, 255.675830595038, 255.6121490963855, 261.864012888863, 255.6529206829007, 255.88130034940133], [248.60035345124658, 254.50681349313336, 249.6095887739673, 260.2950229928196, 248.52065163793011, 252.65927436810315, 253.76691205743103, 249.45123055784492, 253.62021835022804, 254.8304518966929, 252.70086861963503, 252.04416240738323, 248.1150374749771, 250.27496058547126, 252.61192749342297, 254.18819911569915, 260.6560832118901, 248.2482563948081, 248.37291738801954, 252.62090535178504, 250.25555055221642, 256.7774262948272, 248.52381700666604, 254.52997433360412, 248.5387723994386, 248.4462501822898, 248.21743096775919, 254.759158195848, 248.5494121506186, 248.3689308222014], [245.25708287960765, 242.50535079863866, 253.19425605681474, 251.30075595662782, 247.21100837819716, 244.39428000329653, 245.4423841629423, 247.89545929069973, 259.21993271601065, 254.1037246640401, 253.58495632248767, 250.70275124842428, 249.40887047702182, 242.58524271556504, 253.28784534319843, 253.4737316038061, 253.64414749706725, 247.1918753454107, 249.46558976809416, 244.1311738149396, 253.86947731760074, 242.56188660851606, 247.1029641301961, 246.98557562304094, 248.18550250312398, 249.41524979015955, 248.0255662888214, 247.40747303150982, 258.65499262032426, 253.73334934374915], [251.48565699918458, 240.47287667492813, 246.5292378596328, 245.7597369475201, 251.48250121785057, 251.97395974195268, 245.06406215142226, 251.85069055824704, 252.45471244909155, 244.8878134481917, 243.39752935161263, 246.01099937135047, 254.18952810981062, 247.40161808676206, 242.96255965426226, 252.19780360973567, 241.79508304158512, 246.75403819904128, 244.14899805817979, 248.76492684330253, 243.26993111390797, 238.49107469557205, 245.29808556319222, 242.8495912632603, 244.88562492023553, 246.59489072429, 242.77840265378234, 245.52515224139944, 244.78658781554276, 245.86538364273574], [245.88489596191584, 241.8674207644282, 250.5700827234412, 248.5589679539673, 240.18376168239485, 249.9969882633541, 244.4080494119052, 250.95902100826223, 244.63729564617782, 237.34883760402153, 246.28301879108955, 246.02444810404793, 246.75702006774827, 245.3773148406776, 246.03358528630943, 241.86201258409895, 245.30866877842317, 245.83119473159093, 250.50929316810817, 250.2061712274555, 249.52952391270364, 249.67711183406513, 242.89222555212632, 241.73768208227676, 251.20661283989895, 250.70160583263265, 246.40928608595087, 246.4899779577371, 243.64306189861153, 243.15973451467988], [244.5132692265389, 235.5191668581333, 247.95507214408508, 248.9092579974913, 243.21329703823716, 242.62465812488037, 243.3713098947044, 242.1100320753772, 243.31039405730834, 239.33037137097054, 235.63781816746183, 243.52050448107468, 244.09906081672875, 236.01707379544325, 242.91750709403087, 240.51595572212855, 242.6023355165655, 242.5813836945827, 240.24557052630297, 238.81365706520882, 248.7309308536521, 241.81888334736826, 237.9189130305382, 244.72157119412233, 244.07469489260285, 245.57848875050212, 245.8978595234061, 242.57693145097514, 245.4685784678624, 241.46225850442008], [242.12255024260583, 242.20993034381223, 234.4992111916047, 238.6602864222883, 243.37995624603636, 242.67386859096428, 241.51472237364948, 242.41051439060774, 243.7171594328924, 238.4145397685014, 240.78820652066213, 243.93674915213816, 239.66920173577606, 238.19538307008943, 233.37099424909368, 238.37615008846535, 240.13684724882935, 243.20481407308566, 236.46875212870842, 237.14258911152749, 243.10079931116482, 242.02612420876832, 241.51826501551918, 244.06673867541116, 233.05127191952408, 240.40689427591715, 247.1942056396282, 237.17004896358583, 241.34646818786993, 241.50414202457117]]\n",
      "n-clusters 11\n",
      "[[282.2701138126275, 282.2701138126275, 282.2701138126275, 282.2701138126275, 282.2701138126275, 282.2701138126275, 282.2701138126275, 282.2701138126275, 282.2701138126275, 282.2701138126275, 282.2701138126275, 282.2701138126275, 282.2701138126275, 282.2701138126275, 282.2701138126275, 282.2701138126275, 282.2701138126275, 282.2701138126275, 282.2701138126275, 282.2701138126275, 282.2701138126275, 282.2701138126275, 282.2701138126275, 282.2701138126275, 282.2701138126275, 282.2701138126275, 282.2701138126275, 282.2701138126275, 282.2701138126275, 282.2701138126275], [263.55578493587336, 263.55578493587336, 263.55578493587336, 263.55578493587336, 263.55578493587336, 263.55578493587336, 263.55578493587336, 263.55578493587336, 273.0996809716935, 263.55578493587336, 272.91166082596146, 263.55578493587336, 263.55578493587336, 263.55578493587336, 263.55578493587336, 263.55578493587336, 263.55578493587336, 263.55578493587336, 263.55578493587336, 263.55578493587336, 263.55578493587336, 263.55578493587336, 263.55578493587336, 263.55578493587336, 263.55578493587336, 263.55578493587336, 263.55578493587336, 263.55578493587336, 263.55578493587336, 263.55578493587336], [255.6029052874847, 256.0934748352325, 262.53307762834675, 255.58304877644989, 255.61783246356603, 256.20717613114954, 256.25265418082677, 255.5646570084813, 255.66066923066953, 255.73810430473597, 255.60349895668557, 256.0934748352325, 259.9906568228232, 255.6251507255922, 255.66066923066953, 256.184111416949, 256.12109154810105, 259.9906568228232, 256.17001047556556, 255.60068482810127, 255.66176807332872, 255.7334382392447, 256.25265418082677, 255.57187340263602, 255.57640791344883, 255.675830595038, 255.6121490963855, 261.864012888863, 255.6529206829007, 255.88130034940133], [248.60035345124658, 254.50681349313336, 249.6095887739673, 260.2950229928196, 248.52065163793011, 252.65927436810315, 253.76691205743103, 249.45123055784492, 253.62021835022804, 254.8304518966929, 252.70086861963503, 252.04416240738323, 248.1150374749771, 250.27496058547126, 252.61192749342297, 254.18819911569915, 260.6560832118901, 248.2482563948081, 248.37291738801954, 252.62090535178504, 250.25555055221642, 256.7774262948272, 248.52381700666604, 254.52997433360412, 248.5387723994386, 248.4462501822898, 248.21743096775919, 254.759158195848, 248.5494121506186, 248.3689308222014], [245.25708287960765, 242.50535079863866, 253.19425605681474, 251.30075595662782, 247.21100837819716, 244.39428000329653, 245.4423841629423, 247.89545929069973, 259.21993271601065, 254.1037246640401, 253.58495632248767, 250.70275124842428, 249.40887047702182, 242.58524271556504, 253.28784534319843, 253.4737316038061, 253.64414749706725, 247.1918753454107, 249.46558976809416, 244.1311738149396, 253.86947731760074, 242.56188660851606, 247.1029641301961, 246.98557562304094, 248.18550250312398, 249.41524979015955, 248.0255662888214, 247.40747303150982, 258.65499262032426, 253.73334934374915], [251.48565699918458, 240.47287667492813, 246.5292378596328, 245.7597369475201, 251.48250121785057, 251.97395974195268, 245.06406215142226, 251.85069055824704, 252.45471244909155, 244.8878134481917, 243.39752935161263, 246.01099937135047, 254.18952810981062, 247.40161808676206, 242.96255965426226, 252.19780360973567, 241.79508304158512, 246.75403819904128, 244.14899805817979, 248.76492684330253, 243.26993111390797, 238.49107469557205, 245.29808556319222, 242.8495912632603, 244.88562492023553, 246.59489072429, 242.77840265378234, 245.52515224139944, 244.78658781554276, 245.86538364273574], [245.88489596191584, 241.8674207644282, 250.5700827234412, 248.5589679539673, 240.18376168239485, 249.9969882633541, 244.4080494119052, 250.95902100826223, 244.63729564617782, 237.34883760402153, 246.28301879108955, 246.02444810404793, 246.75702006774827, 245.3773148406776, 246.03358528630943, 241.86201258409895, 245.30866877842317, 245.83119473159093, 250.50929316810817, 250.2061712274555, 249.52952391270364, 249.67711183406513, 242.89222555212632, 241.73768208227676, 251.20661283989895, 250.70160583263265, 246.40928608595087, 246.4899779577371, 243.64306189861153, 243.15973451467988], [244.5132692265389, 235.5191668581333, 247.95507214408508, 248.9092579974913, 243.21329703823716, 242.62465812488037, 243.3713098947044, 242.1100320753772, 243.31039405730834, 239.33037137097054, 235.63781816746183, 243.52050448107468, 244.09906081672875, 236.01707379544325, 242.91750709403087, 240.51595572212855, 242.6023355165655, 242.5813836945827, 240.24557052630297, 238.81365706520882, 248.7309308536521, 241.81888334736826, 237.9189130305382, 244.72157119412233, 244.07469489260285, 245.57848875050212, 245.8978595234061, 242.57693145097514, 245.4685784678624, 241.46225850442008], [242.12255024260583, 242.20993034381223, 234.4992111916047, 238.6602864222883, 243.37995624603636, 242.67386859096428, 241.51472237364948, 242.41051439060774, 243.7171594328924, 238.4145397685014, 240.78820652066213, 243.93674915213816, 239.66920173577606, 238.19538307008943, 233.37099424909368, 238.37615008846535, 240.13684724882935, 243.20481407308566, 236.46875212870842, 237.14258911152749, 243.10079931116482, 242.02612420876832, 241.51826501551918, 244.06673867541116, 233.05127191952408, 240.40689427591715, 247.1942056396282, 237.17004896358583, 241.34646818786993, 241.50414202457117], [233.07362880188052, 240.16463913227616, 243.79306654138043, 237.17019799376297, 240.19640922388768, 232.1387452632959, 238.74228626986698, 241.36717247175895, 240.67125807117645, 240.9682458877119, 238.83756652049593, 240.172845679874, 242.25940475698184, 240.30022046615116, 233.9120592525767, 244.74802443473806, 235.82718041647166, 241.46088228453604, 234.74803877412572, 243.81648976834956, 241.59979151353812, 236.96216586978912, 230.69600291802237, 241.2424827609262, 235.39318172904103, 239.37020396023877, 235.0932455843168, 237.93795273396205, 239.44983255565367, 242.22285746436967]]\n",
      "n-clusters 12\n"
     ]
    },
    {
     "name": "stdout",
     "output_type": "stream",
     "text": [
      "[[282.2701138126275, 282.2701138126275, 282.2701138126275, 282.2701138126275, 282.2701138126275, 282.2701138126275, 282.2701138126275, 282.2701138126275, 282.2701138126275, 282.2701138126275, 282.2701138126275, 282.2701138126275, 282.2701138126275, 282.2701138126275, 282.2701138126275, 282.2701138126275, 282.2701138126275, 282.2701138126275, 282.2701138126275, 282.2701138126275, 282.2701138126275, 282.2701138126275, 282.2701138126275, 282.2701138126275, 282.2701138126275, 282.2701138126275, 282.2701138126275, 282.2701138126275, 282.2701138126275, 282.2701138126275], [263.55578493587336, 263.55578493587336, 263.55578493587336, 263.55578493587336, 263.55578493587336, 263.55578493587336, 263.55578493587336, 263.55578493587336, 273.0996809716935, 263.55578493587336, 272.91166082596146, 263.55578493587336, 263.55578493587336, 263.55578493587336, 263.55578493587336, 263.55578493587336, 263.55578493587336, 263.55578493587336, 263.55578493587336, 263.55578493587336, 263.55578493587336, 263.55578493587336, 263.55578493587336, 263.55578493587336, 263.55578493587336, 263.55578493587336, 263.55578493587336, 263.55578493587336, 263.55578493587336, 263.55578493587336], [255.6029052874847, 256.0934748352325, 262.53307762834675, 255.58304877644989, 255.61783246356603, 256.20717613114954, 256.25265418082677, 255.5646570084813, 255.66066923066953, 255.73810430473597, 255.60349895668557, 256.0934748352325, 259.9906568228232, 255.6251507255922, 255.66066923066953, 256.184111416949, 256.12109154810105, 259.9906568228232, 256.17001047556556, 255.60068482810127, 255.66176807332872, 255.7334382392447, 256.25265418082677, 255.57187340263602, 255.57640791344883, 255.675830595038, 255.6121490963855, 261.864012888863, 255.6529206829007, 255.88130034940133], [248.60035345124658, 254.50681349313336, 249.6095887739673, 260.2950229928196, 248.52065163793011, 252.65927436810315, 253.76691205743103, 249.45123055784492, 253.62021835022804, 254.8304518966929, 252.70086861963503, 252.04416240738323, 248.1150374749771, 250.27496058547126, 252.61192749342297, 254.18819911569915, 260.6560832118901, 248.2482563948081, 248.37291738801954, 252.62090535178504, 250.25555055221642, 256.7774262948272, 248.52381700666604, 254.52997433360412, 248.5387723994386, 248.4462501822898, 248.21743096775919, 254.759158195848, 248.5494121506186, 248.3689308222014], [245.25708287960765, 242.50535079863866, 253.19425605681474, 251.30075595662782, 247.21100837819716, 244.39428000329653, 245.4423841629423, 247.89545929069973, 259.21993271601065, 254.1037246640401, 253.58495632248767, 250.70275124842428, 249.40887047702182, 242.58524271556504, 253.28784534319843, 253.4737316038061, 253.64414749706725, 247.1918753454107, 249.46558976809416, 244.1311738149396, 253.86947731760074, 242.56188660851606, 247.1029641301961, 246.98557562304094, 248.18550250312398, 249.41524979015955, 248.0255662888214, 247.40747303150982, 258.65499262032426, 253.73334934374915], [251.48565699918458, 240.47287667492813, 246.5292378596328, 245.7597369475201, 251.48250121785057, 251.97395974195268, 245.06406215142226, 251.85069055824704, 252.45471244909155, 244.8878134481917, 243.39752935161263, 246.01099937135047, 254.18952810981062, 247.40161808676206, 242.96255965426226, 252.19780360973567, 241.79508304158512, 246.75403819904128, 244.14899805817979, 248.76492684330253, 243.26993111390797, 238.49107469557205, 245.29808556319222, 242.8495912632603, 244.88562492023553, 246.59489072429, 242.77840265378234, 245.52515224139944, 244.78658781554276, 245.86538364273574], [245.88489596191584, 241.8674207644282, 250.5700827234412, 248.5589679539673, 240.18376168239485, 249.9969882633541, 244.4080494119052, 250.95902100826223, 244.63729564617782, 237.34883760402153, 246.28301879108955, 246.02444810404793, 246.75702006774827, 245.3773148406776, 246.03358528630943, 241.86201258409895, 245.30866877842317, 245.83119473159093, 250.50929316810817, 250.2061712274555, 249.52952391270364, 249.67711183406513, 242.89222555212632, 241.73768208227676, 251.20661283989895, 250.70160583263265, 246.40928608595087, 246.4899779577371, 243.64306189861153, 243.15973451467988], [244.5132692265389, 235.5191668581333, 247.95507214408508, 248.9092579974913, 243.21329703823716, 242.62465812488037, 243.3713098947044, 242.1100320753772, 243.31039405730834, 239.33037137097054, 235.63781816746183, 243.52050448107468, 244.09906081672875, 236.01707379544325, 242.91750709403087, 240.51595572212855, 242.6023355165655, 242.5813836945827, 240.24557052630297, 238.81365706520882, 248.7309308536521, 241.81888334736826, 237.9189130305382, 244.72157119412233, 244.07469489260285, 245.57848875050212, 245.8978595234061, 242.57693145097514, 245.4685784678624, 241.46225850442008], [242.12255024260583, 242.20993034381223, 234.4992111916047, 238.6602864222883, 243.37995624603636, 242.67386859096428, 241.51472237364948, 242.41051439060774, 243.7171594328924, 238.4145397685014, 240.78820652066213, 243.93674915213816, 239.66920173577606, 238.19538307008943, 233.37099424909368, 238.37615008846535, 240.13684724882935, 243.20481407308566, 236.46875212870842, 237.14258911152749, 243.10079931116482, 242.02612420876832, 241.51826501551918, 244.06673867541116, 233.05127191952408, 240.40689427591715, 247.1942056396282, 237.17004896358583, 241.34646818786993, 241.50414202457117], [233.07362880188052, 240.16463913227616, 243.79306654138043, 237.17019799376297, 240.19640922388768, 232.1387452632959, 238.74228626986698, 241.36717247175895, 240.67125807117645, 240.9682458877119, 238.83756652049593, 240.172845679874, 242.25940475698184, 240.30022046615116, 233.9120592525767, 244.74802443473806, 235.82718041647166, 241.46088228453604, 234.74803877412572, 243.81648976834956, 241.59979151353812, 236.96216586978912, 230.69600291802237, 241.2424827609262, 235.39318172904103, 239.37020396023877, 235.0932455843168, 237.93795273396205, 239.44983255565367, 242.22285746436967], [234.88094169104653, 235.2714158624681, 238.93212512637427, 235.6070051023983, 237.04351104575204, 238.98614048224678, 239.0189190040603, 235.97551859115288, 234.83158640947315, 234.83300756475074, 238.5260118478757, 232.5569100127053, 238.07206725492645, 238.4038114903271, 239.4192549932212, 240.61430040728146, 236.6520874576679, 240.62177015163226, 237.10623901031428, 241.71422348910812, 239.28083191544582, 237.9473792426381, 239.92813160350892, 235.88708149172953, 238.7169718736542, 234.58183340671167, 234.57739412027604, 240.1956168305686, 242.71314134235826, 234.99922277558673]]\n",
      "n-clusters 13\n",
      "[[282.2701138126275, 282.2701138126275, 282.2701138126275, 282.2701138126275, 282.2701138126275, 282.2701138126275, 282.2701138126275, 282.2701138126275, 282.2701138126275, 282.2701138126275, 282.2701138126275, 282.2701138126275, 282.2701138126275, 282.2701138126275, 282.2701138126275, 282.2701138126275, 282.2701138126275, 282.2701138126275, 282.2701138126275, 282.2701138126275, 282.2701138126275, 282.2701138126275, 282.2701138126275, 282.2701138126275, 282.2701138126275, 282.2701138126275, 282.2701138126275, 282.2701138126275, 282.2701138126275, 282.2701138126275], [263.55578493587336, 263.55578493587336, 263.55578493587336, 263.55578493587336, 263.55578493587336, 263.55578493587336, 263.55578493587336, 263.55578493587336, 273.0996809716935, 263.55578493587336, 272.91166082596146, 263.55578493587336, 263.55578493587336, 263.55578493587336, 263.55578493587336, 263.55578493587336, 263.55578493587336, 263.55578493587336, 263.55578493587336, 263.55578493587336, 263.55578493587336, 263.55578493587336, 263.55578493587336, 263.55578493587336, 263.55578493587336, 263.55578493587336, 263.55578493587336, 263.55578493587336, 263.55578493587336, 263.55578493587336], [255.6029052874847, 256.0934748352325, 262.53307762834675, 255.58304877644989, 255.61783246356603, 256.20717613114954, 256.25265418082677, 255.5646570084813, 255.66066923066953, 255.73810430473597, 255.60349895668557, 256.0934748352325, 259.9906568228232, 255.6251507255922, 255.66066923066953, 256.184111416949, 256.12109154810105, 259.9906568228232, 256.17001047556556, 255.60068482810127, 255.66176807332872, 255.7334382392447, 256.25265418082677, 255.57187340263602, 255.57640791344883, 255.675830595038, 255.6121490963855, 261.864012888863, 255.6529206829007, 255.88130034940133], [248.60035345124658, 254.50681349313336, 249.6095887739673, 260.2950229928196, 248.52065163793011, 252.65927436810315, 253.76691205743103, 249.45123055784492, 253.62021835022804, 254.8304518966929, 252.70086861963503, 252.04416240738323, 248.1150374749771, 250.27496058547126, 252.61192749342297, 254.18819911569915, 260.6560832118901, 248.2482563948081, 248.37291738801954, 252.62090535178504, 250.25555055221642, 256.7774262948272, 248.52381700666604, 254.52997433360412, 248.5387723994386, 248.4462501822898, 248.21743096775919, 254.759158195848, 248.5494121506186, 248.3689308222014], [245.25708287960765, 242.50535079863866, 253.19425605681474, 251.30075595662782, 247.21100837819716, 244.39428000329653, 245.4423841629423, 247.89545929069973, 259.21993271601065, 254.1037246640401, 253.58495632248767, 250.70275124842428, 249.40887047702182, 242.58524271556504, 253.28784534319843, 253.4737316038061, 253.64414749706725, 247.1918753454107, 249.46558976809416, 244.1311738149396, 253.86947731760074, 242.56188660851606, 247.1029641301961, 246.98557562304094, 248.18550250312398, 249.41524979015955, 248.0255662888214, 247.40747303150982, 258.65499262032426, 253.73334934374915], [251.48565699918458, 240.47287667492813, 246.5292378596328, 245.7597369475201, 251.48250121785057, 251.97395974195268, 245.06406215142226, 251.85069055824704, 252.45471244909155, 244.8878134481917, 243.39752935161263, 246.01099937135047, 254.18952810981062, 247.40161808676206, 242.96255965426226, 252.19780360973567, 241.79508304158512, 246.75403819904128, 244.14899805817979, 248.76492684330253, 243.26993111390797, 238.49107469557205, 245.29808556319222, 242.8495912632603, 244.88562492023553, 246.59489072429, 242.77840265378234, 245.52515224139944, 244.78658781554276, 245.86538364273574], [245.88489596191584, 241.8674207644282, 250.5700827234412, 248.5589679539673, 240.18376168239485, 249.9969882633541, 244.4080494119052, 250.95902100826223, 244.63729564617782, 237.34883760402153, 246.28301879108955, 246.02444810404793, 246.75702006774827, 245.3773148406776, 246.03358528630943, 241.86201258409895, 245.30866877842317, 245.83119473159093, 250.50929316810817, 250.2061712274555, 249.52952391270364, 249.67711183406513, 242.89222555212632, 241.73768208227676, 251.20661283989895, 250.70160583263265, 246.40928608595087, 246.4899779577371, 243.64306189861153, 243.15973451467988], [244.5132692265389, 235.5191668581333, 247.95507214408508, 248.9092579974913, 243.21329703823716, 242.62465812488037, 243.3713098947044, 242.1100320753772, 243.31039405730834, 239.33037137097054, 235.63781816746183, 243.52050448107468, 244.09906081672875, 236.01707379544325, 242.91750709403087, 240.51595572212855, 242.6023355165655, 242.5813836945827, 240.24557052630297, 238.81365706520882, 248.7309308536521, 241.81888334736826, 237.9189130305382, 244.72157119412233, 244.07469489260285, 245.57848875050212, 245.8978595234061, 242.57693145097514, 245.4685784678624, 241.46225850442008], [242.12255024260583, 242.20993034381223, 234.4992111916047, 238.6602864222883, 243.37995624603636, 242.67386859096428, 241.51472237364948, 242.41051439060774, 243.7171594328924, 238.4145397685014, 240.78820652066213, 243.93674915213816, 239.66920173577606, 238.19538307008943, 233.37099424909368, 238.37615008846535, 240.13684724882935, 243.20481407308566, 236.46875212870842, 237.14258911152749, 243.10079931116482, 242.02612420876832, 241.51826501551918, 244.06673867541116, 233.05127191952408, 240.40689427591715, 247.1942056396282, 237.17004896358583, 241.34646818786993, 241.50414202457117], [233.07362880188052, 240.16463913227616, 243.79306654138043, 237.17019799376297, 240.19640922388768, 232.1387452632959, 238.74228626986698, 241.36717247175895, 240.67125807117645, 240.9682458877119, 238.83756652049593, 240.172845679874, 242.25940475698184, 240.30022046615116, 233.9120592525767, 244.74802443473806, 235.82718041647166, 241.46088228453604, 234.74803877412572, 243.81648976834956, 241.59979151353812, 236.96216586978912, 230.69600291802237, 241.2424827609262, 235.39318172904103, 239.37020396023877, 235.0932455843168, 237.93795273396205, 239.44983255565367, 242.22285746436967], [234.88094169104653, 235.2714158624681, 238.93212512637427, 235.6070051023983, 237.04351104575204, 238.98614048224678, 239.0189190040603, 235.97551859115288, 234.83158640947315, 234.83300756475074, 238.5260118478757, 232.5569100127053, 238.07206725492645, 238.4038114903271, 239.4192549932212, 240.61430040728146, 236.6520874576679, 240.62177015163226, 237.10623901031428, 241.71422348910812, 239.28083191544582, 237.9473792426381, 239.92813160350892, 235.88708149172953, 238.7169718736542, 234.58183340671167, 234.57739412027604, 240.1956168305686, 242.71314134235826, 234.99922277558673], [230.0505075041895, 235.75528092049575, 231.8813361647015, 235.18609777277956, 236.73320793887225, 235.44091160351573, 239.63777234647793, 232.05674926448594, 231.00111622757308, 231.41095538220043, 237.822742996411, 232.88484117820184, 232.93023110576476, 235.19292470038002, 238.8885999200805, 231.47215953933875, 234.9651971348742, 231.21590414994958, 237.81672364450299, 237.12437105892465, 235.01620610669826, 239.41213295992446, 233.90463536536592, 234.2147109624868, 236.89164701399756, 233.4065886268915, 233.32311052799525, 234.0716667962543, 232.36417215141927, 230.31618245400404]]\n",
      "n-clusters 14\n"
     ]
    },
    {
     "name": "stdout",
     "output_type": "stream",
     "text": [
      "[[282.2701138126275, 282.2701138126275, 282.2701138126275, 282.2701138126275, 282.2701138126275, 282.2701138126275, 282.2701138126275, 282.2701138126275, 282.2701138126275, 282.2701138126275, 282.2701138126275, 282.2701138126275, 282.2701138126275, 282.2701138126275, 282.2701138126275, 282.2701138126275, 282.2701138126275, 282.2701138126275, 282.2701138126275, 282.2701138126275, 282.2701138126275, 282.2701138126275, 282.2701138126275, 282.2701138126275, 282.2701138126275, 282.2701138126275, 282.2701138126275, 282.2701138126275, 282.2701138126275, 282.2701138126275], [263.55578493587336, 263.55578493587336, 263.55578493587336, 263.55578493587336, 263.55578493587336, 263.55578493587336, 263.55578493587336, 263.55578493587336, 273.0996809716935, 263.55578493587336, 272.91166082596146, 263.55578493587336, 263.55578493587336, 263.55578493587336, 263.55578493587336, 263.55578493587336, 263.55578493587336, 263.55578493587336, 263.55578493587336, 263.55578493587336, 263.55578493587336, 263.55578493587336, 263.55578493587336, 263.55578493587336, 263.55578493587336, 263.55578493587336, 263.55578493587336, 263.55578493587336, 263.55578493587336, 263.55578493587336], [255.6029052874847, 256.0934748352325, 262.53307762834675, 255.58304877644989, 255.61783246356603, 256.20717613114954, 256.25265418082677, 255.5646570084813, 255.66066923066953, 255.73810430473597, 255.60349895668557, 256.0934748352325, 259.9906568228232, 255.6251507255922, 255.66066923066953, 256.184111416949, 256.12109154810105, 259.9906568228232, 256.17001047556556, 255.60068482810127, 255.66176807332872, 255.7334382392447, 256.25265418082677, 255.57187340263602, 255.57640791344883, 255.675830595038, 255.6121490963855, 261.864012888863, 255.6529206829007, 255.88130034940133], [248.60035345124658, 254.50681349313336, 249.6095887739673, 260.2950229928196, 248.52065163793011, 252.65927436810315, 253.76691205743103, 249.45123055784492, 253.62021835022804, 254.8304518966929, 252.70086861963503, 252.04416240738323, 248.1150374749771, 250.27496058547126, 252.61192749342297, 254.18819911569915, 260.6560832118901, 248.2482563948081, 248.37291738801954, 252.62090535178504, 250.25555055221642, 256.7774262948272, 248.52381700666604, 254.52997433360412, 248.5387723994386, 248.4462501822898, 248.21743096775919, 254.759158195848, 248.5494121506186, 248.3689308222014], [245.25708287960765, 242.50535079863866, 253.19425605681474, 251.30075595662782, 247.21100837819716, 244.39428000329653, 245.4423841629423, 247.89545929069973, 259.21993271601065, 254.1037246640401, 253.58495632248767, 250.70275124842428, 249.40887047702182, 242.58524271556504, 253.28784534319843, 253.4737316038061, 253.64414749706725, 247.1918753454107, 249.46558976809416, 244.1311738149396, 253.86947731760074, 242.56188660851606, 247.1029641301961, 246.98557562304094, 248.18550250312398, 249.41524979015955, 248.0255662888214, 247.40747303150982, 258.65499262032426, 253.73334934374915], [251.48565699918458, 240.47287667492813, 246.5292378596328, 245.7597369475201, 251.48250121785057, 251.97395974195268, 245.06406215142226, 251.85069055824704, 252.45471244909155, 244.8878134481917, 243.39752935161263, 246.01099937135047, 254.18952810981062, 247.40161808676206, 242.96255965426226, 252.19780360973567, 241.79508304158512, 246.75403819904128, 244.14899805817979, 248.76492684330253, 243.26993111390797, 238.49107469557205, 245.29808556319222, 242.8495912632603, 244.88562492023553, 246.59489072429, 242.77840265378234, 245.52515224139944, 244.78658781554276, 245.86538364273574], [245.88489596191584, 241.8674207644282, 250.5700827234412, 248.5589679539673, 240.18376168239485, 249.9969882633541, 244.4080494119052, 250.95902100826223, 244.63729564617782, 237.34883760402153, 246.28301879108955, 246.02444810404793, 246.75702006774827, 245.3773148406776, 246.03358528630943, 241.86201258409895, 245.30866877842317, 245.83119473159093, 250.50929316810817, 250.2061712274555, 249.52952391270364, 249.67711183406513, 242.89222555212632, 241.73768208227676, 251.20661283989895, 250.70160583263265, 246.40928608595087, 246.4899779577371, 243.64306189861153, 243.15973451467988], [244.5132692265389, 235.5191668581333, 247.95507214408508, 248.9092579974913, 243.21329703823716, 242.62465812488037, 243.3713098947044, 242.1100320753772, 243.31039405730834, 239.33037137097054, 235.63781816746183, 243.52050448107468, 244.09906081672875, 236.01707379544325, 242.91750709403087, 240.51595572212855, 242.6023355165655, 242.5813836945827, 240.24557052630297, 238.81365706520882, 248.7309308536521, 241.81888334736826, 237.9189130305382, 244.72157119412233, 244.07469489260285, 245.57848875050212, 245.8978595234061, 242.57693145097514, 245.4685784678624, 241.46225850442008], [242.12255024260583, 242.20993034381223, 234.4992111916047, 238.6602864222883, 243.37995624603636, 242.67386859096428, 241.51472237364948, 242.41051439060774, 243.7171594328924, 238.4145397685014, 240.78820652066213, 243.93674915213816, 239.66920173577606, 238.19538307008943, 233.37099424909368, 238.37615008846535, 240.13684724882935, 243.20481407308566, 236.46875212870842, 237.14258911152749, 243.10079931116482, 242.02612420876832, 241.51826501551918, 244.06673867541116, 233.05127191952408, 240.40689427591715, 247.1942056396282, 237.17004896358583, 241.34646818786993, 241.50414202457117], [233.07362880188052, 240.16463913227616, 243.79306654138043, 237.17019799376297, 240.19640922388768, 232.1387452632959, 238.74228626986698, 241.36717247175895, 240.67125807117645, 240.9682458877119, 238.83756652049593, 240.172845679874, 242.25940475698184, 240.30022046615116, 233.9120592525767, 244.74802443473806, 235.82718041647166, 241.46088228453604, 234.74803877412572, 243.81648976834956, 241.59979151353812, 236.96216586978912, 230.69600291802237, 241.2424827609262, 235.39318172904103, 239.37020396023877, 235.0932455843168, 237.93795273396205, 239.44983255565367, 242.22285746436967], [234.88094169104653, 235.2714158624681, 238.93212512637427, 235.6070051023983, 237.04351104575204, 238.98614048224678, 239.0189190040603, 235.97551859115288, 234.83158640947315, 234.83300756475074, 238.5260118478757, 232.5569100127053, 238.07206725492645, 238.4038114903271, 239.4192549932212, 240.61430040728146, 236.6520874576679, 240.62177015163226, 237.10623901031428, 241.71422348910812, 239.28083191544582, 237.9473792426381, 239.92813160350892, 235.88708149172953, 238.7169718736542, 234.58183340671167, 234.57739412027604, 240.1956168305686, 242.71314134235826, 234.99922277558673], [230.0505075041895, 235.75528092049575, 231.8813361647015, 235.18609777277956, 236.73320793887225, 235.44091160351573, 239.63777234647793, 232.05674926448594, 231.00111622757308, 231.41095538220043, 237.822742996411, 232.88484117820184, 232.93023110576476, 235.19292470038002, 238.8885999200805, 231.47215953933875, 234.9651971348742, 231.21590414994958, 237.81672364450299, 237.12437105892465, 235.01620610669826, 239.41213295992446, 233.90463536536592, 234.2147109624868, 236.89164701399756, 233.4065886268915, 233.32311052799525, 234.0716667962543, 232.36417215141927, 230.31618245400404], [237.4278827443069, 235.28954649528993, 231.80452165725487, 232.60025042742706, 231.4620212304113, 231.28528026473654, 231.67375559849978, 235.62934112357223, 231.93425303495377, 229.84608170744463, 232.50262166785063, 228.58581844370102, 229.67570941906786, 234.2479483062837, 228.24488143175174, 229.80885881657417, 238.35444912016828, 230.95550597268561, 229.25295154716156, 231.02562420404502, 233.1168300975032, 233.46180695542506, 234.39827942010342, 234.5469561941527, 232.11726506851258, 225.7618239874897, 230.55954539277846, 230.99224654825588, 233.76862443974088, 229.90861334627536]]\n",
      "n-clusters 15\n",
      "[[282.2701138126275, 282.2701138126275, 282.2701138126275, 282.2701138126275, 282.2701138126275, 282.2701138126275, 282.2701138126275, 282.2701138126275, 282.2701138126275, 282.2701138126275, 282.2701138126275, 282.2701138126275, 282.2701138126275, 282.2701138126275, 282.2701138126275, 282.2701138126275, 282.2701138126275, 282.2701138126275, 282.2701138126275, 282.2701138126275, 282.2701138126275, 282.2701138126275, 282.2701138126275, 282.2701138126275, 282.2701138126275, 282.2701138126275, 282.2701138126275, 282.2701138126275, 282.2701138126275, 282.2701138126275], [263.55578493587336, 263.55578493587336, 263.55578493587336, 263.55578493587336, 263.55578493587336, 263.55578493587336, 263.55578493587336, 263.55578493587336, 273.0996809716935, 263.55578493587336, 272.91166082596146, 263.55578493587336, 263.55578493587336, 263.55578493587336, 263.55578493587336, 263.55578493587336, 263.55578493587336, 263.55578493587336, 263.55578493587336, 263.55578493587336, 263.55578493587336, 263.55578493587336, 263.55578493587336, 263.55578493587336, 263.55578493587336, 263.55578493587336, 263.55578493587336, 263.55578493587336, 263.55578493587336, 263.55578493587336], [255.6029052874847, 256.0934748352325, 262.53307762834675, 255.58304877644989, 255.61783246356603, 256.20717613114954, 256.25265418082677, 255.5646570084813, 255.66066923066953, 255.73810430473597, 255.60349895668557, 256.0934748352325, 259.9906568228232, 255.6251507255922, 255.66066923066953, 256.184111416949, 256.12109154810105, 259.9906568228232, 256.17001047556556, 255.60068482810127, 255.66176807332872, 255.7334382392447, 256.25265418082677, 255.57187340263602, 255.57640791344883, 255.675830595038, 255.6121490963855, 261.864012888863, 255.6529206829007, 255.88130034940133], [248.60035345124658, 254.50681349313336, 249.6095887739673, 260.2950229928196, 248.52065163793011, 252.65927436810315, 253.76691205743103, 249.45123055784492, 253.62021835022804, 254.8304518966929, 252.70086861963503, 252.04416240738323, 248.1150374749771, 250.27496058547126, 252.61192749342297, 254.18819911569915, 260.6560832118901, 248.2482563948081, 248.37291738801954, 252.62090535178504, 250.25555055221642, 256.7774262948272, 248.52381700666604, 254.52997433360412, 248.5387723994386, 248.4462501822898, 248.21743096775919, 254.759158195848, 248.5494121506186, 248.3689308222014], [245.25708287960765, 242.50535079863866, 253.19425605681474, 251.30075595662782, 247.21100837819716, 244.39428000329653, 245.4423841629423, 247.89545929069973, 259.21993271601065, 254.1037246640401, 253.58495632248767, 250.70275124842428, 249.40887047702182, 242.58524271556504, 253.28784534319843, 253.4737316038061, 253.64414749706725, 247.1918753454107, 249.46558976809416, 244.1311738149396, 253.86947731760074, 242.56188660851606, 247.1029641301961, 246.98557562304094, 248.18550250312398, 249.41524979015955, 248.0255662888214, 247.40747303150982, 258.65499262032426, 253.73334934374915], [251.48565699918458, 240.47287667492813, 246.5292378596328, 245.7597369475201, 251.48250121785057, 251.97395974195268, 245.06406215142226, 251.85069055824704, 252.45471244909155, 244.8878134481917, 243.39752935161263, 246.01099937135047, 254.18952810981062, 247.40161808676206, 242.96255965426226, 252.19780360973567, 241.79508304158512, 246.75403819904128, 244.14899805817979, 248.76492684330253, 243.26993111390797, 238.49107469557205, 245.29808556319222, 242.8495912632603, 244.88562492023553, 246.59489072429, 242.77840265378234, 245.52515224139944, 244.78658781554276, 245.86538364273574], [245.88489596191584, 241.8674207644282, 250.5700827234412, 248.5589679539673, 240.18376168239485, 249.9969882633541, 244.4080494119052, 250.95902100826223, 244.63729564617782, 237.34883760402153, 246.28301879108955, 246.02444810404793, 246.75702006774827, 245.3773148406776, 246.03358528630943, 241.86201258409895, 245.30866877842317, 245.83119473159093, 250.50929316810817, 250.2061712274555, 249.52952391270364, 249.67711183406513, 242.89222555212632, 241.73768208227676, 251.20661283989895, 250.70160583263265, 246.40928608595087, 246.4899779577371, 243.64306189861153, 243.15973451467988], [244.5132692265389, 235.5191668581333, 247.95507214408508, 248.9092579974913, 243.21329703823716, 242.62465812488037, 243.3713098947044, 242.1100320753772, 243.31039405730834, 239.33037137097054, 235.63781816746183, 243.52050448107468, 244.09906081672875, 236.01707379544325, 242.91750709403087, 240.51595572212855, 242.6023355165655, 242.5813836945827, 240.24557052630297, 238.81365706520882, 248.7309308536521, 241.81888334736826, 237.9189130305382, 244.72157119412233, 244.07469489260285, 245.57848875050212, 245.8978595234061, 242.57693145097514, 245.4685784678624, 241.46225850442008], [242.12255024260583, 242.20993034381223, 234.4992111916047, 238.6602864222883, 243.37995624603636, 242.67386859096428, 241.51472237364948, 242.41051439060774, 243.7171594328924, 238.4145397685014, 240.78820652066213, 243.93674915213816, 239.66920173577606, 238.19538307008943, 233.37099424909368, 238.37615008846535, 240.13684724882935, 243.20481407308566, 236.46875212870842, 237.14258911152749, 243.10079931116482, 242.02612420876832, 241.51826501551918, 244.06673867541116, 233.05127191952408, 240.40689427591715, 247.1942056396282, 237.17004896358583, 241.34646818786993, 241.50414202457117], [233.07362880188052, 240.16463913227616, 243.79306654138043, 237.17019799376297, 240.19640922388768, 232.1387452632959, 238.74228626986698, 241.36717247175895, 240.67125807117645, 240.9682458877119, 238.83756652049593, 240.172845679874, 242.25940475698184, 240.30022046615116, 233.9120592525767, 244.74802443473806, 235.82718041647166, 241.46088228453604, 234.74803877412572, 243.81648976834956, 241.59979151353812, 236.96216586978912, 230.69600291802237, 241.2424827609262, 235.39318172904103, 239.37020396023877, 235.0932455843168, 237.93795273396205, 239.44983255565367, 242.22285746436967], [234.88094169104653, 235.2714158624681, 238.93212512637427, 235.6070051023983, 237.04351104575204, 238.98614048224678, 239.0189190040603, 235.97551859115288, 234.83158640947315, 234.83300756475074, 238.5260118478757, 232.5569100127053, 238.07206725492645, 238.4038114903271, 239.4192549932212, 240.61430040728146, 236.6520874576679, 240.62177015163226, 237.10623901031428, 241.71422348910812, 239.28083191544582, 237.9473792426381, 239.92813160350892, 235.88708149172953, 238.7169718736542, 234.58183340671167, 234.57739412027604, 240.1956168305686, 242.71314134235826, 234.99922277558673], [230.0505075041895, 235.75528092049575, 231.8813361647015, 235.18609777277956, 236.73320793887225, 235.44091160351573, 239.63777234647793, 232.05674926448594, 231.00111622757308, 231.41095538220043, 237.822742996411, 232.88484117820184, 232.93023110576476, 235.19292470038002, 238.8885999200805, 231.47215953933875, 234.9651971348742, 231.21590414994958, 237.81672364450299, 237.12437105892465, 235.01620610669826, 239.41213295992446, 233.90463536536592, 234.2147109624868, 236.89164701399756, 233.4065886268915, 233.32311052799525, 234.0716667962543, 232.36417215141927, 230.31618245400404], [237.4278827443069, 235.28954649528993, 231.80452165725487, 232.60025042742706, 231.4620212304113, 231.28528026473654, 231.67375559849978, 235.62934112357223, 231.93425303495377, 229.84608170744463, 232.50262166785063, 228.58581844370102, 229.67570941906786, 234.2479483062837, 228.24488143175174, 229.80885881657417, 238.35444912016828, 230.95550597268561, 229.25295154716156, 231.02562420404502, 233.1168300975032, 233.46180695542506, 234.39827942010342, 234.5469561941527, 232.11726506851258, 225.7618239874897, 230.55954539277846, 230.99224654825588, 233.76862443974088, 229.90861334627536], [231.260361811352, 233.2259953144755, 228.19628559558686, 232.67552408915452, 231.2173807129896, 234.86702150754306, 229.24134489393577, 232.7964647203101, 229.74461305801043, 230.63137534233405, 229.26211388669515, 229.16791558086317, 233.1473854936417, 228.01870773351686, 229.9181572662437, 228.83145477171425, 229.7307110345598, 234.52821146986693, 231.2895067311904, 231.3017306275891, 231.5155895711546, 229.3423742479466, 229.9276777001295, 232.14450320968476, 231.9098005068205, 230.16643111141445, 230.43615173904377, 233.8806135501573, 229.12256062427744, 231.58118431246922]]\n",
      "n-clusters 16\n"
     ]
    },
    {
     "name": "stdout",
     "output_type": "stream",
     "text": [
      "[[282.2701138126275, 282.2701138126275, 282.2701138126275, 282.2701138126275, 282.2701138126275, 282.2701138126275, 282.2701138126275, 282.2701138126275, 282.2701138126275, 282.2701138126275, 282.2701138126275, 282.2701138126275, 282.2701138126275, 282.2701138126275, 282.2701138126275, 282.2701138126275, 282.2701138126275, 282.2701138126275, 282.2701138126275, 282.2701138126275, 282.2701138126275, 282.2701138126275, 282.2701138126275, 282.2701138126275, 282.2701138126275, 282.2701138126275, 282.2701138126275, 282.2701138126275, 282.2701138126275, 282.2701138126275], [263.55578493587336, 263.55578493587336, 263.55578493587336, 263.55578493587336, 263.55578493587336, 263.55578493587336, 263.55578493587336, 263.55578493587336, 273.0996809716935, 263.55578493587336, 272.91166082596146, 263.55578493587336, 263.55578493587336, 263.55578493587336, 263.55578493587336, 263.55578493587336, 263.55578493587336, 263.55578493587336, 263.55578493587336, 263.55578493587336, 263.55578493587336, 263.55578493587336, 263.55578493587336, 263.55578493587336, 263.55578493587336, 263.55578493587336, 263.55578493587336, 263.55578493587336, 263.55578493587336, 263.55578493587336], [255.6029052874847, 256.0934748352325, 262.53307762834675, 255.58304877644989, 255.61783246356603, 256.20717613114954, 256.25265418082677, 255.5646570084813, 255.66066923066953, 255.73810430473597, 255.60349895668557, 256.0934748352325, 259.9906568228232, 255.6251507255922, 255.66066923066953, 256.184111416949, 256.12109154810105, 259.9906568228232, 256.17001047556556, 255.60068482810127, 255.66176807332872, 255.7334382392447, 256.25265418082677, 255.57187340263602, 255.57640791344883, 255.675830595038, 255.6121490963855, 261.864012888863, 255.6529206829007, 255.88130034940133], [248.60035345124658, 254.50681349313336, 249.6095887739673, 260.2950229928196, 248.52065163793011, 252.65927436810315, 253.76691205743103, 249.45123055784492, 253.62021835022804, 254.8304518966929, 252.70086861963503, 252.04416240738323, 248.1150374749771, 250.27496058547126, 252.61192749342297, 254.18819911569915, 260.6560832118901, 248.2482563948081, 248.37291738801954, 252.62090535178504, 250.25555055221642, 256.7774262948272, 248.52381700666604, 254.52997433360412, 248.5387723994386, 248.4462501822898, 248.21743096775919, 254.759158195848, 248.5494121506186, 248.3689308222014], [245.25708287960765, 242.50535079863866, 253.19425605681474, 251.30075595662782, 247.21100837819716, 244.39428000329653, 245.4423841629423, 247.89545929069973, 259.21993271601065, 254.1037246640401, 253.58495632248767, 250.70275124842428, 249.40887047702182, 242.58524271556504, 253.28784534319843, 253.4737316038061, 253.64414749706725, 247.1918753454107, 249.46558976809416, 244.1311738149396, 253.86947731760074, 242.56188660851606, 247.1029641301961, 246.98557562304094, 248.18550250312398, 249.41524979015955, 248.0255662888214, 247.40747303150982, 258.65499262032426, 253.73334934374915], [251.48565699918458, 240.47287667492813, 246.5292378596328, 245.7597369475201, 251.48250121785057, 251.97395974195268, 245.06406215142226, 251.85069055824704, 252.45471244909155, 244.8878134481917, 243.39752935161263, 246.01099937135047, 254.18952810981062, 247.40161808676206, 242.96255965426226, 252.19780360973567, 241.79508304158512, 246.75403819904128, 244.14899805817979, 248.76492684330253, 243.26993111390797, 238.49107469557205, 245.29808556319222, 242.8495912632603, 244.88562492023553, 246.59489072429, 242.77840265378234, 245.52515224139944, 244.78658781554276, 245.86538364273574], [245.88489596191584, 241.8674207644282, 250.5700827234412, 248.5589679539673, 240.18376168239485, 249.9969882633541, 244.4080494119052, 250.95902100826223, 244.63729564617782, 237.34883760402153, 246.28301879108955, 246.02444810404793, 246.75702006774827, 245.3773148406776, 246.03358528630943, 241.86201258409895, 245.30866877842317, 245.83119473159093, 250.50929316810817, 250.2061712274555, 249.52952391270364, 249.67711183406513, 242.89222555212632, 241.73768208227676, 251.20661283989895, 250.70160583263265, 246.40928608595087, 246.4899779577371, 243.64306189861153, 243.15973451467988], [244.5132692265389, 235.5191668581333, 247.95507214408508, 248.9092579974913, 243.21329703823716, 242.62465812488037, 243.3713098947044, 242.1100320753772, 243.31039405730834, 239.33037137097054, 235.63781816746183, 243.52050448107468, 244.09906081672875, 236.01707379544325, 242.91750709403087, 240.51595572212855, 242.6023355165655, 242.5813836945827, 240.24557052630297, 238.81365706520882, 248.7309308536521, 241.81888334736826, 237.9189130305382, 244.72157119412233, 244.07469489260285, 245.57848875050212, 245.8978595234061, 242.57693145097514, 245.4685784678624, 241.46225850442008], [242.12255024260583, 242.20993034381223, 234.4992111916047, 238.6602864222883, 243.37995624603636, 242.67386859096428, 241.51472237364948, 242.41051439060774, 243.7171594328924, 238.4145397685014, 240.78820652066213, 243.93674915213816, 239.66920173577606, 238.19538307008943, 233.37099424909368, 238.37615008846535, 240.13684724882935, 243.20481407308566, 236.46875212870842, 237.14258911152749, 243.10079931116482, 242.02612420876832, 241.51826501551918, 244.06673867541116, 233.05127191952408, 240.40689427591715, 247.1942056396282, 237.17004896358583, 241.34646818786993, 241.50414202457117], [233.07362880188052, 240.16463913227616, 243.79306654138043, 237.17019799376297, 240.19640922388768, 232.1387452632959, 238.74228626986698, 241.36717247175895, 240.67125807117645, 240.9682458877119, 238.83756652049593, 240.172845679874, 242.25940475698184, 240.30022046615116, 233.9120592525767, 244.74802443473806, 235.82718041647166, 241.46088228453604, 234.74803877412572, 243.81648976834956, 241.59979151353812, 236.96216586978912, 230.69600291802237, 241.2424827609262, 235.39318172904103, 239.37020396023877, 235.0932455843168, 237.93795273396205, 239.44983255565367, 242.22285746436967], [234.88094169104653, 235.2714158624681, 238.93212512637427, 235.6070051023983, 237.04351104575204, 238.98614048224678, 239.0189190040603, 235.97551859115288, 234.83158640947315, 234.83300756475074, 238.5260118478757, 232.5569100127053, 238.07206725492645, 238.4038114903271, 239.4192549932212, 240.61430040728146, 236.6520874576679, 240.62177015163226, 237.10623901031428, 241.71422348910812, 239.28083191544582, 237.9473792426381, 239.92813160350892, 235.88708149172953, 238.7169718736542, 234.58183340671167, 234.57739412027604, 240.1956168305686, 242.71314134235826, 234.99922277558673], [230.0505075041895, 235.75528092049575, 231.8813361647015, 235.18609777277956, 236.73320793887225, 235.44091160351573, 239.63777234647793, 232.05674926448594, 231.00111622757308, 231.41095538220043, 237.822742996411, 232.88484117820184, 232.93023110576476, 235.19292470038002, 238.8885999200805, 231.47215953933875, 234.9651971348742, 231.21590414994958, 237.81672364450299, 237.12437105892465, 235.01620610669826, 239.41213295992446, 233.90463536536592, 234.2147109624868, 236.89164701399756, 233.4065886268915, 233.32311052799525, 234.0716667962543, 232.36417215141927, 230.31618245400404], [237.4278827443069, 235.28954649528993, 231.80452165725487, 232.60025042742706, 231.4620212304113, 231.28528026473654, 231.67375559849978, 235.62934112357223, 231.93425303495377, 229.84608170744463, 232.50262166785063, 228.58581844370102, 229.67570941906786, 234.2479483062837, 228.24488143175174, 229.80885881657417, 238.35444912016828, 230.95550597268561, 229.25295154716156, 231.02562420404502, 233.1168300975032, 233.46180695542506, 234.39827942010342, 234.5469561941527, 232.11726506851258, 225.7618239874897, 230.55954539277846, 230.99224654825588, 233.76862443974088, 229.90861334627536], [231.260361811352, 233.2259953144755, 228.19628559558686, 232.67552408915452, 231.2173807129896, 234.86702150754306, 229.24134489393577, 232.7964647203101, 229.74461305801043, 230.63137534233405, 229.26211388669515, 229.16791558086317, 233.1473854936417, 228.01870773351686, 229.9181572662437, 228.83145477171425, 229.7307110345598, 234.52821146986693, 231.2895067311904, 231.3017306275891, 231.5155895711546, 229.3423742479466, 229.9276777001295, 232.14450320968476, 231.9098005068205, 230.16643111141445, 230.43615173904377, 233.8806135501573, 229.12256062427744, 231.58118431246922], [230.11834887288813, 227.42203494275418, 226.56502726983192, 229.74098850871377, 227.97135136740172, 228.66102713618196, 225.89998927752669, 229.99901129594744, 229.5533373393109, 229.5820561399504, 225.5769113477738, 231.57241344962185, 230.50648909282833, 228.19005460215894, 225.2522355644912, 228.7686808091871, 225.2941879391617, 228.4572528375892, 228.23670885277457, 229.55802922106685, 226.60871316784184, 230.0239555867101, 229.27058129074385, 231.56616702090355, 234.8001413841213, 225.62626753379246, 229.64482042099294, 229.8887653253323, 226.9434703233329, 227.06501513008877]]\n",
      "n-clusters 17\n"
     ]
    },
    {
     "name": "stdout",
     "output_type": "stream",
     "text": [
      "[[282.2701138126275, 282.2701138126275, 282.2701138126275, 282.2701138126275, 282.2701138126275, 282.2701138126275, 282.2701138126275, 282.2701138126275, 282.2701138126275, 282.2701138126275, 282.2701138126275, 282.2701138126275, 282.2701138126275, 282.2701138126275, 282.2701138126275, 282.2701138126275, 282.2701138126275, 282.2701138126275, 282.2701138126275, 282.2701138126275, 282.2701138126275, 282.2701138126275, 282.2701138126275, 282.2701138126275, 282.2701138126275, 282.2701138126275, 282.2701138126275, 282.2701138126275, 282.2701138126275, 282.2701138126275], [263.55578493587336, 263.55578493587336, 263.55578493587336, 263.55578493587336, 263.55578493587336, 263.55578493587336, 263.55578493587336, 263.55578493587336, 273.0996809716935, 263.55578493587336, 272.91166082596146, 263.55578493587336, 263.55578493587336, 263.55578493587336, 263.55578493587336, 263.55578493587336, 263.55578493587336, 263.55578493587336, 263.55578493587336, 263.55578493587336, 263.55578493587336, 263.55578493587336, 263.55578493587336, 263.55578493587336, 263.55578493587336, 263.55578493587336, 263.55578493587336, 263.55578493587336, 263.55578493587336, 263.55578493587336], [255.6029052874847, 256.0934748352325, 262.53307762834675, 255.58304877644989, 255.61783246356603, 256.20717613114954, 256.25265418082677, 255.5646570084813, 255.66066923066953, 255.73810430473597, 255.60349895668557, 256.0934748352325, 259.9906568228232, 255.6251507255922, 255.66066923066953, 256.184111416949, 256.12109154810105, 259.9906568228232, 256.17001047556556, 255.60068482810127, 255.66176807332872, 255.7334382392447, 256.25265418082677, 255.57187340263602, 255.57640791344883, 255.675830595038, 255.6121490963855, 261.864012888863, 255.6529206829007, 255.88130034940133], [248.60035345124658, 254.50681349313336, 249.6095887739673, 260.2950229928196, 248.52065163793011, 252.65927436810315, 253.76691205743103, 249.45123055784492, 253.62021835022804, 254.8304518966929, 252.70086861963503, 252.04416240738323, 248.1150374749771, 250.27496058547126, 252.61192749342297, 254.18819911569915, 260.6560832118901, 248.2482563948081, 248.37291738801954, 252.62090535178504, 250.25555055221642, 256.7774262948272, 248.52381700666604, 254.52997433360412, 248.5387723994386, 248.4462501822898, 248.21743096775919, 254.759158195848, 248.5494121506186, 248.3689308222014], [245.25708287960765, 242.50535079863866, 253.19425605681474, 251.30075595662782, 247.21100837819716, 244.39428000329653, 245.4423841629423, 247.89545929069973, 259.21993271601065, 254.1037246640401, 253.58495632248767, 250.70275124842428, 249.40887047702182, 242.58524271556504, 253.28784534319843, 253.4737316038061, 253.64414749706725, 247.1918753454107, 249.46558976809416, 244.1311738149396, 253.86947731760074, 242.56188660851606, 247.1029641301961, 246.98557562304094, 248.18550250312398, 249.41524979015955, 248.0255662888214, 247.40747303150982, 258.65499262032426, 253.73334934374915], [251.48565699918458, 240.47287667492813, 246.5292378596328, 245.7597369475201, 251.48250121785057, 251.97395974195268, 245.06406215142226, 251.85069055824704, 252.45471244909155, 244.8878134481917, 243.39752935161263, 246.01099937135047, 254.18952810981062, 247.40161808676206, 242.96255965426226, 252.19780360973567, 241.79508304158512, 246.75403819904128, 244.14899805817979, 248.76492684330253, 243.26993111390797, 238.49107469557205, 245.29808556319222, 242.8495912632603, 244.88562492023553, 246.59489072429, 242.77840265378234, 245.52515224139944, 244.78658781554276, 245.86538364273574], [245.88489596191584, 241.8674207644282, 250.5700827234412, 248.5589679539673, 240.18376168239485, 249.9969882633541, 244.4080494119052, 250.95902100826223, 244.63729564617782, 237.34883760402153, 246.28301879108955, 246.02444810404793, 246.75702006774827, 245.3773148406776, 246.03358528630943, 241.86201258409895, 245.30866877842317, 245.83119473159093, 250.50929316810817, 250.2061712274555, 249.52952391270364, 249.67711183406513, 242.89222555212632, 241.73768208227676, 251.20661283989895, 250.70160583263265, 246.40928608595087, 246.4899779577371, 243.64306189861153, 243.15973451467988], [244.5132692265389, 235.5191668581333, 247.95507214408508, 248.9092579974913, 243.21329703823716, 242.62465812488037, 243.3713098947044, 242.1100320753772, 243.31039405730834, 239.33037137097054, 235.63781816746183, 243.52050448107468, 244.09906081672875, 236.01707379544325, 242.91750709403087, 240.51595572212855, 242.6023355165655, 242.5813836945827, 240.24557052630297, 238.81365706520882, 248.7309308536521, 241.81888334736826, 237.9189130305382, 244.72157119412233, 244.07469489260285, 245.57848875050212, 245.8978595234061, 242.57693145097514, 245.4685784678624, 241.46225850442008], [242.12255024260583, 242.20993034381223, 234.4992111916047, 238.6602864222883, 243.37995624603636, 242.67386859096428, 241.51472237364948, 242.41051439060774, 243.7171594328924, 238.4145397685014, 240.78820652066213, 243.93674915213816, 239.66920173577606, 238.19538307008943, 233.37099424909368, 238.37615008846535, 240.13684724882935, 243.20481407308566, 236.46875212870842, 237.14258911152749, 243.10079931116482, 242.02612420876832, 241.51826501551918, 244.06673867541116, 233.05127191952408, 240.40689427591715, 247.1942056396282, 237.17004896358583, 241.34646818786993, 241.50414202457117], [233.07362880188052, 240.16463913227616, 243.79306654138043, 237.17019799376297, 240.19640922388768, 232.1387452632959, 238.74228626986698, 241.36717247175895, 240.67125807117645, 240.9682458877119, 238.83756652049593, 240.172845679874, 242.25940475698184, 240.30022046615116, 233.9120592525767, 244.74802443473806, 235.82718041647166, 241.46088228453604, 234.74803877412572, 243.81648976834956, 241.59979151353812, 236.96216586978912, 230.69600291802237, 241.2424827609262, 235.39318172904103, 239.37020396023877, 235.0932455843168, 237.93795273396205, 239.44983255565367, 242.22285746436967], [234.88094169104653, 235.2714158624681, 238.93212512637427, 235.6070051023983, 237.04351104575204, 238.98614048224678, 239.0189190040603, 235.97551859115288, 234.83158640947315, 234.83300756475074, 238.5260118478757, 232.5569100127053, 238.07206725492645, 238.4038114903271, 239.4192549932212, 240.61430040728146, 236.6520874576679, 240.62177015163226, 237.10623901031428, 241.71422348910812, 239.28083191544582, 237.9473792426381, 239.92813160350892, 235.88708149172953, 238.7169718736542, 234.58183340671167, 234.57739412027604, 240.1956168305686, 242.71314134235826, 234.99922277558673], [230.0505075041895, 235.75528092049575, 231.8813361647015, 235.18609777277956, 236.73320793887225, 235.44091160351573, 239.63777234647793, 232.05674926448594, 231.00111622757308, 231.41095538220043, 237.822742996411, 232.88484117820184, 232.93023110576476, 235.19292470038002, 238.8885999200805, 231.47215953933875, 234.9651971348742, 231.21590414994958, 237.81672364450299, 237.12437105892465, 235.01620610669826, 239.41213295992446, 233.90463536536592, 234.2147109624868, 236.89164701399756, 233.4065886268915, 233.32311052799525, 234.0716667962543, 232.36417215141927, 230.31618245400404], [237.4278827443069, 235.28954649528993, 231.80452165725487, 232.60025042742706, 231.4620212304113, 231.28528026473654, 231.67375559849978, 235.62934112357223, 231.93425303495377, 229.84608170744463, 232.50262166785063, 228.58581844370102, 229.67570941906786, 234.2479483062837, 228.24488143175174, 229.80885881657417, 238.35444912016828, 230.95550597268561, 229.25295154716156, 231.02562420404502, 233.1168300975032, 233.46180695542506, 234.39827942010342, 234.5469561941527, 232.11726506851258, 225.7618239874897, 230.55954539277846, 230.99224654825588, 233.76862443974088, 229.90861334627536], [231.260361811352, 233.2259953144755, 228.19628559558686, 232.67552408915452, 231.2173807129896, 234.86702150754306, 229.24134489393577, 232.7964647203101, 229.74461305801043, 230.63137534233405, 229.26211388669515, 229.16791558086317, 233.1473854936417, 228.01870773351686, 229.9181572662437, 228.83145477171425, 229.7307110345598, 234.52821146986693, 231.2895067311904, 231.3017306275891, 231.5155895711546, 229.3423742479466, 229.9276777001295, 232.14450320968476, 231.9098005068205, 230.16643111141445, 230.43615173904377, 233.8806135501573, 229.12256062427744, 231.58118431246922], [230.11834887288813, 227.42203494275418, 226.56502726983192, 229.74098850871377, 227.97135136740172, 228.66102713618196, 225.89998927752669, 229.99901129594744, 229.5533373393109, 229.5820561399504, 225.5769113477738, 231.57241344962185, 230.50648909282833, 228.19005460215894, 225.2522355644912, 228.7686808091871, 225.2941879391617, 228.4572528375892, 228.23670885277457, 229.55802922106685, 226.60871316784184, 230.0239555867101, 229.27058129074385, 231.56616702090355, 234.8001413841213, 225.62626753379246, 229.64482042099294, 229.8887653253323, 226.9434703233329, 227.06501513008877], [226.55892226008075, 226.03226135347467, 226.78981233848785, 226.9921505891255, 229.03915213694995, 227.18098774538436, 227.1972701640833, 223.68504682196914, 230.6272731795542, 225.0850083830289, 227.03541467386108, 226.98420873430968, 228.5092486394179, 228.3392257326889, 232.13143270572377, 224.6336718423183, 225.6506943251262, 230.0715249286784, 227.7276200980868, 224.8894043377388, 227.6177667332904, 230.95075650511458, 224.30807916810488, 227.08495118557062, 232.73659996601052, 227.76844343670467, 225.90046271674473, 225.38863036651355, 224.79988220873372, 224.68305905020193]]\n",
      "n-clusters 18\n"
     ]
    },
    {
     "name": "stdout",
     "output_type": "stream",
     "text": [
      "[[282.2701138126275, 282.2701138126275, 282.2701138126275, 282.2701138126275, 282.2701138126275, 282.2701138126275, 282.2701138126275, 282.2701138126275, 282.2701138126275, 282.2701138126275, 282.2701138126275, 282.2701138126275, 282.2701138126275, 282.2701138126275, 282.2701138126275, 282.2701138126275, 282.2701138126275, 282.2701138126275, 282.2701138126275, 282.2701138126275, 282.2701138126275, 282.2701138126275, 282.2701138126275, 282.2701138126275, 282.2701138126275, 282.2701138126275, 282.2701138126275, 282.2701138126275, 282.2701138126275, 282.2701138126275], [263.55578493587336, 263.55578493587336, 263.55578493587336, 263.55578493587336, 263.55578493587336, 263.55578493587336, 263.55578493587336, 263.55578493587336, 273.0996809716935, 263.55578493587336, 272.91166082596146, 263.55578493587336, 263.55578493587336, 263.55578493587336, 263.55578493587336, 263.55578493587336, 263.55578493587336, 263.55578493587336, 263.55578493587336, 263.55578493587336, 263.55578493587336, 263.55578493587336, 263.55578493587336, 263.55578493587336, 263.55578493587336, 263.55578493587336, 263.55578493587336, 263.55578493587336, 263.55578493587336, 263.55578493587336], [255.6029052874847, 256.0934748352325, 262.53307762834675, 255.58304877644989, 255.61783246356603, 256.20717613114954, 256.25265418082677, 255.5646570084813, 255.66066923066953, 255.73810430473597, 255.60349895668557, 256.0934748352325, 259.9906568228232, 255.6251507255922, 255.66066923066953, 256.184111416949, 256.12109154810105, 259.9906568228232, 256.17001047556556, 255.60068482810127, 255.66176807332872, 255.7334382392447, 256.25265418082677, 255.57187340263602, 255.57640791344883, 255.675830595038, 255.6121490963855, 261.864012888863, 255.6529206829007, 255.88130034940133], [248.60035345124658, 254.50681349313336, 249.6095887739673, 260.2950229928196, 248.52065163793011, 252.65927436810315, 253.76691205743103, 249.45123055784492, 253.62021835022804, 254.8304518966929, 252.70086861963503, 252.04416240738323, 248.1150374749771, 250.27496058547126, 252.61192749342297, 254.18819911569915, 260.6560832118901, 248.2482563948081, 248.37291738801954, 252.62090535178504, 250.25555055221642, 256.7774262948272, 248.52381700666604, 254.52997433360412, 248.5387723994386, 248.4462501822898, 248.21743096775919, 254.759158195848, 248.5494121506186, 248.3689308222014], [245.25708287960765, 242.50535079863866, 253.19425605681474, 251.30075595662782, 247.21100837819716, 244.39428000329653, 245.4423841629423, 247.89545929069973, 259.21993271601065, 254.1037246640401, 253.58495632248767, 250.70275124842428, 249.40887047702182, 242.58524271556504, 253.28784534319843, 253.4737316038061, 253.64414749706725, 247.1918753454107, 249.46558976809416, 244.1311738149396, 253.86947731760074, 242.56188660851606, 247.1029641301961, 246.98557562304094, 248.18550250312398, 249.41524979015955, 248.0255662888214, 247.40747303150982, 258.65499262032426, 253.73334934374915], [251.48565699918458, 240.47287667492813, 246.5292378596328, 245.7597369475201, 251.48250121785057, 251.97395974195268, 245.06406215142226, 251.85069055824704, 252.45471244909155, 244.8878134481917, 243.39752935161263, 246.01099937135047, 254.18952810981062, 247.40161808676206, 242.96255965426226, 252.19780360973567, 241.79508304158512, 246.75403819904128, 244.14899805817979, 248.76492684330253, 243.26993111390797, 238.49107469557205, 245.29808556319222, 242.8495912632603, 244.88562492023553, 246.59489072429, 242.77840265378234, 245.52515224139944, 244.78658781554276, 245.86538364273574], [245.88489596191584, 241.8674207644282, 250.5700827234412, 248.5589679539673, 240.18376168239485, 249.9969882633541, 244.4080494119052, 250.95902100826223, 244.63729564617782, 237.34883760402153, 246.28301879108955, 246.02444810404793, 246.75702006774827, 245.3773148406776, 246.03358528630943, 241.86201258409895, 245.30866877842317, 245.83119473159093, 250.50929316810817, 250.2061712274555, 249.52952391270364, 249.67711183406513, 242.89222555212632, 241.73768208227676, 251.20661283989895, 250.70160583263265, 246.40928608595087, 246.4899779577371, 243.64306189861153, 243.15973451467988], [244.5132692265389, 235.5191668581333, 247.95507214408508, 248.9092579974913, 243.21329703823716, 242.62465812488037, 243.3713098947044, 242.1100320753772, 243.31039405730834, 239.33037137097054, 235.63781816746183, 243.52050448107468, 244.09906081672875, 236.01707379544325, 242.91750709403087, 240.51595572212855, 242.6023355165655, 242.5813836945827, 240.24557052630297, 238.81365706520882, 248.7309308536521, 241.81888334736826, 237.9189130305382, 244.72157119412233, 244.07469489260285, 245.57848875050212, 245.8978595234061, 242.57693145097514, 245.4685784678624, 241.46225850442008], [242.12255024260583, 242.20993034381223, 234.4992111916047, 238.6602864222883, 243.37995624603636, 242.67386859096428, 241.51472237364948, 242.41051439060774, 243.7171594328924, 238.4145397685014, 240.78820652066213, 243.93674915213816, 239.66920173577606, 238.19538307008943, 233.37099424909368, 238.37615008846535, 240.13684724882935, 243.20481407308566, 236.46875212870842, 237.14258911152749, 243.10079931116482, 242.02612420876832, 241.51826501551918, 244.06673867541116, 233.05127191952408, 240.40689427591715, 247.1942056396282, 237.17004896358583, 241.34646818786993, 241.50414202457117], [233.07362880188052, 240.16463913227616, 243.79306654138043, 237.17019799376297, 240.19640922388768, 232.1387452632959, 238.74228626986698, 241.36717247175895, 240.67125807117645, 240.9682458877119, 238.83756652049593, 240.172845679874, 242.25940475698184, 240.30022046615116, 233.9120592525767, 244.74802443473806, 235.82718041647166, 241.46088228453604, 234.74803877412572, 243.81648976834956, 241.59979151353812, 236.96216586978912, 230.69600291802237, 241.2424827609262, 235.39318172904103, 239.37020396023877, 235.0932455843168, 237.93795273396205, 239.44983255565367, 242.22285746436967], [234.88094169104653, 235.2714158624681, 238.93212512637427, 235.6070051023983, 237.04351104575204, 238.98614048224678, 239.0189190040603, 235.97551859115288, 234.83158640947315, 234.83300756475074, 238.5260118478757, 232.5569100127053, 238.07206725492645, 238.4038114903271, 239.4192549932212, 240.61430040728146, 236.6520874576679, 240.62177015163226, 237.10623901031428, 241.71422348910812, 239.28083191544582, 237.9473792426381, 239.92813160350892, 235.88708149172953, 238.7169718736542, 234.58183340671167, 234.57739412027604, 240.1956168305686, 242.71314134235826, 234.99922277558673], [230.0505075041895, 235.75528092049575, 231.8813361647015, 235.18609777277956, 236.73320793887225, 235.44091160351573, 239.63777234647793, 232.05674926448594, 231.00111622757308, 231.41095538220043, 237.822742996411, 232.88484117820184, 232.93023110576476, 235.19292470038002, 238.8885999200805, 231.47215953933875, 234.9651971348742, 231.21590414994958, 237.81672364450299, 237.12437105892465, 235.01620610669826, 239.41213295992446, 233.90463536536592, 234.2147109624868, 236.89164701399756, 233.4065886268915, 233.32311052799525, 234.0716667962543, 232.36417215141927, 230.31618245400404], [237.4278827443069, 235.28954649528993, 231.80452165725487, 232.60025042742706, 231.4620212304113, 231.28528026473654, 231.67375559849978, 235.62934112357223, 231.93425303495377, 229.84608170744463, 232.50262166785063, 228.58581844370102, 229.67570941906786, 234.2479483062837, 228.24488143175174, 229.80885881657417, 238.35444912016828, 230.95550597268561, 229.25295154716156, 231.02562420404502, 233.1168300975032, 233.46180695542506, 234.39827942010342, 234.5469561941527, 232.11726506851258, 225.7618239874897, 230.55954539277846, 230.99224654825588, 233.76862443974088, 229.90861334627536], [231.260361811352, 233.2259953144755, 228.19628559558686, 232.67552408915452, 231.2173807129896, 234.86702150754306, 229.24134489393577, 232.7964647203101, 229.74461305801043, 230.63137534233405, 229.26211388669515, 229.16791558086317, 233.1473854936417, 228.01870773351686, 229.9181572662437, 228.83145477171425, 229.7307110345598, 234.52821146986693, 231.2895067311904, 231.3017306275891, 231.5155895711546, 229.3423742479466, 229.9276777001295, 232.14450320968476, 231.9098005068205, 230.16643111141445, 230.43615173904377, 233.8806135501573, 229.12256062427744, 231.58118431246922], [230.11834887288813, 227.42203494275418, 226.56502726983192, 229.74098850871377, 227.97135136740172, 228.66102713618196, 225.89998927752669, 229.99901129594744, 229.5533373393109, 229.5820561399504, 225.5769113477738, 231.57241344962185, 230.50648909282833, 228.19005460215894, 225.2522355644912, 228.7686808091871, 225.2941879391617, 228.4572528375892, 228.23670885277457, 229.55802922106685, 226.60871316784184, 230.0239555867101, 229.27058129074385, 231.56616702090355, 234.8001413841213, 225.62626753379246, 229.64482042099294, 229.8887653253323, 226.9434703233329, 227.06501513008877], [226.55892226008075, 226.03226135347467, 226.78981233848785, 226.9921505891255, 229.03915213694995, 227.18098774538436, 227.1972701640833, 223.68504682196914, 230.6272731795542, 225.0850083830289, 227.03541467386108, 226.98420873430968, 228.5092486394179, 228.3392257326889, 232.13143270572377, 224.6336718423183, 225.6506943251262, 230.0715249286784, 227.7276200980868, 224.8894043377388, 227.6177667332904, 230.95075650511458, 224.30807916810488, 227.08495118557062, 232.73659996601052, 227.76844343670467, 225.90046271674473, 225.38863036651355, 224.79988220873372, 224.68305905020193], [225.02444908597178, 225.56793003152407, 230.08948183406952, 226.2696299341724, 227.16811288137032, 222.9214833913658, 226.4480448648499, 227.42875958580922, 226.38972085285454, 223.89793982900477, 225.52542441642038, 228.31401365987423, 226.71707604848254, 225.91844149840134, 226.4265467420121, 224.0313476649122, 226.8311217051047, 224.21295176924562, 227.1305426772692, 223.98984667294758, 229.44028685927609, 226.01026396249878, 226.75444221574733, 224.5362877501468, 226.49945054415699, 227.12113623608815, 226.96004847389992, 227.04215238932338, 226.71663167339813, 228.73122563932017]]\n",
      "n-clusters 19\n"
     ]
    },
    {
     "name": "stdout",
     "output_type": "stream",
     "text": [
      "[[282.2701138126275, 282.2701138126275, 282.2701138126275, 282.2701138126275, 282.2701138126275, 282.2701138126275, 282.2701138126275, 282.2701138126275, 282.2701138126275, 282.2701138126275, 282.2701138126275, 282.2701138126275, 282.2701138126275, 282.2701138126275, 282.2701138126275, 282.2701138126275, 282.2701138126275, 282.2701138126275, 282.2701138126275, 282.2701138126275, 282.2701138126275, 282.2701138126275, 282.2701138126275, 282.2701138126275, 282.2701138126275, 282.2701138126275, 282.2701138126275, 282.2701138126275, 282.2701138126275, 282.2701138126275], [263.55578493587336, 263.55578493587336, 263.55578493587336, 263.55578493587336, 263.55578493587336, 263.55578493587336, 263.55578493587336, 263.55578493587336, 273.0996809716935, 263.55578493587336, 272.91166082596146, 263.55578493587336, 263.55578493587336, 263.55578493587336, 263.55578493587336, 263.55578493587336, 263.55578493587336, 263.55578493587336, 263.55578493587336, 263.55578493587336, 263.55578493587336, 263.55578493587336, 263.55578493587336, 263.55578493587336, 263.55578493587336, 263.55578493587336, 263.55578493587336, 263.55578493587336, 263.55578493587336, 263.55578493587336], [255.6029052874847, 256.0934748352325, 262.53307762834675, 255.58304877644989, 255.61783246356603, 256.20717613114954, 256.25265418082677, 255.5646570084813, 255.66066923066953, 255.73810430473597, 255.60349895668557, 256.0934748352325, 259.9906568228232, 255.6251507255922, 255.66066923066953, 256.184111416949, 256.12109154810105, 259.9906568228232, 256.17001047556556, 255.60068482810127, 255.66176807332872, 255.7334382392447, 256.25265418082677, 255.57187340263602, 255.57640791344883, 255.675830595038, 255.6121490963855, 261.864012888863, 255.6529206829007, 255.88130034940133], [248.60035345124658, 254.50681349313336, 249.6095887739673, 260.2950229928196, 248.52065163793011, 252.65927436810315, 253.76691205743103, 249.45123055784492, 253.62021835022804, 254.8304518966929, 252.70086861963503, 252.04416240738323, 248.1150374749771, 250.27496058547126, 252.61192749342297, 254.18819911569915, 260.6560832118901, 248.2482563948081, 248.37291738801954, 252.62090535178504, 250.25555055221642, 256.7774262948272, 248.52381700666604, 254.52997433360412, 248.5387723994386, 248.4462501822898, 248.21743096775919, 254.759158195848, 248.5494121506186, 248.3689308222014], [245.25708287960765, 242.50535079863866, 253.19425605681474, 251.30075595662782, 247.21100837819716, 244.39428000329653, 245.4423841629423, 247.89545929069973, 259.21993271601065, 254.1037246640401, 253.58495632248767, 250.70275124842428, 249.40887047702182, 242.58524271556504, 253.28784534319843, 253.4737316038061, 253.64414749706725, 247.1918753454107, 249.46558976809416, 244.1311738149396, 253.86947731760074, 242.56188660851606, 247.1029641301961, 246.98557562304094, 248.18550250312398, 249.41524979015955, 248.0255662888214, 247.40747303150982, 258.65499262032426, 253.73334934374915], [251.48565699918458, 240.47287667492813, 246.5292378596328, 245.7597369475201, 251.48250121785057, 251.97395974195268, 245.06406215142226, 251.85069055824704, 252.45471244909155, 244.8878134481917, 243.39752935161263, 246.01099937135047, 254.18952810981062, 247.40161808676206, 242.96255965426226, 252.19780360973567, 241.79508304158512, 246.75403819904128, 244.14899805817979, 248.76492684330253, 243.26993111390797, 238.49107469557205, 245.29808556319222, 242.8495912632603, 244.88562492023553, 246.59489072429, 242.77840265378234, 245.52515224139944, 244.78658781554276, 245.86538364273574], [245.88489596191584, 241.8674207644282, 250.5700827234412, 248.5589679539673, 240.18376168239485, 249.9969882633541, 244.4080494119052, 250.95902100826223, 244.63729564617782, 237.34883760402153, 246.28301879108955, 246.02444810404793, 246.75702006774827, 245.3773148406776, 246.03358528630943, 241.86201258409895, 245.30866877842317, 245.83119473159093, 250.50929316810817, 250.2061712274555, 249.52952391270364, 249.67711183406513, 242.89222555212632, 241.73768208227676, 251.20661283989895, 250.70160583263265, 246.40928608595087, 246.4899779577371, 243.64306189861153, 243.15973451467988], [244.5132692265389, 235.5191668581333, 247.95507214408508, 248.9092579974913, 243.21329703823716, 242.62465812488037, 243.3713098947044, 242.1100320753772, 243.31039405730834, 239.33037137097054, 235.63781816746183, 243.52050448107468, 244.09906081672875, 236.01707379544325, 242.91750709403087, 240.51595572212855, 242.6023355165655, 242.5813836945827, 240.24557052630297, 238.81365706520882, 248.7309308536521, 241.81888334736826, 237.9189130305382, 244.72157119412233, 244.07469489260285, 245.57848875050212, 245.8978595234061, 242.57693145097514, 245.4685784678624, 241.46225850442008], [242.12255024260583, 242.20993034381223, 234.4992111916047, 238.6602864222883, 243.37995624603636, 242.67386859096428, 241.51472237364948, 242.41051439060774, 243.7171594328924, 238.4145397685014, 240.78820652066213, 243.93674915213816, 239.66920173577606, 238.19538307008943, 233.37099424909368, 238.37615008846535, 240.13684724882935, 243.20481407308566, 236.46875212870842, 237.14258911152749, 243.10079931116482, 242.02612420876832, 241.51826501551918, 244.06673867541116, 233.05127191952408, 240.40689427591715, 247.1942056396282, 237.17004896358583, 241.34646818786993, 241.50414202457117], [233.07362880188052, 240.16463913227616, 243.79306654138043, 237.17019799376297, 240.19640922388768, 232.1387452632959, 238.74228626986698, 241.36717247175895, 240.67125807117645, 240.9682458877119, 238.83756652049593, 240.172845679874, 242.25940475698184, 240.30022046615116, 233.9120592525767, 244.74802443473806, 235.82718041647166, 241.46088228453604, 234.74803877412572, 243.81648976834956, 241.59979151353812, 236.96216586978912, 230.69600291802237, 241.2424827609262, 235.39318172904103, 239.37020396023877, 235.0932455843168, 237.93795273396205, 239.44983255565367, 242.22285746436967], [234.88094169104653, 235.2714158624681, 238.93212512637427, 235.6070051023983, 237.04351104575204, 238.98614048224678, 239.0189190040603, 235.97551859115288, 234.83158640947315, 234.83300756475074, 238.5260118478757, 232.5569100127053, 238.07206725492645, 238.4038114903271, 239.4192549932212, 240.61430040728146, 236.6520874576679, 240.62177015163226, 237.10623901031428, 241.71422348910812, 239.28083191544582, 237.9473792426381, 239.92813160350892, 235.88708149172953, 238.7169718736542, 234.58183340671167, 234.57739412027604, 240.1956168305686, 242.71314134235826, 234.99922277558673], [230.0505075041895, 235.75528092049575, 231.8813361647015, 235.18609777277956, 236.73320793887225, 235.44091160351573, 239.63777234647793, 232.05674926448594, 231.00111622757308, 231.41095538220043, 237.822742996411, 232.88484117820184, 232.93023110576476, 235.19292470038002, 238.8885999200805, 231.47215953933875, 234.9651971348742, 231.21590414994958, 237.81672364450299, 237.12437105892465, 235.01620610669826, 239.41213295992446, 233.90463536536592, 234.2147109624868, 236.89164701399756, 233.4065886268915, 233.32311052799525, 234.0716667962543, 232.36417215141927, 230.31618245400404], [237.4278827443069, 235.28954649528993, 231.80452165725487, 232.60025042742706, 231.4620212304113, 231.28528026473654, 231.67375559849978, 235.62934112357223, 231.93425303495377, 229.84608170744463, 232.50262166785063, 228.58581844370102, 229.67570941906786, 234.2479483062837, 228.24488143175174, 229.80885881657417, 238.35444912016828, 230.95550597268561, 229.25295154716156, 231.02562420404502, 233.1168300975032, 233.46180695542506, 234.39827942010342, 234.5469561941527, 232.11726506851258, 225.7618239874897, 230.55954539277846, 230.99224654825588, 233.76862443974088, 229.90861334627536], [231.260361811352, 233.2259953144755, 228.19628559558686, 232.67552408915452, 231.2173807129896, 234.86702150754306, 229.24134489393577, 232.7964647203101, 229.74461305801043, 230.63137534233405, 229.26211388669515, 229.16791558086317, 233.1473854936417, 228.01870773351686, 229.9181572662437, 228.83145477171425, 229.7307110345598, 234.52821146986693, 231.2895067311904, 231.3017306275891, 231.5155895711546, 229.3423742479466, 229.9276777001295, 232.14450320968476, 231.9098005068205, 230.16643111141445, 230.43615173904377, 233.8806135501573, 229.12256062427744, 231.58118431246922], [230.11834887288813, 227.42203494275418, 226.56502726983192, 229.74098850871377, 227.97135136740172, 228.66102713618196, 225.89998927752669, 229.99901129594744, 229.5533373393109, 229.5820561399504, 225.5769113477738, 231.57241344962185, 230.50648909282833, 228.19005460215894, 225.2522355644912, 228.7686808091871, 225.2941879391617, 228.4572528375892, 228.23670885277457, 229.55802922106685, 226.60871316784184, 230.0239555867101, 229.27058129074385, 231.56616702090355, 234.8001413841213, 225.62626753379246, 229.64482042099294, 229.8887653253323, 226.9434703233329, 227.06501513008877], [226.55892226008075, 226.03226135347467, 226.78981233848785, 226.9921505891255, 229.03915213694995, 227.18098774538436, 227.1972701640833, 223.68504682196914, 230.6272731795542, 225.0850083830289, 227.03541467386108, 226.98420873430968, 228.5092486394179, 228.3392257326889, 232.13143270572377, 224.6336718423183, 225.6506943251262, 230.0715249286784, 227.7276200980868, 224.8894043377388, 227.6177667332904, 230.95075650511458, 224.30807916810488, 227.08495118557062, 232.73659996601052, 227.76844343670467, 225.90046271674473, 225.38863036651355, 224.79988220873372, 224.68305905020193], [225.02444908597178, 225.56793003152407, 230.08948183406952, 226.2696299341724, 227.16811288137032, 222.9214833913658, 226.4480448648499, 227.42875958580922, 226.38972085285454, 223.89793982900477, 225.52542441642038, 228.31401365987423, 226.71707604848254, 225.91844149840134, 226.4265467420121, 224.0313476649122, 226.8311217051047, 224.21295176924562, 227.1305426772692, 223.98984667294758, 229.44028685927609, 226.01026396249878, 226.75444221574733, 224.5362877501468, 226.49945054415699, 227.12113623608815, 226.96004847389992, 227.04215238932338, 226.71663167339813, 228.73122563932017], [228.17894738933583, 220.59386533155592, 224.53259256616394, 225.04007071843571, 223.8913091147473, 225.06334116819656, 221.90159942943376, 224.37686948607896, 225.21734358022272, 225.17092054154148, 224.1111875447348, 225.83796375471218, 222.42371398822846, 225.13392093932356, 223.5010777476097, 221.89332704247437, 221.3414773754374, 224.63288798471152, 223.5837918533595, 224.4739672598941, 222.59553886280906, 223.05791854324764, 226.1978882903991, 224.01594154582827, 225.21249839135328, 223.5065791030592, 222.41054518856643, 223.6144513493186, 224.41994336797842, 221.46378016122947]]\n"
     ]
    }
   ],
   "source": [
    "inertia_scores = []\n",
    "n_cluster_values = list(range(2, 20))\n",
    "for n_clusters in n_cluster_values:\n",
    "    cur_inertia_scores = []\n",
    "    print('n-clusters',n_clusters)\n",
    "    X = TfidfVectorizer(max_df=0.4).fit_transform(documents)\n",
    "    for i in range(30):\n",
    "        km = KMeans(n_clusters=n_clusters).fit(X)\n",
    "        cur_inertia_scores.append(km.inertia_)\n",
    "    inertia_scores.append(cur_inertia_scores)\n",
    "    print(inertia_scores)\n",
    "inertia_scores = np.array(inertia_scores)"
   ]
  },
  {
   "cell_type": "code",
   "execution_count": 16,
   "metadata": {},
   "outputs": [
    {
     "data": {
      "image/png": "[encoded data removed]",
      "text/plain": [
       "<matplotlib.figure.Figure at 0xb40b787160>"
      ]
     },
     "metadata": {},
     "output_type": "display_data"
    }
   ],
   "source": [
    "%matplotlib inline\n",
    "from matplotlib import pyplot as plt\n",
    "\n",
    "inertia_means = np.mean(inertia_scores, axis=1)\n",
    "inertia_stderr = np.std(inertia_scores, axis=1)\n",
    "\n",
    "fig = plt.figure(figsize=(40,20))\n",
    "plt.errorbar(n_cluster_values, inertia_means, inertia_stderr, color='green')\n",
    "plt.show()"
   ]
  },
  {
   "cell_type": "code",
   "execution_count": 17,
   "metadata": {},
   "outputs": [
    {
     "data": {
      "text/plain": [
       "Pipeline(memory=None,\n",
       "     steps=[('feature_extraction', TfidfVectorizer(analyzer='word', binary=False, decode_error='strict',\n",
       "        dtype=<class 'numpy.int64'>, encoding='utf-8', input='content',\n",
       "        lowercase=True, max_df=0.4, max_features=None, min_df=1,\n",
       "        ngram_range=(1, 1), norm='l2', preprocessor=None, smoot...6, n_init=10, n_jobs=1, precompute_distances='auto',\n",
       "    random_state=None, tol=0.0001, verbose=0))])"
      ]
     },
     "execution_count": 17,
     "metadata": {},
     "output_type": "execute_result"
    }
   ],
   "source": [
    "n_clusters = 6\n",
    "\n",
    "pipeline = Pipeline([('feature_extraction', TfidfVectorizer(max_df=0.4)),\n",
    "                     ('clusterer', KMeans(n_clusters=n_clusters))\n",
    "                     ])\n",
    "pipeline.fit(documents)"
   ]
  },
  {
   "cell_type": "code",
   "execution_count": 18,
   "metadata": {},
   "outputs": [],
   "source": [
    "labels = pipeline.predict(documents)"
   ]
  },
  {
   "cell_type": "code",
   "execution_count": 19,
   "metadata": {},
   "outputs": [
    {
     "name": "stdout",
     "output_type": "stream",
     "text": [
      "Cluster 0 contains 139 samples\n",
      "  Most important terms\n",
      "  1) bot (score: 0.3156)\n",
      "  2) requests (score: 0.3137)\n",
      "  3) string (score: 0.3127)\n",
      "  4) agent (score: 0.3089)\n",
      "  5) user (score: 0.3052)\n",
      "\n",
      "Cluster 1 contains 12 samples\n",
      "  Most important terms\n",
      "  1) business (score: 0.0837)\n",
      "  2) missile (score: 0.0685)\n",
      "  3) has (score: 0.0609)\n",
      "  4) information (score: 0.0585)\n",
      "  5) korea (score: 0.0551)\n",
      "\n",
      "Cluster 2 contains 220 samples\n",
      "  Most important terms\n",
      "  1) they (score: 0.0247)\n",
      "  2) was (score: 0.0226)\n",
      "  3) said (score: 0.0215)\n",
      "  4) ï¼ (score: 0.0208)\n",
      "  5) he (score: 0.0199)\n",
      "\n",
      "Cluster 3 contains 20 samples\n",
      "  Most important terms\n",
      "  1) ½ï (score: 0.9688)\n",
      "  2) ½xyz (score: 0.0234)\n",
      "  3) ½yï (score: 0.0156)\n",
      "  4) desc (score: 0.0156)\n",
      "  5) appl (score: 0.0156)\n",
      "\n",
      "Cluster 4 contains 70 samples\n",
      "  Most important terms\n",
      "  1) xi (score: 0.1873)\n",
      "  2) party (score: 0.1660)\n",
      "  3) his (score: 0.0848)\n",
      "  4) he (score: 0.0789)\n",
      "  5) has (score: 0.0691)\n",
      "\n",
      "Cluster 5 contains 38 samples\n",
      "  Most important terms\n",
      "  1) or (score: 0.1258)\n",
      "  2) they (score: 0.1057)\n",
      "  3) english (score: 0.0961)\n",
      "  4) please (score: 0.0810)\n",
      "  5) 00 (score: 0.0760)\n",
      "\n"
     ]
    }
   ],
   "source": [
    "c = Counter(labels)\n",
    "\n",
    "terms = pipeline.named_steps['feature_extraction'].get_feature_names()\n",
    "\n",
    "for cluster_number in range(n_clusters):\n",
    "    print(\"Cluster {} contains {} samples\".format(cluster_number, c[cluster_number]))\n",
    "    print(\"  Most important terms\")\n",
    "    centroid = pipeline.named_steps['clusterer'].cluster_centers_[cluster_number]\n",
    "    most_important = centroid.argsort()\n",
    "    for i in range(5):\n",
    "        term_index = most_important[-(i+1)]\n",
    "        print(\"  {0}) {1} (score: {2:.4f})\".format(i+1, terms[term_index], centroid[term_index]))\n",
    "    print()"
   ]
  },
  {
   "cell_type": "code",
   "execution_count": 20,
   "metadata": {},
   "outputs": [
    {
     "data": {
      "text/plain": [
       "0.36704622527086234"
      ]
     },
     "execution_count": 20,
     "metadata": {},
     "output_type": "execute_result"
    }
   ],
   "source": [
    "from sklearn.metrics import silhouette_score\n",
    "X = pipeline.named_steps['feature_extraction'].transform(documents)\n",
    "silhouette_score(X, labels)"
   ]
  },
  {
   "cell_type": "code",
   "execution_count": 21,
   "metadata": {},
   "outputs": [
    {
     "data": {
      "text/plain": [
       "19092"
      ]
     },
     "execution_count": 21,
     "metadata": {},
     "output_type": "execute_result"
    }
   ],
   "source": [
    "len(terms)"
   ]
  },
  {
   "cell_type": "code",
   "execution_count": 22,
   "metadata": {},
   "outputs": [],
   "source": [
    "Y = pipeline.transform(documents) "
   ]
  },
  {
   "cell_type": "code",
   "execution_count": 23,
   "metadata": {},
   "outputs": [],
   "source": [
    "km = KMeans(n_clusters=n_clusters)\n",
    "labels = km.fit_predict(Y)"
   ]
  },
  {
   "cell_type": "code",
   "execution_count": 24,
   "metadata": {},
   "outputs": [
    {
     "name": "stdout",
     "output_type": "stream",
     "text": [
      "Cluster 0 contains 139 samples\n",
      "Cluster 1 contains 72 samples\n",
      "Cluster 2 contains 62 samples\n",
      "Cluster 3 contains 20 samples\n",
      "Cluster 4 contains 163 samples\n",
      "Cluster 5 contains 43 samples\n"
     ]
    }
   ],
   "source": [
    "c = Counter(labels)\n",
    "for cluster_number in range(n_clusters):\n",
    "    print(\"Cluster {} contains {} samples\".format(cluster_number, c[cluster_number]))"
   ]
  },
  {
   "cell_type": "code",
   "execution_count": 25,
   "metadata": {},
   "outputs": [
    {
     "data": {
      "text/plain": [
       "0.73897399387706708"
      ]
     },
     "execution_count": 25,
     "metadata": {},
     "output_type": "execute_result"
    }
   ],
   "source": [
    "silhouette_score(Y, labels)"
   ]
  },
  {
   "cell_type": "code",
   "execution_count": 26,
   "metadata": {},
   "outputs": [
    {
     "data": {
      "text/plain": [
       "(499, 6)"
      ]
     },
     "execution_count": 26,
     "metadata": {},
     "output_type": "execute_result"
    }
   ],
   "source": [
    "Y.shape"
   ]
  },
  {
   "cell_type": "markdown",
   "metadata": {},
   "source": [
    "# Evidence Accumulation Clustering"
   ]
  },
  {
   "cell_type": "code",
   "execution_count": 27,
   "metadata": {},
   "outputs": [],
   "source": [
    "from scipy.sparse import csr_matrix\n",
    "\n",
    "\n",
    "def create_coassociation_matrix(labels):\n",
    "    rows = []\n",
    "    cols = []\n",
    "    unique_labels = set(labels)\n",
    "    for label in unique_labels:\n",
    "        indices = np.where(labels == label)[0]\n",
    "        for index1 in indices:\n",
    "            for index2 in indices:\n",
    "                rows.append(index1)\n",
    "                cols.append(index2)\n",
    "    data = np.ones((len(rows),))\n",
    "    return csr_matrix((data, (rows, cols)), dtype='float')\n"
   ]
  },
  {
   "cell_type": "code",
   "execution_count": 28,
   "metadata": {},
   "outputs": [],
   "source": [
    "C = create_coassociation_matrix(labels)"
   ]
  },
  {
   "cell_type": "code",
   "execution_count": 29,
   "metadata": {},
   "outputs": [
    {
     "data": {
      "text/plain": [
       "<499x499 sparse matrix of type '<class 'numpy.float64'>'\n",
       "\twith 57167 stored elements in Compressed Sparse Row format>"
      ]
     },
     "execution_count": 29,
     "metadata": {},
     "output_type": "execute_result"
    }
   ],
   "source": [
    "C"
   ]
  },
  {
   "cell_type": "code",
   "execution_count": 30,
   "metadata": {},
   "outputs": [
    {
     "data": {
      "text/plain": [
       "((499, 499), 249001)"
      ]
     },
     "execution_count": 30,
     "metadata": {},
     "output_type": "execute_result"
    }
   ],
   "source": [
    "C.shape, C.shape[0] * C.shape[1]"
   ]
  },
  {
   "cell_type": "code",
   "execution_count": 31,
   "metadata": {},
   "outputs": [
    {
     "data": {
      "text/plain": [
       "0.22958542335171345"
      ]
     },
     "execution_count": 31,
     "metadata": {},
     "output_type": "execute_result"
    }
   ],
   "source": [
    "len(C.nonzero()[0]) / (C.shape[0] * C.shape[1])"
   ]
  },
  {
   "cell_type": "code",
   "execution_count": 32,
   "metadata": {},
   "outputs": [],
   "source": [
    "from scipy.sparse.csgraph import minimum_spanning_tree"
   ]
  },
  {
   "cell_type": "code",
   "execution_count": 33,
   "metadata": {},
   "outputs": [],
   "source": [
    "mst = minimum_spanning_tree(C)"
   ]
  },
  {
   "cell_type": "code",
   "execution_count": 34,
   "metadata": {},
   "outputs": [
    {
     "data": {
      "text/plain": [
       "<499x499 sparse matrix of type '<class 'numpy.float64'>'\n",
       "\twith 493 stored elements in Compressed Sparse Row format>"
      ]
     },
     "execution_count": 34,
     "metadata": {},
     "output_type": "execute_result"
    }
   ],
   "source": [
    "mst"
   ]
  },
  {
   "cell_type": "code",
   "execution_count": 35,
   "metadata": {},
   "outputs": [],
   "source": [
    "pipeline = Pipeline([('feature_extraction', TfidfVectorizer(max_df=0.4)),\n",
    "                     ('clusterer', KMeans(n_clusters=3))\n",
    "                     ])\n",
    "pipeline.fit(documents)\n",
    "labels2 = pipeline.predict(documents)\n",
    "C2 = create_coassociation_matrix(labels2)"
   ]
  },
  {
   "cell_type": "code",
   "execution_count": 36,
   "metadata": {},
   "outputs": [
    {
     "data": {
      "text/plain": [
       "matrix([[ 1. ,  0. ,  1. , ...,  0. ,  0. ,  0. ],\n",
       "        [ 0. ,  1. ,  0. , ...,  0. ,  0.5,  0.5],\n",
       "        [ 1. ,  0. ,  1. , ...,  0. ,  0. ,  0. ],\n",
       "        ..., \n",
       "        [ 0. ,  0. ,  0. , ...,  1. ,  0. ,  0. ],\n",
       "        [ 0. ,  0.5,  0. , ...,  0. ,  1. ,  0.5],\n",
       "        [ 0. ,  0.5,  0. , ...,  0. ,  0.5,  1. ]])"
      ]
     },
     "execution_count": 36,
     "metadata": {},
     "output_type": "execute_result"
    }
   ],
   "source": [
    "C_sum = (C + C2) / 2\n",
    "#C_sum.data = C_sum.data\n",
    "C_sum.todense()"
   ]
  },
  {
   "cell_type": "code",
   "execution_count": 37,
   "metadata": {},
   "outputs": [
    {
     "data": {
      "text/plain": [
       "<499x499 sparse matrix of type '<class 'numpy.float64'>'\n",
       "\twith 496 stored elements in Compressed Sparse Row format>"
      ]
     },
     "execution_count": 37,
     "metadata": {},
     "output_type": "execute_result"
    }
   ],
   "source": [
    "mst = minimum_spanning_tree(-C_sum)\n",
    "mst"
   ]
  },
  {
   "cell_type": "code",
   "execution_count": 38,
   "metadata": {},
   "outputs": [
    {
     "data": {
      "text/plain": [
       "<499x499 sparse matrix of type '<class 'numpy.float64'>'\n",
       "\twith 493 stored elements in Compressed Sparse Row format>"
      ]
     },
     "execution_count": 38,
     "metadata": {},
     "output_type": "execute_result"
    }
   ],
   "source": [
    "#mst.data[mst.data < 1] = 0\n",
    "mst.data[mst.data > -1] = 0\n",
    "mst.eliminate_zeros()\n",
    "mst"
   ]
  },
  {
   "cell_type": "code",
   "execution_count": 39,
   "metadata": {},
   "outputs": [],
   "source": [
    "from scipy.sparse.csgraph import connected_components\n",
    "number_of_clusters, labels = connected_components(mst)"
   ]
  },
  {
   "cell_type": "code",
   "execution_count": 40,
   "metadata": {},
   "outputs": [],
   "source": [
    "\n",
    "from sklearn.base import BaseEstimator, ClusterMixin\n",
    "\n",
    "class EAC(BaseEstimator, ClusterMixin):\n",
    "    def __init__(self, n_clusterings=10, cut_threshold=0.5, n_clusters_range=(3, 10)):\n",
    "        self.n_clusterings = n_clusterings\n",
    "        self.cut_threshold = cut_threshold\n",
    "        self.n_clusters_range = n_clusters_range\n",
    "    \n",
    "    def fit(self, X, y=None):\n",
    "        C = sum((create_coassociation_matrix(self._single_clustering(X))\n",
    "                 for i in range(self.n_clusterings)))\n",
    "        mst = minimum_spanning_tree(-C)\n",
    "        mst.data[mst.data > -self.cut_threshold] = 0\n",
    "        mst.eliminate_zeros()\n",
    "        self.n_components, self.labels_ = connected_components(mst)\n",
    "        return self\n",
    "    \n",
    "    def _single_clustering(self, X):\n",
    "        n_clusters = np.random.randint(*self.n_clusters_range)\n",
    "        km = KMeans(n_clusters=n_clusters)\n",
    "        return km.fit_predict(X)\n",
    "    \n",
    "    def fit_predict(self, X):\n",
    "        self.fit(X)\n",
    "        return self.labels_"
   ]
  },
  {
   "cell_type": "code",
   "execution_count": 41,
   "metadata": {},
   "outputs": [],
   "source": [
    "pipeline = Pipeline([('feature_extraction', TfidfVectorizer(max_df=0.4)),\n",
    "                     ('clusterer', EAC())\n",
    "                     ])"
   ]
  },
  {
   "cell_type": "code",
   "execution_count": 42,
   "metadata": {},
   "outputs": [
    {
     "data": {
      "text/plain": [
       "Pipeline(memory=None,\n",
       "     steps=[('feature_extraction', TfidfVectorizer(analyzer='word', binary=False, decode_error='strict',\n",
       "        dtype=<class 'numpy.int64'>, encoding='utf-8', input='content',\n",
       "        lowercase=True, max_df=0.4, max_features=None, min_df=1,\n",
       "        ngram_range=(1, 1), norm='l2', preprocessor=None, smoot...ocabulary=None)), ('clusterer', EAC(cut_threshold=0.5, n_clusterings=10, n_clusters_range=(3, 10)))])"
      ]
     },
     "execution_count": 42,
     "metadata": {},
     "output_type": "execute_result"
    }
   ],
   "source": [
    "pipeline.fit(documents)"
   ]
  },
  {
   "cell_type": "code",
   "execution_count": 43,
   "metadata": {},
   "outputs": [],
   "source": [
    "labels = pipeline.named_steps['clusterer'].labels_"
   ]
  },
  {
   "cell_type": "code",
   "execution_count": 44,
   "metadata": {},
   "outputs": [],
   "source": [
    "c = Counter(labels)"
   ]
  },
  {
   "cell_type": "code",
   "execution_count": 45,
   "metadata": {},
   "outputs": [
    {
     "data": {
      "text/plain": [
       "Counter({0: 139, 1: 340, 2: 20})"
      ]
     },
     "execution_count": 45,
     "metadata": {},
     "output_type": "execute_result"
    }
   ],
   "source": [
    "c"
   ]
  },
  {
   "cell_type": "markdown",
   "metadata": {},
   "source": [
    "# Online Learning"
   ]
  },
  {
   "cell_type": "code",
   "execution_count": 46,
   "metadata": {},
   "outputs": [],
   "source": [
    "from sklearn.cluster import MiniBatchKMeans"
   ]
  },
  {
   "cell_type": "code",
   "execution_count": 47,
   "metadata": {},
   "outputs": [],
   "source": [
    "vec = TfidfVectorizer(max_df=0.4)"
   ]
  },
  {
   "cell_type": "code",
   "execution_count": 48,
   "metadata": {},
   "outputs": [],
   "source": [
    "X = vec.fit_transform(documents)"
   ]
  },
  {
   "cell_type": "code",
   "execution_count": 49,
   "metadata": {},
   "outputs": [],
   "source": [
    "mbkm = MiniBatchKMeans(random_state=14, n_clusters=3)\n",
    "batch_size = 500\n",
    "\n",
    "indices = np.arange(0, X.shape[0])\n",
    "for iteration in range(100):\n",
    "    sample = np.random.choice(indices, size=batch_size, replace=True)\n",
    "    mbkm.partial_fit(X[sample[:batch_size]])"
   ]
  },
  {
   "cell_type": "code",
   "execution_count": 50,
   "metadata": {},
   "outputs": [],
   "source": [
    "mbkm = MiniBatchKMeans(random_state=14, n_clusters=3)\n",
    "batch_size = 10\n",
    "\n",
    "for iteration in range(int(X.shape[0] / batch_size)):\n",
    "    start = batch_size * iteration\n",
    "    end = batch_size * (iteration + 1)\n",
    "    mbkm.partial_fit(X[start:end])"
   ]
  },
  {
   "cell_type": "code",
   "execution_count": 51,
   "metadata": {},
   "outputs": [
    {
     "data": {
      "text/plain": [
       "2.9986936155124537"
      ]
     },
     "execution_count": 51,
     "metadata": {},
     "output_type": "execute_result"
    }
   ],
   "source": [
    "labels_mbkm = mbkm.predict(X)\n",
    "mbkm.inertia_"
   ]
  },
  {
   "cell_type": "code",
   "execution_count": 52,
   "metadata": {},
   "outputs": [
    {
     "data": {
      "text/plain": [
       "263.55578493587336"
      ]
     },
     "execution_count": 52,
     "metadata": {},
     "output_type": "execute_result"
    }
   ],
   "source": [
    "km = KMeans(random_state=14, n_clusters=3)\n",
    "labels_km = km.fit_predict(X)\n",
    "km.inertia_"
   ]
  },
  {
   "cell_type": "code",
   "execution_count": 53,
   "metadata": {},
   "outputs": [],
   "source": [
    "from sklearn.metrics import adjusted_mutual_info_score, homogeneity_score\n",
    "from sklearn.metrics import mutual_info_score, v_measure_score"
   ]
  },
  {
   "cell_type": "code",
   "execution_count": 54,
   "metadata": {},
   "outputs": [
    {
     "data": {
      "text/plain": [
       "0.88430757858066367"
      ]
     },
     "execution_count": 54,
     "metadata": {},
     "output_type": "execute_result"
    }
   ],
   "source": [
    "v_measure_score(labels_mbkm, labels_km)"
   ]
  },
  {
   "cell_type": "code",
   "execution_count": 55,
   "metadata": {},
   "outputs": [
    {
     "data": {
      "text/plain": [
       "(499, 19092)"
      ]
     },
     "execution_count": 55,
     "metadata": {},
     "output_type": "execute_result"
    }
   ],
   "source": [
    "X.shape"
   ]
  },
  {
   "cell_type": "code",
   "execution_count": 56,
   "metadata": {},
   "outputs": [
    {
     "data": {
      "text/plain": [
       "array([0, 2, 0, 2, 2, 2, 2, 2, 2, 0, 2, 2, 0, 2, 2, 2, 0, 2, 2, 0, 2, 0, 0,\n",
       "       2, 0, 2, 2, 0, 2, 2, 2, 0, 2, 2, 2, 2, 0, 0, 2, 2, 2, 2, 2, 2, 2, 0,\n",
       "       2, 2, 0, 2, 2, 2, 2, 2, 2, 2, 2, 0, 2, 2, 2, 2, 2, 2, 0, 2, 2, 2, 0,\n",
       "       0, 2, 2, 2, 2, 2, 0, 2, 2, 2, 0, 2, 2, 2, 2, 2, 2, 2, 0, 0, 2, 2, 0,\n",
       "       0, 2, 2, 2, 2, 2, 2, 0, 0, 2, 2, 2, 2, 2, 2, 2, 2, 2, 0, 0, 2, 2, 2,\n",
       "       2, 2, 0, 2, 2, 2, 0, 2, 2, 0, 2, 0, 2, 2, 2, 2, 2, 2, 2, 0, 0, 0, 2,\n",
       "       0, 2, 2, 2, 0, 2, 2, 2, 2, 2, 0, 2, 0, 0, 2, 2, 2, 2, 2, 0, 2, 2, 2,\n",
       "       2, 2, 2, 2, 2, 2, 2, 2, 0, 0, 0, 0, 2, 2, 0, 2, 2, 2, 2, 0, 2, 2, 2,\n",
       "       0, 2, 2, 2, 0, 2, 2, 2, 0, 2, 2, 2, 2, 2, 2, 0, 2, 2, 2, 2, 2, 2, 2,\n",
       "       0, 0, 2, 0, 2, 2, 2, 0, 2, 2, 2, 2, 2, 2, 2, 2, 2, 2, 2, 0, 2, 2, 2,\n",
       "       0, 2, 0, 2, 0, 2, 0, 0, 0, 2, 2, 2, 2, 0, 0, 0, 2, 2, 0, 2, 0, 2, 2,\n",
       "       2, 0, 2, 2, 2, 0, 2, 0, 2, 2, 0, 2, 2, 2, 2, 2, 0, 0, 2, 2, 0, 0, 0,\n",
       "       2, 2, 2, 2, 0, 0, 2, 2, 2, 2, 2, 2, 0, 2, 2, 2, 2, 2, 2, 2, 2, 2, 2,\n",
       "       2, 0, 2, 0, 2, 2, 2, 2, 0, 0, 2, 2, 2, 2, 0, 2, 0, 0, 2, 0, 2, 0, 0,\n",
       "       0, 2, 0, 2, 2, 0, 2, 2, 2, 2, 2, 0, 2, 0, 2, 0, 2, 2, 2, 2, 2, 2, 2,\n",
       "       2, 2, 2, 2, 2, 2, 2, 2, 2, 2, 0, 2, 0, 2, 2, 0, 2, 2, 0, 2, 2, 2, 0,\n",
       "       2, 2, 2, 2, 2, 2, 2, 0, 0, 2, 2, 0, 2, 2, 2, 0, 0, 2, 2, 0, 0, 2, 2,\n",
       "       2, 2, 2, 2, 0, 0, 0, 2, 2, 0, 2, 2, 2, 0, 2, 0, 0, 0, 2, 2, 0, 0, 2,\n",
       "       2, 2, 0, 2, 2, 2, 2, 2, 0, 2, 2, 2, 2, 2, 2, 0, 0, 2, 2, 2, 2, 2, 0,\n",
       "       2, 2, 2, 2, 2, 2, 2, 2, 2, 0, 2, 2, 2, 0, 2, 0, 2, 2, 0, 2, 2, 2, 0,\n",
       "       2, 0, 2, 2, 2, 2, 0, 2, 2, 2, 2, 2, 2, 2, 2, 2, 0, 2, 2, 0, 0, 0, 2,\n",
       "       2, 2, 0, 2, 0, 2, 0, 2, 0, 2, 0, 2, 2, 2, 2, 2])"
      ]
     },
     "execution_count": 56,
     "metadata": {},
     "output_type": "execute_result"
    }
   ],
   "source": [
    "labels_mbkm"
   ]
  },
  {
   "cell_type": "code",
   "execution_count": 57,
   "metadata": {},
   "outputs": [],
   "source": [
    "from sklearn.feature_extraction.text import HashingVectorizer"
   ]
  },
  {
   "cell_type": "code",
   "execution_count": 58,
   "metadata": {},
   "outputs": [],
   "source": [
    "class PartialFitPipeline(Pipeline):\n",
    "    def partial_fit(self, X, y=None):\n",
    "        Xt = X\n",
    "        for name, transform in self.steps[:-1]:\n",
    "            Xt = transform.transform(Xt)\n",
    "        return self.steps[-1][1].partial_fit(Xt, y=y)"
   ]
  },
  {
   "cell_type": "code",
   "execution_count": 59,
   "metadata": {},
   "outputs": [],
   "source": [
    "pipeline = PartialFitPipeline([('feature_extraction', HashingVectorizer()),\n",
    "                             ('clusterer', MiniBatchKMeans(random_state=14, n_clusters=3))\n",
    "                             ])"
   ]
  },
  {
   "cell_type": "code",
   "execution_count": 60,
   "metadata": {},
   "outputs": [],
   "source": [
    "batch_size = 10\n",
    "\n",
    "for iteration in range(int(len(documents) / batch_size)):\n",
    "    start = batch_size * iteration\n",
    "    end = batch_size * (iteration + 1)\n",
    "    pipeline.partial_fit(documents[start:end])"
   ]
  },
  {
   "cell_type": "code",
   "execution_count": 61,
   "metadata": {},
   "outputs": [
    {
     "data": {
      "text/plain": [
       "array([2, 0, 2, 0, 1, 0, 1, 0, 0, 2, 1, 1, 2, 0, 1, 0, 2, 1, 0, 2, 1, 2, 2,\n",
       "       0, 2, 0, 0, 2, 0, 0, 0, 2, 1, 0, 0, 0, 2, 2, 0, 1, 0, 0, 0, 0, 0, 2,\n",
       "       1, 0, 2, 0, 0, 1, 0, 0, 1, 0, 0, 2, 0, 0, 0, 1, 1, 1, 2, 1, 0, 0, 2,\n",
       "       2, 1, 1, 0, 1, 0, 2, 1, 0, 0, 2, 0, 0, 0, 0, 1, 0, 0, 2, 2, 0, 0, 2,\n",
       "       2, 1, 1, 0, 1, 0, 0, 2, 2, 0, 0, 0, 1, 1, 1, 1, 0, 0, 2, 2, 0, 1, 0,\n",
       "       1, 0, 2, 1, 0, 0, 2, 1, 0, 2, 1, 2, 0, 1, 1, 1, 0, 0, 0, 2, 2, 2, 0,\n",
       "       2, 0, 0, 0, 2, 0, 0, 0, 0, 0, 2, 0, 2, 2, 1, 1, 1, 0, 0, 2, 0, 0, 0,\n",
       "       0, 0, 0, 0, 0, 1, 0, 0, 2, 2, 2, 2, 0, 1, 2, 0, 1, 1, 1, 2, 0, 0, 0,\n",
       "       2, 0, 0, 1, 2, 1, 1, 0, 2, 0, 0, 1, 1, 0, 1, 2, 1, 0, 1, 0, 1, 0, 0,\n",
       "       2, 2, 1, 2, 1, 0, 0, 2, 1, 0, 0, 0, 0, 0, 0, 0, 1, 0, 1, 2, 0, 1, 1,\n",
       "       2, 0, 2, 1, 2, 1, 2, 2, 2, 0, 1, 0, 0, 2, 2, 2, 0, 1, 2, 0, 2, 1, 0,\n",
       "       1, 2, 0, 0, 0, 2, 0, 2, 0, 0, 2, 0, 0, 0, 0, 1, 2, 2, 1, 1, 2, 2, 2,\n",
       "       0, 0, 0, 0, 2, 2, 1, 0, 0, 0, 0, 0, 2, 1, 0, 1, 0, 0, 0, 0, 0, 0, 0,\n",
       "       0, 2, 0, 2, 1, 0, 0, 0, 2, 2, 1, 1, 0, 0, 2, 1, 2, 2, 0, 2, 0, 2, 2,\n",
       "       2, 0, 2, 0, 0, 2, 0, 0, 0, 0, 0, 2, 1, 2, 0, 2, 0, 0, 1, 0, 0, 0, 0,\n",
       "       1, 0, 0, 0, 0, 0, 1, 1, 0, 0, 2, 0, 2, 0, 0, 2, 1, 0, 2, 1, 0, 0, 2,\n",
       "       0, 0, 1, 0, 0, 0, 1, 2, 2, 0, 1, 2, 0, 0, 0, 2, 2, 0, 1, 2, 2, 0, 1,\n",
       "       1, 0, 1, 0, 2, 2, 2, 0, 1, 2, 1, 0, 1, 2, 0, 2, 2, 2, 0, 1, 2, 2, 1,\n",
       "       0, 1, 2, 0, 0, 1, 0, 0, 2, 0, 0, 0, 1, 0, 0, 2, 2, 0, 0, 0, 0, 0, 2,\n",
       "       1, 0, 1, 0, 0, 0, 0, 1, 1, 2, 1, 0, 0, 2, 1, 2, 1, 0, 2, 0, 0, 0, 2,\n",
       "       1, 2, 1, 1, 0, 1, 2, 0, 0, 0, 1, 0, 0, 0, 0, 0, 2, 0, 0, 2, 2, 2, 1,\n",
       "       0, 0, 2, 1, 2, 1, 2, 1, 2, 0, 2, 1, 0, 1, 0, 0])"
      ]
     },
     "execution_count": 61,
     "metadata": {},
     "output_type": "execute_result"
    }
   ],
   "source": [
    "labels = pipeline.predict(documents)\n",
    "labels"
   ]
  },
  {
   "cell_type": "code",
   "execution_count": null,
   "metadata": {},
   "outputs": [],
   "source": []
  }
 ],
 "metadata": {
  "kernelspec": {
   "display_name": "Python 3",
   "language": "python",
   "name": "python3"
  },
  "language_info": {
   "codemirror_mode": {
    "name": "ipython",
    "version": 3
   },
   "file_extension": ".py",
   "mimetype": "text/x-python",
   "name": "python",
   "nbconvert_exporter": "python",
   "pygments_lexer": "ipython3",
   "version": "3.5.4"
  }
 },
 "nbformat": 4,
 "nbformat_minor": 1
}
