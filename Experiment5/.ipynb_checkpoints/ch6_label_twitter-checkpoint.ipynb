{
 "cells": [
  {
   "cell_type": "code",
   "execution_count": 2,
   "metadata": {},
   "outputs": [],
   "source": [
    "# Labelling the class values for the twitter dataset.\n",
    "import os\n",
    "# In Pycharm\n",
    "input_filename = os.path.join(os.path.abspath('../Data/'), \"twitter\\python_tweets.json\")\n",
    "classes_filename = os.path.join(os.path.abspath('../Data/'), \"twitter\\python_classes.json\")\n",
    "\n",
    "# In Jupyter\n",
    "# input_filename = os.path.join(os.path.abspath('../Data/'), \"twitter\\python_tweets.json\")\n",
    "# classes_filename = os.path.join(os.path.abspath('../Data/'), \"twitter\\python_classes.json\")"
   ]
  },
  {
   "cell_type": "code",
   "execution_count": 3,
   "metadata": {},
   "outputs": [
    {
     "name": "stdout",
     "output_type": "stream",
     "text": [
      "Loaded 100 tweets\n"
     ]
    }
   ],
   "source": [
    "import json\n",
    "tweets = []\n",
    "with open(input_filename) as inf:\n",
    "    for line in inf:\n",
    "        if len(line.strip()) == 0:\n",
    "            continue\n",
    "        tweets.append(json.loads(line))\n",
    "print(\"Loaded {} tweets\".format(len(tweets)))"
   ]
  },
  {
   "cell_type": "code",
   "execution_count": 4,
   "metadata": {},
   "outputs": [],
   "source": [
    "tweet_sample = tweets"
   ]
  },
  {
   "cell_type": "code",
   "execution_count": 5,
   "metadata": {},
   "outputs": [
    {
     "name": "stdout",
     "output_type": "stream",
     "text": [
      "F:\\Desktop\\Learning-Data-Mining-with-Python\\Data\\twitter\\python_classes.json\n",
      "Been Labeled, now exit 100\n"
     ]
    }
   ],
   "source": [
    "# 已标注的话，退出；未标注可用下面代码标注\n",
    "\n",
    "labels = []\n",
    "print(classes_filename)\n",
    "if os.path.exists(classes_filename):\n",
    "    with open(classes_filename, 'r') as f:\n",
    "        labels = json.load(f)\n",
    "        print('Been Labeled, now exit',len(labels))\n",
    "        exit(0)\n"
   ]
  },
  {
   "cell_type": "code",
   "execution_count": 17,
   "metadata": {},
   "outputs": [],
   "source": [
    "def get_next_tweet():\n",
    "    return tweet_sample[len(labels)]['text']"
   ]
  },
  {
   "cell_type": "code",
   "execution_count": 18,
   "metadata": {},
   "outputs": [
    {
     "data": {
      "text/html": [
       "\n",
       "<div name=\"tweetbox\">\n",
       "Instructions: Click in textbox. Enter a 1 if the tweet is\n",
       "relevant, enter 0 otherwise.<br>\n",
       "Tweet: <div id=\"tweet_text\" value=\"text\"></div><br>\n",
       "<input type=text id=\"capture\"></input><br>\n",
       "</div>\n",
       "\n",
       "<script language=\"JavaScript\" type=\"text/javascript\" >\n",
       "\n",
       "function set_label(label){\n",
       "var kernel = IPython.notebook.kernel;\n",
       "kernel.execute(\"labels.append(\" + label + \")\");\n",
       "load_next_tweet();\n",
       "}\n",
       "\n",
       "function load_next_tweet(){\n",
       "var code_input = \"get_next_tweet()\";\n",
       "var kernel = IPython.notebook.kernel;\n",
       "var callbacks = { 'iopub' : {'output' : handle_output}};\n",
       "kernel.execute(code_input, callbacks, {silent:false});\n",
       "}\n",
       "\n",
       "function handle_output(out){\n",
       "var res = out.content.data[\"text/plain\"];\n",
       "$(\"div#tweet_text\").html(res);\n",
       "}\n",
       "\n",
       "$(\"input#capture\").keypress(function(e) {\n",
       "if(e.which == 48) {\n",
       "    \n",
       "    set_label(0);\n",
       "    $(\"input#capture\").val(\"\");\n",
       "\n",
       "}else if (e.which == 49){\n",
       "    \n",
       "    set_label(1);\n",
       "    $(\"input#capture\").val(\"\");\n",
       "\n",
       "}\n",
       "});\n",
       "    \n",
       "load_next_tweet();\n",
       "</script>"
      ],
      "text/plain": [
       "<IPython.core.display.HTML object>"
      ]
     },
     "metadata": {},
     "output_type": "display_data"
    }
   ],
   "source": [
    "%%html\n",
    "\n",
    "<div name=\"tweetbox\">\n",
    "Instructions: Click in textbox. Enter a 1 if the tweet is\n",
    "relevant, enter 0 otherwise.<br>\n",
    "Tweet: <div id=\"tweet_text\" value=\"text\"></div><br>\n",
    "<input type=text id=\"capture\"></input><br>\n",
    "</div>\n",
    "\n",
    "<script language=\"JavaScript\" type=\"text/javascript\" >\n",
    "\n",
    "function set_label(label){\n",
    "var kernel = IPython.notebook.kernel;\n",
    "kernel.execute(\"labels.append(\" + label + \")\");\n",
    "load_next_tweet();\n",
    "}\n",
    "\n",
    "function load_next_tweet(){\n",
    "var code_input = \"get_next_tweet()\";\n",
    "var kernel = IPython.notebook.kernel;\n",
    "var callbacks = { 'iopub' : {'output' : handle_output}};\n",
    "kernel.execute(code_input, callbacks, {silent:false});\n",
    "}\n",
    "\n",
    "function handle_output(out){\n",
    "var res = out.content.data[\"text/plain\"];\n",
    "$(\"div#tweet_text\").html(res);\n",
    "}\n",
    "\n",
    "$(\"input#capture\").keypress(function(e) {\n",
    "if(e.which == 48) {\n",
    "    \n",
    "    set_label(0);\n",
    "    $(\"input#capture\").val(\"\");\n",
    "\n",
    "}else if (e.which == 49){\n",
    "    \n",
    "    set_label(1);\n",
    "    $(\"input#capture\").val(\"\");\n",
    "\n",
    "}\n",
    "});\n",
    "    \n",
    "load_next_tweet();\n",
    "</script>"
   ]
  },
  {
   "cell_type": "code",
   "execution_count": 21,
   "metadata": {},
   "outputs": [
    {
     "name": "stdout",
     "output_type": "stream",
     "text": [
      "128\n"
     ]
    }
   ],
   "source": [
    "\n",
    "print(len(labels))"
   ]
  },
  {
   "cell_type": "code",
   "execution_count": 20,
   "metadata": {},
   "outputs": [],
   "source": [
    "with open(classes_filename, 'w') as outf:\n",
    "    json.dump(labels, outf)"
   ]
  },
  {
   "cell_type": "code",
   "execution_count": null,
   "metadata": {},
   "outputs": [],
   "source": []
  }
 ],
 "metadata": {
  "kernelspec": {
   "display_name": "Python 3",
   "language": "python",
   "name": "python3"
  },
  "language_info": {
   "codemirror_mode": {
    "name": "ipython",
    "version": 3
   },
   "file_extension": ".py",
   "mimetype": "text/x-python",
   "name": "python",
   "nbconvert_exporter": "python",
   "pygments_lexer": "ipython3",
   "version": "3.5.4"
  },
  "name": ""
 },
 "nbformat": 4,
 "nbformat_minor": 1
}
