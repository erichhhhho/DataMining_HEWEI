{
 "cells": [
  {
   "cell_type": "code",
   "execution_count": 19,
   "metadata": {},
   "outputs": [],
   "source": [
    "\"\"\"Modified by HE WEI Oct 27,2017\"\"\"\n",
    "# Getting Twitter data using the API\n",
    "import twitter"
   ]
  },
  {
   "cell_type": "heading",
   "metadata": {},
   "level": 1,
   "source": [
    "IMPORTANT: BEFORE THIS GOES LIVE, SET THE FOLLOWING KEYS AND SECRETS TO \"INSERT KEY HERE\""
   ]
  },
  {
   "cell_type": "code",
   "execution_count": 20,
   "metadata": {},
   "outputs": [],
   "source": [
    "consumer_key = \"e7u57o1hv5AzKX1lqS9UxQjL0\"\n",
    "consumer_secret = \"2vgeDa5H5K5JksA9X1x5ZTXCk2HPTbThONyM11F46rt5ButOyB\"\n",
    "access_token = \"469088235-dFCb8IVWnJNxqEzZ2pL9bw0sE44hZWn9Y2GJVo8I\"\n",
    "access_token_secret = \"wYe10maJG5yNNaY7FmajPisPeg9HsXsTiFWd8d8S8kwOw\"\n",
    "authorization = twitter.OAuth(access_token, access_token_secret, consumer_key, consumer_secret)"
   ]
  },
  {
   "cell_type": "code",
   "execution_count": 21,
   "metadata": {},
   "outputs": [],
   "source": [
    "import os\n",
    "output_filename = os.path.join(os.path.abspath('Data/'), \"twitter\\python_tweets.json\")\n",
    "print(output_filename)"
   ]
  },
  {
   "cell_type": "code",
   "execution_count": 22,
   "metadata": {},
   "outputs": [],
   "source": [
    "import json"
   ]
  },
  {
   "cell_type": "code",
   "execution_count": 23,
   "metadata": {},
   "outputs": [
    {
     "name": "stdout",
     "output_type": "stream",
     "text": [
      "DLBeatrice\n苹果中含有丰富的维生素和酸类物质，新西兰食品专家指出，如果吃苹果速度太慢，会让你胃部分泌大量胃酸，与果酸共同作用，造成消化不良！因此小编建议你：苹果一定在15分钟内吃完！\n\nborisov9888\n苹果发布会：十周年iPhone X携面部识别技术面世 https://t.co/jTa8NB5xYF\n\niuliiam05352448\n苹果发布会：十周年iPhone X携面部识别技术面世 https://t.co/eHwKQ9aWvU\n\n14o9Hg2vwKfevFK\n苹果发布会：十周年iPhone X携面部识别技术面世 https://t.co/JhMJketn7e\n\nSkibkinVlad\nRT @SkibkinVlad: 后来证明都是假的，比如，他会说高官给他削苹果，去他的私家影院看电影。\n\nsheeper51\n荻野目苹果は多蕗とアダルトしたいってことだろ？\n\niuliiamarkova95\n苹果发布会：十周年iPhone X携面部识别技术面世 https://t.co/kqRYYsvjxd\n\nionova451\n苹果发布会：十周年iPhone X携面部识别技术面世 https://t.co/zT35D89Ls2\n\nsokolova9192\n【经典语录】1、因为寂寞，所以暧昧。2、女人的泪，男人的罪。3、上帝创造了处女，男人创造了妇女。4、真爱都跑到电视里了。5、青楼满座是因为人生寂寞。6、饭来张口妞来伸手。7、理想的职业是退休工人。8、苹果最闪光的一刻是砸在牛顿头上。9、可笑又浪漫着。10、不怕潜规则，就怕没规则。\n\nlenaliu11\n看片VPN - 看片专用VPN-视频流畅 \n来就免费送1小时，还等什么呢，马上下载吧！\n苹果版：https://t.co/Y485sDuYmT\n安卓版：https://t.co/sxCGiOim9n\n#VPN #VJVPN… https://t.co/0qIItIacQT\n\n00y2FKfJBytmAPn\n苹果发布会：十周年iPhone X携面部识别技术面世 https://t.co/HEzzBPgtcy\n\npeak8964\n【隐私将成为科技公司竞争优势】福鲁哈尔：不久前苹果公司和IBM都展开公关行动，大力宣传它们是数据的管理者，与谷歌等数据贩卖者区分开来。 http://www.ftchinese… https://t.co/rOyauin9Zl\n\ncdfgk1\n七大护发水果：1柑橘：清凉提神，去除头屑；2奇异果：维持水分，防止头发干燥；3杨桃：保湿及增强弹性的作用；4苹果：抑制头皮屑的生长、镇定头皮和止痒；5蜜桃：高度保湿和滋润，增强头发的柔软度。6无花果：含有的钾、钙、铁等丰富矿物质能强健头发的发干。7木瓜：为头发提供深层洁净和滋养。\n\nnmhkg1\n5绿保青春——5绿：1.青苹果2.柿子椒3.苦瓜.4.芹菜5.黄瓜。 做法：取来五绿后压成汁，最好每天喝一杯。效果：永葆皮肤光滑，可以治疗高血压。 说明：这个有一定的科学根据，自古是良药苦口，只要长期坚持绝对可以看到效果。好东西只想分享给大家，希望朋友们都有个好身体。\n\nheicuo\nRT @holymation: 苹果-1984 https://t.co/XuqP9OJLVW\n\nhoshi_luci\n巻積雲のはらわたまで　月のあかりはしみわたり　それはあやしい蛍光板になって　いよいよあやしい苹果の匂いを発散し　なめらかにつめたい窓硝子さえ超えてくる\n\ntianlihe\nRT @14z3R: 回顾历次中美对话，中方都要向美方承诺改善民生。让人想起苹果公司多次逼迫富士康不得过分压榨中国员工的往事，其实共产党就是最大的富士康，包括主席台上那些丑陋不堪的盗国贼，牠们不过是长着黄色皮肤的俄国强盗，是一群无需对中国人负任何责任，在巧取豪夺和榨干血汗后，注…\n\nBF4_Yarango\n你不矛AVA苹果 ？\n\nalenakriukova54\n我们为什么要旅行呢？我想，可能是，因为，有些人，有些事，有些地方，一旦离开，就回不去了，或者应该说总觉得自己回不去了，于是，我们不断地离开，去旅行，斗志昂扬地摆脱地心引力，证明自己，不是，苹果\n\nGuLangYu\n【声音】 苹果收购的这家公司 要让 iPhone 干掉所有单反 https://t.co/x3NTg8wzpv\n\nlaokugua28\n水果晚餐减肥的5个要点：①并不一定只吃苹果，凡甜味不浓的水果蔬菜都可以；②不要每天都称体重，只要每个月的同一个日子称一次体重，必有愉快的结果；③晚间宜有少许活动；④早餐和午餐应当注意蛋白质食物的供应，提高营养质量；⑤加一小杯酸奶补充钙质。\n\nliudmilaterekh5\n七大护发水果：1柑橘：清凉提神，去除头屑；2奇异果：维持水分，防止头发干燥；3杨桃：保湿及增强弹性的作用；4苹果：抑制头皮屑的生长、镇定头皮和止痒；5蜜桃：高度保湿和滋润，增强头发的柔软度。6无花果：含有的钾、钙、铁等丰富矿物质能强健头发的发干。7木瓜：为头发提供深层洁净和滋养。\n\nliudmilaterekh5\n5绿保青春——5绿：1.青苹果2.柿子椒3.苦瓜.4.芹菜5.黄瓜。 做法：取来五绿后压成汁，最好每天喝一杯。效果：永葆皮肤光滑，可以治疗高血压。 说明：这个有一定的科学根据，自古是良药苦口，只要长期坚持绝对可以看到效果。好东西只想分享给大家，希望朋友们都有个好身体。\n\nFTChinese\n【隐私将成为科技公司竞争优势】福鲁哈尔：不久前苹果公司和IBM都展开公关行动，大力宣传它们是数据的管理者，与谷歌等数据贩卖者区分开来。https://t.co/77ZyReT5KG https://t.co/caQpHUAfXa\n\nacquavivarreon8\nRT @ding_gang: 忙了一天，终于发现盗国贼的黑客进入服务器的目的和手法。进来只删除了一个孙力军和郭文贵通话录音的文件，其余都正常，这次黑客看样子和孙有关，很害怕录音在国内下载传播。并且是在凌晨2点25分进入。其次，和苹果podcast链接的.xml文件被删除。可见很…\n\nlenaliu11\n用这个苹果安卓专用视频加速App看片就是爽 \n来就免费送1小时，还等什么呢，马上下载吧！\n苹果版：https://t.co/Y485sDuYmT\n安卓版：https://t.co/sxCGiOim9n\n#VPN #VJVPN… https://t.co/xF8rIdqJJg\n\nweishell\n[https://t.co/8PImttWivY] 极客公园: 苹果收购的这家公司 要让 iPhone 干掉所有单反 https://t.co/AVoadJjOa9\n\ntbmgjh\n七大护发水果：1柑橘：清凉提神，去除头屑；2奇异果：维持水分，防止头发干燥；3杨桃：保湿及增强弹性的作用；4苹果：抑制头皮屑的生长、镇定头皮和止痒；5蜜桃：高度保湿和滋润，增强头发的柔软度。6无花果：含有的钾、钙、铁等丰富矿物质能强健头发的发干。7木瓜：为头发提供深层洁净和滋养。\n\ngmhkld\n5绿保青春——5绿：1.青苹果2.柿子椒3.苦瓜.4.芹菜5.黄瓜。 做法：取来五绿后压成汁，最好每天喝一杯。效果：永葆皮肤光滑，可以治疗高血压。 说明：这个有一定的科学根据，自古是良药苦口，只要长期坚持绝对可以看到效果。好东西只想分享给大家，希望朋友们都有个好身体。\n\nserov_stepan\n后来证明都是假的，比如，他会说高官给他削苹果，去他的私家影院看电影。\n\nIGubachevskiy\n后来证明都是假的，比如，他会说高官给他削苹果，去他的私家影院看电影。\n\nSkibkinVlad\n后来证明都是假的，比如，他会说高官给他削苹果，去他的私家影院看电影。\n\nGolyaginPavel\n后来证明都是假的，比如，他会说高官给他削苹果，去他的私家影院看电影。\n\nIgorSukharev1\n后来证明都是假的，比如，他会说高官给他削苹果，去他的私家影院看电影。\n\nvostretsov_dima\n后来证明都是假的，比如，他会说高官给他削苹果，去他的私家影院看电影。\n\nnekhlvladimir7\n后来证明都是假的，比如，他会说高官给他削苹果，去他的私家影院看电影。\n\nPetrosovArkadiy\n后来证明都是假的，比如，他会说高官给他削苹果，去他的私家影院看电影。\n\nvlitovskiy3\n后来证明都是假的，比如，他会说高官给他削苹果，去他的私家影院看电影。\n\nGennadiyPlastov\n后来证明都是假的，比如，他会说高官给他削苹果，去他的私家影院看电影。\n\nlihlii\nRT @ding_gang: 苹果ibook商店现在可以下载郭文贵爆料全球发不会第四集文字版电子书，下载指南链接地址：https://t.co/VE4bHULEjV。国内的用户需要把苹果itunes 商店改成美国，即可下载。方便传播。 https://t.co/DsuWkokL…\n\nlewuyang\nNew post in 你知道的太多了: 又想起苹果干过的一件让我不爽的事情，之前用过苹果5（PO主谜之与5有缘）,但是苹果死活不推送联通4G FDD-LTE运营商更新配置，让PO主一直被锁定在3G频段上。如果说是苹果为了推动用… https://t.co/X96sNQKfKj\n\nmamotaya\nBBC 中文网 - 苹果发布会：十周年iPhone X携面部识别技术面世 https://t.co/GdNkcE8R3q\n\nBlack_man1102\nipad的用ss感觉好慢 苹果我看也到头了\n\nMikeinusaGB\n看到有推文说想找墙内可以用的建群的软件，翻了所有评论，没找到。我自己也想了一会儿，也没有\n\n哈哈，我们就这样，被彻底局限在了中国这样的局域网中\n\n除了庆幸苹果imessage可以一对一加密聊天，不需翻墙，我还能做什么？\n\n好像有的email也不需翻墙，那就群发吧\n\ngangaotai\n出狱第一天的感觉？ 黄之锋傻了\n来源：苹果日报香港学运3子黄之锋、罗冠聪、周永康2014年发起重夺公民广场，被裁定非法集结等罪入监，其中黄之锋及罗冠聪在服刑逾2个月后，向终审法院申请保\nhttps://t.co/p9Ouif1J0S\n\nliudmilaterekh5\n【经典语录】1、因为寂寞，所以暧昧。2、女人的泪，男人的罪。3、上帝创造了处女，男人创造了妇女。4、真爱都跑到电视里了。5、青楼满座是因为人生寂寞。6、饭来张口妞来伸手。7、理想的职业是退休工人。8、苹果最闪光的一刻是砸在牛顿头上。9、可笑又浪漫着。10、不怕潜规则，就怕没规则。\n\nlenaliu11\n苹果安卓专用视频加速App \n来就免费送1小时，还等什么呢，马上下载吧！\n苹果版：https://t.co/Y485sDuYmT\n安卓版：https://t.co/sxCGiOim9n\n#VPN #VJVPN #免费VPN https://t.co/pxJiu18IdH\n\nkldsh2\nRT @ding_gang: 忙了一天，终于发现盗国贼的黑客进入服务器的目的和手法。进来只删除了一个孙力军和郭文贵通话录音的文件，其余都正常，这次黑客看样子和孙有关，很害怕录音在国内下载传播。并且是在凌晨2点25分进入。其次，和苹果podcast链接的.xml文件被删除。可见很…\n\nRoyLaw\n安卓没有苹果那样的点击状态栏快速回到页面顶部的功能吗？🙄\n\nlenaliu11\n用这个苹果安卓专用视频加速App看片就是爽 \n来就免费送1小时，还等什么呢，马上下载吧！\n苹果版：https://t.co/Y485sDuYmT\n安卓版：https://t.co/sxCGiOim9n\n#VPN #VJVPN… https://t.co/fMgsJAdy8t\n\nnextdodo\n@duxiaomei2001 纸玫瑰能学会吧，买些好看的卡纸，每天有空就折几朵放着，然后配上包装纸啊方便拿的棍棍啦，甚至还可以弄点金粉刷点碎金在上面，成本不大，主要花时间，然后平安夜去闹市销售，一朵15-25吧，我见过有高三女孩这样加上情人节，赚了台苹果6\n\nYingMeiHu\n苹果收购的这家公司 要让 iPhone 干掉所有单反\n       https://t.co/A8JLxcUIoW\n\nwengpyujia\n苹果收购的这家公司 要让 iPhone 干掉所有单反\n       https://t.co/6gH3mkZSwW\n\nuq_tak\nUQ手机人气销售中\n超低价SIM卡月租1980日元起\n苹果机也可以用\n详情请点击这里→0352919910\n東京都新宿区高田馬場2-9-1\n\nweaver_hebert\n@mathgl 您老再多了解一下就知道这个既不牛逼又没用，论性能功耗比不如苹果的A11，论纯性能不如正经显卡。Intel AI芯片真正的看点是今年年底或者明年年初的Nervana。\n\nxiaotianjun\n传苹果收购一相机感应器公司 提高iPhone弱光拍照性能 https://t.co/o97Ebj9TKn\n\nDanielwangKm\nRT @14z3R: 回顾历次中美对话，中方都要向美方承诺改善民生。让人想起苹果公司多次逼迫富士康不得过分压榨中国员工的往事，其实共产党就是最大的富士康，包括主席台上那些丑陋不堪的盗国贼，牠们不过是长着黄色皮肤的俄国强盗，是一群无需对中国人负任何责任，在巧取豪夺和榨干血汗后，注…\n\nlenaliu11\nVJPVN是个好VPN，低价稳定，业界良心，推荐使用～ \n来就免费送1小时，还等什么呢，马上下载吧！\n苹果版：https://t.co/Y485sDuYmT\n安卓版：https://t.co/sxCGiOim9n\n#VPN… https://t.co/hLOHH1MHCI\n\nRingo__Ibanez\n弾きやすくするためにストラップ超短くした苹果ちゃん。見た目より弾きやすさ重視だよな？？？？\n\nAdDominum\nRT @iyouport_news: 【科技公司承诺负责任的使用 #AI】代表 IBM、微软、Google、亚马逊、Facebook 和苹果的行业组织信息技术产业委员会发表了开发伦理人工智能系统的原则，承诺负责任的使用AI，以应对AI技术冲击社会的日益增长的担忧，详细：http…\n\ningasoboleva202\n【经典语录】1、因为寂寞，所以暧昧。2、女人的泪，男人的罪。3、上帝创造了处女，男人创造了妇女。4、真爱都跑到电视里了。5、青楼满座是因为人生寂寞。6、饭来张口妞来伸手。7、理想的职业是退休工人。8、苹果最闪光的一刻是砸在牛顿头上。9、可笑又浪漫着。10、不怕潜规则，就怕没规则。\n\nblnbkn\n【牛奶 苹果成功瘦身】第一天:全天只吃苹果(共两斤约五六个)慢慢地小口吃.第二天:全天只喝牛奶或酸奶,共1000毫升分成六七等份,每次喝一份.第三四天:恢复正常饮食,在开始两天.切记不能喝水——苹果日断水,基本上减的是身体的水分,到了牛奶日,水分减的差不多了,就会减到脂肪\n\nlenaliu11\n完全无法播放？马上下载VJVPN顺畅观看海外视频网站！\n来就免费送1小时，还等什么呢，马上下载吧！\n苹果版：https://t.co/Y485sDuYmT\n安卓版：https://t.co/sxCGiOim9n\n#VPN… https://t.co/a2RRObV6Ea\n\nrrnfkj\n【牛奶 苹果成功瘦身】第一天:全天只吃苹果(共两斤约五六个)慢慢地小口吃.第二天:全天只喝牛奶或酸奶,共1000毫升分成六七等份,每次喝一份.第三四天:恢复正常饮食,在开始两天.切记不能喝水——苹果日断水,基本上减的是身体的水分,到了牛奶日,水分减的差不多了,就会减到脂肪\n\nzhangzhongan1\nRT @holymation: 苹果-1984 https://t.co/XuqP9OJLVW\n\ntbmgjh\n苹果中含有丰富的维生素和酸类物质，新西兰食品专家指出，如果吃苹果速度太慢，会让你胃部分泌大量胃酸，与果酸共同作用，造成消化不良！因此小编建议你：苹果一定在15分钟内吃完！\n\nhoney_fairy\n苹果的APP内购实在太逗了\n\njgriffiths\n@bridgers @SirSteven 苹果剩菜\n\nholymation\n苹果-1984 https://t.co/XuqP9OJLVW\n\nlenaliu11\n看片VPN - 看片专用VPN-视频流畅 \n来就免费送1小时，还等什么呢，马上下载吧！\n苹果版：https://t.co/Y485sDuYmT\n安卓版：https://t.co/sxCGiOim9n\n#VPN #VJVPN… https://t.co/P6uNoiolVD\n\nbmhnjl\n苹果中含有丰富的维生素和酸类物质，新西兰食品专家指出，如果吃苹果速度太慢，会让你胃部分泌大量胃酸，与果酸共同作用，造成消化不良！因此小编建议你：苹果一定在15分钟内吃完！\n\nenewsuk\nRT @14z3R: 回顾历次中美对话，中方都要向美方承诺改善民生。让人想起苹果公司多次逼迫富士康不得过分压榨中国员工的往事，其实共产党就是最大的富士康，包括主席台上那些丑陋不堪的盗国贼，牠们不过是长着黄色皮肤的俄国强盗，是一群无需对中国人负任何责任，在巧取豪夺和榨干血汗后，注…\n\nskyperkloze\n苹果收购了无线充电公司 PowerbyProxi https://t.co/Ia307fDWpn\n\nruslankoriakin4\n吃苹果，益补肾。\n\nelenama33414298\n吃苹果，益补肾。\n\nlenaliu11\n用这个苹果安卓专用视频加速App看片就是爽 \n来就免费送1小时，还等什么呢，马上下载吧！\n苹果版：https://t.co/Y485sDuYmT\n安卓版：https://t.co/sxCGiOim9n\n#VPN #VJVPN… https://t.co/vWx50ca0qn\n\nblnbkn\n七大护发水果：1柑橘：清凉提神，去除头屑；2奇异果：维持水分，防止头发干燥；3杨桃：保湿及增强弹性的作用；4苹果：抑制头皮屑的生长、镇定头皮和止痒；5蜜桃：高度保湿和滋润，增强头发的柔软度。6无花果：含有的钾、钙、铁等丰富矿物质能强健头发的发干。7木瓜：为头发提供深层洁净和滋养。\n\nwqMUIFOXlS6JoSu\nRT @ding_gang: 忙了一天，终于发现盗国贼的黑客进入服务器的目的和手法。进来只删除了一个孙力军和郭文贵通话录音的文件，其余都正常，这次黑客看样子和孙有关，很害怕录音在国内下载传播。并且是在凌晨2点25分进入。其次，和苹果podcast链接的.xml文件被删除。可见很…\n\nmbkdl1\n5绿保青春——5绿：1.青苹果2.柿子椒3.苦瓜.4.芹菜5.黄瓜。 做法：取来五绿后压成汁，最好每天喝一杯。效果：永葆皮肤光滑，可以治疗高血压。 说明：这个有一定的科学根据，自古是良药苦口，只要长期坚持绝对可以看到效果。好东西只想分享给大家，希望朋友们都有个好身体。\n\n8uyhgw456yyh4\n日本苹果10秒卖出1颗！这三种苹果最热销 https://t.co/5odguhSJ3T活摘 https://t.co/scEklfTlAX 三退 https://t.co/pM8tZvnxbt 神韵巡演 https://t.co/GcY4GNSThQ\n\nlenaliu11\nVJPVN是个好VPN，低价稳定，业界良心，推荐使用～ \n来就免费送1小时，还等什么呢，马上下载吧！\n苹果版：https://t.co/Y485sDuYmT\n安卓版：https://t.co/sxCGiOim9n\n#VPN… https://t.co/6P8usgsHGM\n\nAdDominum\nRT @14z3R: 回顾历次中美对话，中方都要向美方承诺改善民生。让人想起苹果公司多次逼迫富士康不得过分压榨中国员工的往事，其实共产党就是最大的富士康，包括主席台上那些丑陋不堪的盗国贼，牠们不过是长着黄色皮肤的俄国强盗，是一群无需对中国人负任何责任，在巧取豪夺和榨干血汗后，注…\n\ngggfhhfgfgf\n日本苹果10秒卖出1颗！这三种苹果最热销 https://t.co/RYrPR1kJtQ三退https://t.co/y4WKYD39No 翻墙https://t.co/MnDn8JqMT0 2018神韵 https://t.co/Fo2ueCzdfK\n\nAbbbMeili\n日本苹果10秒卖出1颗！这三种苹果最热销 https://t.co/qDH0vPBYzq三退 https://t.co/Dujdklz392 大陆翻墙直连https://t.co/EM9VtrK3Pf 2018神韵 https://t.co/TZd5jibZpZ\n\njpgcd9921\n日本苹果10秒卖出1颗！这三种苹果最热销 https://t.co/A3Kh79J0i2 三退 https://t.co/9RRV7vFTYj 翻墙直连https://t.co/kDNepUooqf神韵 https://t.co/kui5Qcia6Q\n\nlishandeli\n日本苹果10秒卖出1颗！这三种苹果最热销 https://t.co/Hzib3OrTSn 神韵巡演 https://t.co/fulxyOCgyC 解析\"1400例\" https://t.co/QLSM65D5wR 千古英雄 https://t.co/39Tscocv9z\n\nlizong5\n日本苹果10秒卖出1颗！这三种苹果最热销 https://t.co/xJCLrBXKne退出共产党 https://t.co/FmiAJrCaMn 翻墙https://t.co/ptTVJKDXNN 神韵 Shenyun 2017 https://t.co/FntO8dZJ40\n\nUQ_nishikasai\nUQ手机人气销售中\n超低价SIM卡月租1980日元起\n苹果机也可以用\n详情请点击这里→03-5679-9777\n\nliwang18300594\n日本苹果10秒卖出1颗！这三种苹果最热销 https://t.co/kQ0YdgtvYG退出共产党 https://t.co/3yKacKJSbz 翻墙https://t.co/rozN5V3SmI 2018神韵 https://t.co/YX7DR59ItB\n\n3ttt3tt\n日本苹果10秒卖出1颗！这三种苹果最热销 https://t.co/fitstDzz46退出共产党网（三退保平安）https://t.co/MeH41QPDoZ 2018神韵 https://t.co/RzznMYTIIf\n\nganwei6\n日本苹果10秒卖出1颗！这三种苹果最热销 https://t.co/a9W8BooQ2R九评https://t.co/KTWtX1Rk93神韵 https://t.co/Uqdyj3GDBm\n\n3jpiOyTnwrEpd69\n吃苹果，益补肾。\n\nFfggLiuwei\n日本苹果10秒卖出1颗！这三种苹果最热销 https://t.co/StTkHXnZys三退 https://t.co/n5NGYKPHlZ 翻墙直连https://t.co/DJU1yQbn8S 2018神韵 https://t.co/IXfGsbRFro\n\nz2gml5oJjfyqorF\n吃苹果，益补肾。\n\nlenaliu11\n看片VPN - 看片专用VPN-视频流畅 \n来就免费送1小时，还等什么呢，马上下载吧！\n苹果版：https://t.co/Y485sDuYmT\n安卓版：https://t.co/sxCGiOim9n\n#VPN #VJVPN… https://t.co/unsYCwEnag\n\nJiW7bbppYWozLgk\n吃苹果，益补肾。\n\nnoskova9279\n④.芝麻:含亚麻仁油酸可除胆固醇；⑤.苹果:苹果酸可加速代谢减少脂肪堆积；⑥.木瓜:蛋白分解酶可清除脂肪；⑦.西瓜:利尿专家；⑧.苦瓜:含大量清脂素。\n\nnmhkg1\n七大护发水果：1柑橘：清凉提神，去除头屑；2奇异果：维持水分，防止头发干燥；3杨桃：保湿及增强弹性的作用；4苹果：抑制头皮屑的生长、镇定头皮和止痒；5蜜桃：高度保湿和滋润，增强头发的柔软度。6无花果：含有的钾、钙、铁等丰富矿物质能强健头发的发干。7木瓜：为头发提供深层洁净和滋养。\n\nmvngjh\n5绿保青春——5绿：1.青苹果2.柿子椒3.苦瓜.4.芹菜5.黄瓜。 做法：取来五绿后压成汁，最好每天喝一杯。效果：永葆皮肤光滑，可以治疗高血压。 说明：这个有一定的科学根据，自古是良药苦口，只要长期坚持绝对可以看到效果。好东西只想分享给大家，希望朋友们都有个好身体。\n\ntangming2huang1\n《乔布斯的魔力演讲》：（美）加洛 著，徐臻真 译。本书首次汇集苹果公司创始人25年演讲精华，全面揭示“天才演说家”史蒂夫乔布斯的表达技巧，本书讲述的每个技巧对你都同样适用！本书三幕剧，展现乔布斯的表演魅力！本书三种修炼，让你与乔布斯看齐！\n\n"
     ]
    }
   ],
   "source": [
    "t = twitter.Twitter(auth=authorization)\n",
    "\n",
    "with open(output_filename, 'a') as output_file:\n",
    "    search_results = t.search.tweets(q=\"苹果\", count=100)['statuses']\n",
    "    for tweet in search_results:\n",
    "        if 'text' in tweet:\n",
    "            print(tweet['user']['screen_name'])\n",
    "            print(tweet['text'])\n",
    "            print()\n",
    "            output_file.write(json.dumps(tweet))\n",
    "            output_file.write(\"\\n\\n\")\n"
   ]
  },
  {
   "cell_type": "code",
   "execution_count": 21,
   "metadata": {},
   "outputs": [],
   "source": []
  }
 ],
 "metadata": {
  "name": "",
  "signature": "sha256:cb93d043019583326c0d63bbbdc20c5e315beec9df3c4f2372243ab77d035675"
 },
 "nbformat": 4,
 "nbformat_minor": 0
}
