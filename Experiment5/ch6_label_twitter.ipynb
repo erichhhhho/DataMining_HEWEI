{
 "cells": [
  {
   "cell_type": "code",
   "execution_count": 7,
   "metadata": {},
   "outputs": [],
   "source": [
    "\"\"\"Modified by HE WEI Oct 27,2017\"\"\"\n",
    "# Labelling the class values for the twitter dataset.\n",
    "import os\n",
    "# In Pycharm\n",
    "input_filename = os.path.join(os.path.abspath('Data/'), \"twitter\\python_tweets.json\")\n",
    "classes_filename = os.path.join(os.path.abspath('Data/'), \"twitter\\python_classes.json\")\n",
    "\n",
    "# In Jupyter\n",
    "# input_filename = os.path.join(os.path.abspath('../Data/'), \"twitter\\python_tweets.json\")\n",
    "# classes_filename = os.path.join(os.path.abspath('../Data/'), \"twitter\\python_classes.json\")"
   ]
  },
  {
   "cell_type": "code",
   "execution_count": 8,
   "metadata": {},
   "outputs": [
    {
     "name": "stdout",
     "output_type": "stream",
     "text": [
      "Loaded 100 tweets\n"
     ]
    }
   ],
   "source": [
    "import json\n",
    "tweets = []\n",
    "with open(input_filename) as inf:\n",
    "    for line in inf:\n",
    "        if len(line.strip()) == 0:\n",
    "            continue\n",
    "        tweets.append(json.loads(line))\n",
    "print(\"Loaded {} tweets\".format(len(tweets)))"
   ]
  },
  {
   "cell_type": "code",
   "execution_count": 9,
   "metadata": {},
   "outputs": [],
   "source": [
    "tweet_sample = tweets"
   ]
  },
  {
   "cell_type": "code",
   "execution_count": 10,
   "metadata": {},
   "outputs": [
    {
     "name": "stdout",
     "output_type": "stream",
     "text": [
      "F:\\Desktop\\Learning-Data-Mining-with-Python\\Data\\twitter\\python_classes.json\nBeen Labeled, now exit 100\n"
     ]
    }
   ],
   "source": [
    "# 已标注的话，退出；未标注可用下面代码标注\n",
    "\n",
    "labels = []\n",
    "print(classes_filename)\n",
    "if os.path.exists(classes_filename):\n",
    "    with open(classes_filename, 'r') as f:\n",
    "        labels = json.load(f)\n",
    "        print('Been Labeled, now exit',len(labels))\n",
    "        exit(0)\n"
   ]
  },
  {
   "cell_type": "code",
   "execution_count": 5,
   "metadata": {},
   "outputs": [],
   "source": [
    "def get_next_tweet():\n",
    "    return tweet_sample[len(labels)]['text']"
   ]
  },
  {
   "cell_type": "code",
   "execution_count": 6,
   "metadata": {},
   "outputs": [
    {
     "data": {
      "text/html": [
       "\n",
       "<div name=\"tweetbox\">\n",
       "Instructions: Click in textbox. Enter a 1 if the tweet is\n",
       "relevant, enter 0 otherwise.<br>\n",
       "Tweet: <div id=\"tweet_text\" value=\"text\"></div><br>\n",
       "<input type=text id=\"capture\"></input><br>\n",
       "</div>\n",
       "\n",
       "<script language=\"JavaScript\" type=\"text/javascript\" >\n",
       "\n",
       "function set_label(label){\n",
       "var kernel = IPython.notebook.kernel;\n",
       "kernel.execute(\"labels.append(\" + label + \")\");\n",
       "load_next_tweet();\n",
       "}\n",
       "\n",
       "function load_next_tweet(){\n",
       "var code_input = \"get_next_tweet()\";\n",
       "var kernel = IPython.notebook.kernel;\n",
       "var callbacks = { 'iopub' : {'output' : handle_output}};\n",
       "kernel.execute(code_input, callbacks, {silent:false});\n",
       "}\n",
       "\n",
       "function handle_output(out){\n",
       "var res = out.content.data[\"text/plain\"];\n",
       "$(\"div#tweet_text\").html(res);\n",
       "}\n",
       "\n",
       "$(\"input#capture\").keypress(function(e) {\n",
       "if(e.which == 48) {\n",
       "    \n",
       "    set_label(0);\n",
       "    $(\"input#capture\").val(\"\");\n",
       "\n",
       "}else if (e.which == 49){\n",
       "    \n",
       "    set_label(1);\n",
       "    $(\"input#capture\").val(\"\");\n",
       "\n",
       "}\n",
       "});\n",
       "    \n",
       "load_next_tweet();\n",
       "</script>"
      ],
      "text/plain": [
       "\n",
       "<div name=\"tweetbox\">\n",
       "Instructions: Click in textbox. Enter a 1 if the tweet is\n",
       "relevant, enter 0 otherwise.<br>\n",
       "Tweet: <div id=\"tweet_text\" value=\"text\"></div><br>\n",
       "<input type=text id=\"capture\"></input><br>\n",
       "</div>\n",
       "\n",
       "<script language=\"JavaScript\" type=\"text/javascript\" >\n",
       "\n",
       "function set_label(label){\n",
       "var kernel = IPython.notebook.kernel;\n",
       "kernel.execute(\"labels.append(\" + label + \")\");\n",
       "load_next_tweet();\n",
       "}\n",
       "\n",
       "function load_next_tweet(){\n",
       "var code_input = \"get_next_tweet()\";\n",
       "var kernel = IPython.notebook.kernel;\n",
       "var callbacks = { 'iopub' : {'output' : handle_output}};\n",
       "kernel.execute(code_input, callbacks, {silent:false});\n",
       "}\n",
       "\n",
       "function handle_output(out){\n",
       "var res = out.content.data[\"text/plain\"];\n",
       "$(\"div#tweet_text\").html(res);\n",
       "}\n",
       "\n",
       "$(\"input#capture\").keypress(function(e) {\n",
       "if(e.which == 48) {\n",
       "    \n",
       "    set_label(0);\n",
       "    $(\"input#capture\").val(\"\");\n",
       "\n",
       "}else if (e.which == 49){\n",
       "    \n",
       "    set_label(1);\n",
       "    $(\"input#capture\").val(\"\");\n",
       "\n",
       "}\n",
       "});\n",
       "    \n",
       "load_next_tweet();\n",
       "</script>"
      ]
     },
     "execution_count": 0,
     "metadata": {},
     "output_type": "execute_result"
    }
   ],
   "source": [
    "%%html\n",
    "\n",
    "<div name=\"tweetbox\">\n",
    "Instructions: Click in textbox. Enter a 1 if the tweet is\n",
    "relevant, enter 0 otherwise.<br>\n",
    "Tweet: <div id=\"tweet_text\" value=\"text\"></div><br>\n",
    "<input type=text id=\"capture\"></input><br>\n",
    "</div>\n",
    "\n",
    "<script language=\"JavaScript\" type=\"text/javascript\" >\n",
    "\n",
    "function set_label(label){\n",
    "var kernel = IPython.notebook.kernel;\n",
    "kernel.execute(\"labels.append(\" + label + \")\");\n",
    "load_next_tweet();\n",
    "}\n",
    "\n",
    "function load_next_tweet(){\n",
    "var code_input = \"get_next_tweet()\";\n",
    "var kernel = IPython.notebook.kernel;\n",
    "var callbacks = { 'iopub' : {'output' : handle_output}};\n",
    "kernel.execute(code_input, callbacks, {silent:false});\n",
    "}\n",
    "\n",
    "function handle_output(out){\n",
    "var res = out.content.data[\"text/plain\"];\n",
    "$(\"div#tweet_text\").html(res);\n",
    "}\n",
    "\n",
    "$(\"input#capture\").keypress(function(e) {\n",
    "if(e.which == 48) {\n",
    "    \n",
    "    set_label(0);\n",
    "    $(\"input#capture\").val(\"\");\n",
    "\n",
    "}else if (e.which == 49){\n",
    "    \n",
    "    set_label(1);\n",
    "    $(\"input#capture\").val(\"\");\n",
    "\n",
    "}\n",
    "});\n",
    "    \n",
    "load_next_tweet();\n",
    "</script>"
   ]
  },
  {
   "cell_type": "code",
   "execution_count": null,
   "metadata": {},
   "outputs": [],
   "source": [
    "\n",
    "print(len(labels))"
   ]
  },
  {
   "cell_type": "code",
   "execution_count": 107,
   "metadata": {},
   "outputs": [],
   "source": [
    "with open(classes_filename, 'w') as outf:\n",
    "    json.dump(labels, outf)"
   ]
  },
  {
   "cell_type": "code",
   "execution_count": 119,
   "metadata": {},
   "outputs": [
    {
     "metadata": {},
     "text": [
      "<IPython.core.display.Javascript at 0x10562f438>"
     ]
    }
   ],
   "source": [
    "# %%javascript\n",
    "# \n",
    "# \n",
    "# function set_label(label){\n",
    "#     var kernel = IPython.notebook.kernel;\n",
    "#     kernel.execute(\"labels.append(\" + label + \")\");\n",
    "#     load_next_tweet();\n",
    "# }\n",
    "# \n",
    "# function load_next_tweet(){\n",
    "#    var code_input = \"get_tweet()\";\n",
    "#    var kernel = IPython.notebook.kernel;\n",
    "#    var callbacks = { 'iopub' : {'output' : handle_output}};\n",
    "#    kernel.execute(code_input, callbacks, {silent:false});\n",
    "# }\n",
    "# \n",
    "# function handle_output(out){\n",
    "#    console.log(out);\n",
    "#    var res = out.content.data[\"text/plain\"];\n",
    "#    $(\"div#tweet_text\").html(res);\n",
    "# }\n"
   ]
  },
  {
   "cell_type": "code",
   "execution_count": 120,
   "metadata": {},
   "outputs": [
    {
     "data": {
      "text/html": [
       "<div name=\"tweetbox\">\n",
       "    Instructions: Click in text box. Enter a 1 if the tweet is relevant, enter 0 otherwise.<br>\n",
       "    Tweet: <div id=\"tweet_text\" value=\"text\"></div><br>\n",
       "    <input type=text id=\"capture\"></input><br>\n",
       "</div>\n",
       "<script>\n",
       "$(\"input#capture\").keypress(function(e) {\n",
       "    console.log(e);\n",
       "  if(e.which == 48) {\n",
       "    // 0 pressed\n",
       "    set_notuseful();\n",
       "    $(\"input#capture\").val(\"\");\n",
       "  }else if (e.which == 49){\n",
       "    // 1 pressed\n",
       "    set_useful();  \n",
       "    $(\"input#capture\").val(\"\");\n",
       "  }\n",
       "});\n",
       "\n",
       "load_next_tweet();\n",
       "</script>"
      ],
      "text/plain": []
     },
     "metadata": {},
     "output_type": "execute_result"
    }
   ],
   "source": [
    "# %%html\n",
    "# <div name=\"tweetbox\">\n",
    "#     Instructions: Click in text box. Enter a 1 if the tweet is relevant, enter 0 otherwise.<br>\n",
    "#     Tweet: <div id=\"tweet_text\" value=\"text\"></div><br>\n",
    "#     <input type=text id=\"capture\"></input><br>\n",
    "# </div>\n",
    "# <script>\n",
    "# $(\"input#capture\").keypress(function(e) {\n",
    "#     console.log(e);\n",
    "#   if(e.which == 48) {\n",
    "#     // 0 pressed\n",
    "#     set_label(0);\n",
    "#     $(\"input#capture\").val(\"\");\n",
    "#   }else if (e.which == 49){\n",
    "#     // 1 pressed\n",
    "#     set_label(1);  \n",
    "#     $(\"input#capture\").val(\"\");\n",
    "#   }\n",
    "# });\n",
    "# \n",
    "# load_next_tweet();\n",
    "# </script>"
   ]
  },
  {
   "cell_type": "code",
   "execution_count": 93,
   "metadata": {},
   "outputs": [],
   "source": []
  }
 ],
 "metadata": {
  "name": "",
  "signature": "sha256:bedd2d93552b56f12dfc316010dc889b286a3ae6dad17066f6067cfe5a3cc22c"
 },
 "nbformat": 4,
 "nbformat_minor": 0
}
